{
 "cells": [
  {
   "cell_type": "markdown",
   "metadata": {},
   "source": [
    "<h1>Example validation script</h1>\n",
    "<p>In this notebook we walk you through the steps of validating your point predictions and pdfs. We will use the same codes that will be used in the final validation stage. </p>\n",
    "<p>First, ensure that your repo is up to date, by running this command</p>\n",
    "<code>cd /path/to/photoz-wg/</code>\n",
    "\n",
    "Followed by \n",
    "\n",
    "<code>git pull</code>\n",
    "\n",
    "<h3>The validation script</h3>\n",
    "<p>The validation script is found in the validation directory. You may ignore this notebook, and call the validation script directly from the directory (or anywhere if you add the directory to your path variable). This will instantly check that your file is well formed, and then perform all the standard tests, and output the scores.</p>\n",
    "\n",
    "usage like\n",
    "\n",
    "\n",
    "<code>%>photoz_metrics.py data/PointPredictions1.fits</code>\n",
    "\n",
    "\n",
    "or to do many pdfs predictions at a time\n",
    "\n",
    "<code>%>photoz_metrics.py data/pdfPredictions*.hdf5</code>\n",
    "\n",
    "\n",
    "or a mix of the two, many point prediction files, and many pdf files\n",
    "\n",
    "<code>%>photoz_metrics.py data/pdfPredictions\\*.hdf5 data/PointPredictions\\*.fits</code>\n",
    "\n",
    "\n",
    "\n",
    "or you can make more fine tuned validations using a configuration YaML file\n",
    "\n",
    "\n",
    "<code>%>photoz_metrics.py config.yaml </code>\n",
    "\n",
    "\n",
    "\n",
    "<h4>help file</h4>\n",
    "If your just call it like this:\n",
    "\n",
    "<code>%>photoz_metrics.py</code> \n",
    "\n",
    "\n",
    "\n",
    "We will write a example YaML file to the working directory.\n",
    "\n",
    "<h3>The validation code</h3>\n",
    "<p>Dependecies, pandas, astropy, pyYaml</p>"
   ]
  },
  {
   "cell_type": "code",
   "execution_count": 1,
   "metadata": {
    "collapsed": true
   },
   "outputs": [],
   "source": [
    "#some dependencies. We'll need YAML (pip install pyYaml)\n",
    "import numpy as np\n",
    "import sys\n",
    "import os\n",
    "import yaml\n",
    "\n",
    "#what is the path to DES photo-z wg bucket/validation?\n",
    "#for Ben this is:\n",
    "#modify this for your system\n",
    "path_bh = '/Users/hoyleb/Documents/python/modules/photoz-wg/validation/'\n",
    "\n",
    "sys.path.append(path_bh)\n",
    "\n",
    "import bh_photo_z_validation as pval"
   ]
  },
  {
   "cell_type": "markdown",
   "metadata": {},
   "source": [
    "<h3>Load the point predictions files</h3>\n",
    "<p>We assume that you already have the data in the correct format. This means it has the required point prediction redshift estimates, and Z_SPEC, and COADD_OBJECTS_ID and MAG_DETMODEL_I. We will now perform some \"unit-tests\" to ensure this.</p>\n",
    "\n",
    "<p>In fact, in the code, we identify all the columnns that will be used in the specified tests, and check for their existence too!</p>"
   ]
  },
  {
   "cell_type": "code",
   "execution_count": 2,
   "metadata": {
    "collapsed": false
   },
   "outputs": [
    {
     "name": "stdout",
     "output_type": "stream",
     "text": [
      "COADD_OBJECTS_ID MAG_DETMODEL_I    WEIGHTS     ...     Z_SPEC          Z_MC    \n",
      "---------------- -------------- -------------- ... -------------- -------------\n",
      "               0  28.4614999009 0.682429573368 ...  1.00980074869  1.1448526257\n",
      "               1  21.2833863978 0.768361144098 ... 0.968598671913 1.61458159011\n"
     ]
    }
   ],
   "source": [
    "#change this to your fits file path\n",
    "pointPredictionFitsPath = path_bh + 'tests/data/validPointPrediction.fits'\n",
    "\n",
    "require_cols = ['Z_SPEC', 'COADD_OBJECTS_ID', 'MAG_DETMODEL_I', 'Z_MC']\n",
    "\n",
    "okay, dataFrame = pval.valid_file(pointPredictionFitsPath, require_cols)\n",
    "if okay is False:\n",
    "    print \"the file is not in the correct format\"\n",
    "    print \"erorr message: \" + dataFrame\n",
    "print dataFrame[0:2]"
   ]
  },
  {
   "cell_type": "markdown",
   "metadata": {},
   "source": [
    "<h3>Define the tests</h3>\n",
    "<p>We next will build a test. We write each test as a really lovely YaML file. YaML is desgined to be easy for humans to read. You'll understand how easy each test becomes, in a few seconds. </p>\n",
    "\n",
    "<p>Each test determines which metrics (such as $\\sigma_{68}$ or the K-S test) will be measured, and optionally if we want to measure the metric by binning the data along one of the columns, e.g. if we want to bin along MAG_DETMODEL_I. We can also decide to set an allowed \"tolerance\", this informs us if the tests passed with the required precision</p>\n",
    "\n",
    "<p>You don't need to write any tests if you don't want to. The standard ones are included already when you run the script from the command line. Below I shown an exmaple of what a test looks like. You can include as many tests, from as many sources as you like. Each test it it's own yaml file.</p>\n",
    "\n",
    "<p>The base tests can be found here </p>\n",
    "\n",
    "<code>%>ls photoz-wg/validation/testConfig/*.yaml</code>\n",
    "\n",
    "And looks like this: [The comments '#' are also included in the file, for easy reading!]\n",
    "\n",
    "===== begin YaML file =======\n",
    "\n",
    "#paths to file locations. will assume '.fits' as point predictions '.hdf5' as pdf predictions, add more files to list to compare multiple files\n",
    "\n",
    "\n",
    "filePaths: ['tests/data/validPointPrediction.fits', 'tests/data/validHDF.hdf5']\n",
    "\n",
    "#Which metrics and tolerance should we measure either a list of metrics, such as and or a precomputed collection of group metrics and tolerances set blank, or delete this line to not use these preconfigured metrics/bins/tolerances\n",
    "\n",
    "standardPredictions: [/testConfig/photoz.yaml, /testConfig/weak_lensing.yaml]\n",
    "\n",
    "#what will the path/ and or/base file name of the results be called?\n",
    "\n",
    "resultsFilePrefix: myResultsOutput\n",
    "\n",
    "#And or / additionally choose your own metrics, as list\n",
    "#remove these if not required\n",
    "#these are the point prediction tests\n",
    "\n",
    "point:\n",
    "    \n",
    "    #which photo-z predictions do we want to test\n",
    "    predictions: [MODE_Z, MEAN_Z, Z_MC]\n",
    "    \n",
    "    #what is the true redshift that we will compare with?\n",
    "    truths: Z_SPEC\n",
    "    \n",
    "    #should we calculated weighted metrics where available?\n",
    "    weights: WEIGHTS\n",
    "\n",
    "    #what metrics do we want to measure. \"numpy.std\" is the standard deviation from numpy\n",
    "    \n",
    "    # and \"bh_photo_z_validation.sigma_68\" is the sigma_68 metric found in the bh_photo_z_validation.py file\n",
    "    \n",
    "    metrics: [numpy.std, numpy.median, bh_photo_z_validation.sigma_68, bh_photo_z_validation.outlier_fraction]\n",
    "    \n",
    "    #do we want to assign an accetable tolerance to each of these tests?\n",
    "    tolerance: [0.4, 0.001, 0.02, 5]\n",
    "    \n",
    "    #Finally do we want to also measure the metrics in some \"bins\".\n",
    "    #we define the column_name: 'string of bins / string of function that makes bins'\n",
    "    bins: [MAG_DETMODEL_I: '[10, 15, 20, 25, 30]', MODE_Z: 'numpy.linspace(0, 2, 20)']\n",
    "\n",
    "    #Should we calculate errors on each metric? if yes state how\n",
    "    #you can include as many different error functions as you like.\n",
    "    error_function: [bh_photo_z_validation.bootstrap_mean_error]\n",
    "\n",
    "#these are the pdf tests\n",
    "\n",
    "pdf: \n",
    "    #we can examine individual redshift pdfs against a truth value. Remove this part if you don't want this\n",
    "    individual:\n",
    "        truths: Z_SPEC\n",
    "        \n",
    "        #one statistic is calcualted in bh_photo_z_validation.py eval_pdf_point(), add your own at will.\n",
    "        metrics: [bh_photo_z_validation.eval_pdf_point]\n",
    "        bins: [MAG_DETMODEL_I: '[ 17.5, 19, 22, 25]']\n",
    "        tolerance: [0.7, 20]\n",
    "        #shall we use weights when calculating metrics, if so specify here.\n",
    "        weights: WEIGHTS\n",
    "\n",
    "    #or shall we compare against stacked pdfs\n",
    "    stacks:\n",
    "        truths: Z_SPEC\n",
    "        #we convert truths to a distribution by choosing these bins\n",
    "        truth_bins: [Z_SPEC: 'numpy.linspace(0, 2, 4)']\n",
    "\n",
    "        #which additional bins shall we use to measure metrics in?\n",
    "        metric_bins: [MAG_DETMODEL_I: '[ 17.5, 19, 22, 25]']\n",
    "        \n",
    "        #which pdf/ distribution comparison metrics should we measure \n",
    "        metrics: [bh_photo_z_validation.kstest, bh_photo_z_validation.npoisson, bh_photo_z_validation.log_loss]\n",
    "        tolerance: [0.7, 20]\n",
    "        #shall we use weights when calculating metrics, if so specify here.\n",
    "        weights: WEIGHTS\n",
    "===== end YaML file =======\n",
    "\n",
    "You see that we have now defined a set of tests for both point predictions, and pdfs.\n",
    "\n",
    "\n",
    "<h3>Loading the tests</h3>\n",
    "<p>We load the tests like this!</p>"
   ]
  },
  {
   "cell_type": "code",
   "execution_count": 3,
   "metadata": {
    "collapsed": false,
    "scrolled": true
   },
   "outputs": [
    {
     "name": "stdout",
     "output_type": "stream",
     "text": [
      "{'pdf': {'individual': {'metrics': ['bh_photo_z_validation.eval_pdf_point'], 'truths': 'Z_SPEC', 'metric_bins': [{'MAG_DETMODEL_I': '[ 17.5, 19, 22, 25]'}], 'tolerance': [0.7, 20], 'weights': 'WEIGHTS'}, 'stacks': {'metrics': ['bh_photo_z_validation.kstest', 'bh_photo_z_validation.npoisson', 'bh_photo_z_validation.log_loss'], 'metric_bins': [{'MAG_DETMODEL_I': '[ 17.5, 19, 22, 25]'}], 'weights': 'WEIGHTS', 'truth_bins': [{'Z_SPEC': 'numpy.linspace(0, 2, 4)'}], 'tolerance': [0.7, 20], 'truths': 'Z_SPEC'}}, 'point': {'metrics': ['numpy.std', 'numpy.median', 'bh_photo_z_validation.sigma_68', 'bh_photo_z_validation.outlier_fraction'], 'weights': 'WEIGHTS', 'error_function': ['bh_photo_z_validation.bootstrap_mean_error'], 'tolerance': [0.4, 0.001, 0.02, 5], 'truths': 'Z_SPEC', 'predictions': ['MODE_Z', 'MEAN_Z', 'Z_MC'], 'bins': [{'MAG_DETMODEL_I': '[ 17.5, 19, 22, 25]'}, {'MODE_Z': 'numpy.linspace(0, 2, 4)'}]}}\n",
      "\n",
      "Example of extracting a statistic to measure\n",
      "\n",
      "numpy.median\n",
      "\n",
      "Example of which error we can assign to this metric\n",
      "\n",
      "bh_photo_z_validation.bootstrap_mean_error\n",
      "\n",
      "This means look in bh_photo_z_validation.py to see this function. You can add your own error function too!\n"
     ]
    }
   ],
   "source": [
    "testYamlPath = path_bh + 'testConfig/photoz.yaml'\n",
    "testConfig = yaml.load(open(testYamlPath, 'r'))\n",
    "\n",
    "#the YaML file is parsed nicely to a python dictionary!\n",
    "print testConfig\n",
    "print \"\\nExample of extracting a statistic to measure\\n\"\n",
    "print testConfig['point']['metrics'][1]\n",
    "print \"\\nExample of which error we can assign to this metric\\n\"\n",
    "print testConfig['point']['error_function'][0]\n",
    "\n",
    "print \"\\nThis means look in bh_photo_z_validation.py to see this function. You can add your own error function too!\""
   ]
  },
  {
   "cell_type": "markdown",
   "metadata": {},
   "source": [
    "<h3>YaML corrupt?</h3>\n",
    "<p>If your YaML file doesn't work, copy and check it here: http://yaml-online-parser.appspot.com\n",
    "\n",
    "<h3>Running a test for point predictions</h3>\n",
    "<p>Now we can play some testing magic. One thing to note, is they Python is <b>friggin</b> awesome. Remember we wrote the metric like this: 'bh_photo_z_validation.sigma_68', well we can turn this into an executable using a function found in bh_photo_z_validation.py called get_function(). We'll see this in the below.</p>"
   ]
  },
  {
   "cell_type": "code",
   "execution_count": 4,
   "metadata": {
    "collapsed": false
   },
   "outputs": [
    {
     "name": "stdout",
     "output_type": "stream",
     "text": [
      " \n",
      "\n",
      "using file: /Users/hoyleb/Documents/python/modules/photoz-wg/validation/tests/data/validPointPrediction.fits\n",
      "point prediction: MODE_Z\n",
      "we measure the statistic: std\n",
      "and get the value: 0.254437821905 [or error and mean from bootstrap] {'sigma': 0.0045411716404448535, 'mean': 0.25293282672424039}\n",
      "This bettter than expected!\n",
      " \n",
      "\n",
      "using file: /Users/hoyleb/Documents/python/modules/photoz-wg/validation/tests/data/validPointPrediction.fits\n",
      "point prediction: MODE_Z\n",
      "we measure the statistic: median\n",
      "and get the value: 0.187183839678 [or error and mean from bootstrap] {'sigma': 0.0089605536732132625, 'mean': 0.18379662698786731}\n",
      "This is worse than expected!\n",
      " \n",
      "\n",
      "using file: /Users/hoyleb/Documents/python/modules/photoz-wg/validation/tests/data/validPointPrediction.fits\n",
      "point prediction: MODE_Z\n",
      "we measure the statistic: sigma_68\n",
      "and get the value: 0.278159006702 [or error and mean from bootstrap] {'sigma': 0.0074230176208607427, 'mean': 0.27710315471384972}\n",
      "This is worse than expected!\n",
      " \n",
      "\n",
      "using file: /Users/hoyleb/Documents/python/modules/photoz-wg/validation/tests/data/validPointPrediction.fits\n",
      "point prediction: MODE_Z\n",
      "we measure the statistic: outlier_fraction\n",
      "and get the value: 65.5 [or error and mean from bootstrap] {'sigma': 1.4559023166255214, 'mean': 64.985333333333358}\n",
      "This is worse than expected!\n",
      " \n",
      "\n",
      "using file: /Users/hoyleb/Documents/python/modules/photoz-wg/validation/tests/data/validPointPrediction.fits\n",
      "point prediction: MEAN_Z\n",
      "we measure the statistic: std\n",
      "and get the value: 0.264568593323 [or error and mean from bootstrap] {'sigma': 0.0044059317817196839, 'mean': 0.26554604812513039}\n",
      "This bettter than expected!\n",
      " \n",
      "\n",
      "using file: /Users/hoyleb/Documents/python/modules/photoz-wg/validation/tests/data/validPointPrediction.fits\n",
      "point prediction: MEAN_Z\n",
      "we measure the statistic: median\n",
      "and get the value: 0.176200208222 [or error and mean from bootstrap] {'sigma': 0.012113348265664514, 'mean': 0.17897438284650766}\n",
      "This is worse than expected!\n",
      " \n",
      "\n",
      "using file: /Users/hoyleb/Documents/python/modules/photoz-wg/validation/tests/data/validPointPrediction.fits\n",
      "point prediction: MEAN_Z\n",
      "we measure the statistic: sigma_68\n",
      "and get the value: 0.299140254891 [or error and mean from bootstrap] {'sigma': 0.0058508402429956214, 'mean': 0.3016244001230195}\n",
      "This is worse than expected!\n",
      " \n",
      "\n",
      "using file: /Users/hoyleb/Documents/python/modules/photoz-wg/validation/tests/data/validPointPrediction.fits\n",
      "point prediction: MEAN_Z\n",
      "we measure the statistic: outlier_fraction\n",
      "and get the value: 67.0 [or error and mean from bootstrap] {'sigma': 1.5073657670106311, 'mean': 67.631333333333345}\n",
      "This is worse than expected!\n",
      " \n",
      "\n",
      "using file: /Users/hoyleb/Documents/python/modules/photoz-wg/validation/tests/data/validPointPrediction.fits\n",
      "point prediction: Z_MC\n",
      "we measure the statistic: std\n",
      "and get the value: 0.256156232311 [or error and mean from bootstrap] {'sigma': 0.004954258843662805, 'mean': 0.25854752868044073}\n",
      "This bettter than expected!\n",
      " \n",
      "\n",
      "using file: /Users/hoyleb/Documents/python/modules/photoz-wg/validation/tests/data/validPointPrediction.fits\n",
      "point prediction: Z_MC\n",
      "we measure the statistic: median\n",
      "and get the value: 0.194454676624 [or error and mean from bootstrap] {'sigma': 0.014414039050670274, 'mean': 0.19549911537135387}\n",
      "This is worse than expected!\n",
      " \n",
      "\n",
      "using file: /Users/hoyleb/Documents/python/modules/photoz-wg/validation/tests/data/validPointPrediction.fits\n",
      "point prediction: Z_MC\n",
      "we measure the statistic: sigma_68\n",
      "and get the value: 0.284050437488 [or error and mean from bootstrap] {'sigma': 0.0082311283409983761, 'mean': 0.28543804616931906}\n",
      "This is worse than expected!\n",
      " \n",
      "\n",
      "using file: /Users/hoyleb/Documents/python/modules/photoz-wg/validation/tests/data/validPointPrediction.fits\n",
      "point prediction: Z_MC\n",
      "we measure the statistic: outlier_fraction\n",
      "and get the value: 67.5 [or error and mean from bootstrap] {'sigma': 1.5677478538761684, 'mean': 66.790000000000006}\n",
      "This is worse than expected!\n"
     ]
    }
   ],
   "source": [
    "pointTestConfig = testConfig['point']\n",
    "for eachPointPrediction in pointTestConfig['predictions']:\n",
    "    #let's calcalate the redshift scaled residuals Deltaz = (z - photz) / (1 + z)\n",
    "    deltaz_1pz = pval.delta_z_1pz(dataFrame[pointTestConfig['truths']], dataFrame[eachPointPrediction])\n",
    "    \n",
    "    #are we adding weights to each galaxy prediction?\n",
    "    weights = dataFrame[pointTestConfig['weights']]\n",
    "    \n",
    "    #now let's calculate the value of each chosen metric\n",
    "    for i, eachMetric in enumerate(pointTestConfig['metrics']):\n",
    "        \n",
    "        #amazing metric string to function conversion. \n",
    "        #Add your own functions by putting them in bh_photo_z_validation.py\n",
    "        metric_function = pval.get_function(eachMetric)\n",
    "        metric_value =  metric_function(deltaz_1pz)\n",
    "        \n",
    "        #no add our generic error function, we'll need weights for this\n",
    "        error_function = pval.get_function(pointTestConfig['error_function'][0])\n",
    "        \n",
    "        error_value = error_function(deltaz_1pz, weights, metric_function)\n",
    "        \n",
    "        print \" \\n\"\n",
    "        print \"using file: \" + pointPredictionFitsPath \n",
    "        print \"point prediction: \" + eachPointPrediction \n",
    "        print \"we measure the statistic: \" + eachMetric.split('.')[-1] \n",
    "        print \"and get the value: \" + str(metric_value) + \" [or error and mean from bootstrap]\", error_value\n",
    "        if metric_value < pointTestConfig['tolerance'][i]:\n",
    "            print \"This bettter than expected!\"\n",
    "        else:\n",
    "            print \"This is worse than expected!\"\n",
    "\n",
    "# All the results of these tests will be printed to the screen below"
   ]
  },
  {
   "cell_type": "markdown",
   "metadata": {
    "collapsed": true
   },
   "source": [
    "<h2>pdf tests</h2>\n",
    "<p>Now let's turn our attention to the pdf tests. Let's load them and look at them.</p>"
   ]
  },
  {
   "cell_type": "code",
   "execution_count": 5,
   "metadata": {
    "collapsed": false
   },
   "outputs": [
    {
     "name": "stdout",
     "output_type": "stream",
     "text": [
      "{'individual': {'metrics': ['bh_photo_z_validation.eval_pdf_point'], 'truths': 'Z_SPEC', 'metric_bins': [{'MAG_DETMODEL_I': '[ 17.5, 19, 22, 25]'}], 'tolerance': [0.7, 20], 'weights': 'WEIGHTS'}, 'stacks': {'metrics': ['bh_photo_z_validation.kstest', 'bh_photo_z_validation.npoisson', 'bh_photo_z_validation.log_loss'], 'metric_bins': [{'MAG_DETMODEL_I': '[ 17.5, 19, 22, 25]'}], 'weights': 'WEIGHTS', 'truth_bins': [{'Z_SPEC': 'numpy.linspace(0, 2, 4)'}], 'tolerance': [0.7, 20], 'truths': 'Z_SPEC'}}\n"
     ]
    }
   ],
   "source": [
    "pdfTestConfig = testConfig['pdf']\n",
    "print pdfTestConfig"
   ]
  },
  {
   "cell_type": "markdown",
   "metadata": {
    "collapsed": true
   },
   "source": [
    "<h3>Load pdf data</h3>\n",
    "<p>Lets load some data, and check that the data file is valid, and contains the columns we will be using.</p>"
   ]
  },
  {
   "cell_type": "code",
   "execution_count": 6,
   "metadata": {
    "collapsed": false
   },
   "outputs": [
    {
     "name": "stdout",
     "output_type": "stream",
     "text": [
      "   COADD_OBJECTS_ID  pdf_0.0  pdf_0.00666666666667  pdf_0.0133333333333  \\\n",
      "0                 0        0                     0                    0   \n",
      "\n",
      "   pdf_0.02  pdf_0.0266666666667  pdf_0.0333333333333  pdf_0.04  \\\n",
      "0         0                    0                    0         0   \n",
      "\n",
      "   pdf_0.0466666666667  pdf_0.0533333333333       ...        \\\n",
      "0                    0                    0       ...         \n",
      "\n",
      "   pdf_1.95333333333  pdf_1.96  pdf_1.96666666667  pdf_1.97333333333  \\\n",
      "0                  0         0                  0                  0   \n",
      "\n",
      "   pdf_1.98  pdf_1.98666666667  pdf_1.99333333333   Z_SPEC    WEIGHT  \\\n",
      "0         0                  0                  0  1.11411  0.000687   \n",
      "\n",
      "   MAG_DETMODEL_I  \n",
      "0       17.914148  \n",
      "\n",
      "[1 rows x 304 columns]\n"
     ]
    }
   ],
   "source": [
    "pdfPredictionFitsPath = path_bh + 'tests/data/validHDF.hdf5'\n",
    "\n",
    "require_cols = ['Z_SPEC', 'COADD_OBJECTS_ID', 'MAG_DETMODEL_I']\n",
    "\n",
    "okay, dataFrame = pval.valid_file(pdfPredictionFitsPath, require_cols)\n",
    "if okay is False:\n",
    "    print \"the file is not in the correct format\"\n",
    "    print \"erorr message: \" + dataFrame\n",
    "print dataFrame[0:1]"
   ]
  },
  {
   "cell_type": "markdown",
   "metadata": {},
   "source": [
    "<h3>pdf array</h3>\n",
    "Let's extract the pdfs as an N-darray of shape (ngals, nbins).\n",
    "\n",
    "We also have access to the bin edges using the pdf_key valus<p>"
   ]
  },
  {
   "cell_type": "code",
   "execution_count": 7,
   "metadata": {
    "collapsed": false
   },
   "outputs": [
    {
     "name": "stdout",
     "output_type": "stream",
     "text": [
      "pdf bin cols ['pdf_0.0', 'pdf_0.00666666666667', 'pdf_0.0133333333333']\n",
      "pdf bin centers [ 0.          0.00666667  0.01333333]\n"
     ]
    }
   ],
   "source": [
    "zcols = [c for c in dataFrame.keys() if 'pdf_' in c]\n",
    "print \"pdf bin cols\", zcols[0:3]\n",
    "zbins = np.array([float(c.split('f_')[-1]) for c in zcols])\n",
    "print \"pdf bin centers\", zbins[0:3]"
   ]
  },
  {
   "cell_type": "code",
   "execution_count": 8,
   "metadata": {
    "collapsed": false
   },
   "outputs": [],
   "source": [
    "pdfs = np.array(dataFrame[zcols])"
   ]
  },
  {
   "cell_type": "markdown",
   "metadata": {},
   "source": [
    "<h3>Applying some tests</h3>\n",
    "Let's apply some test. First let's stack all pdfs and plot them against the Z_SPEC dist. (note, this is all random data, so don't expect a correlation!). We'll use tools found in bh_photo_z_validation.py to do all the heavy lifting"
   ]
  },
  {
   "cell_type": "code",
   "execution_count": 9,
   "metadata": {
    "collapsed": false
   },
   "outputs": [],
   "source": [
    "#stack all pdfs across all gals\n",
    "stackedPdf = pval.stackpdfs(pdfs)\n",
    "\n",
    "#normalise this stack\n",
    "normStackedPdf = pval.normalisepdfs(stackedPdf, zbins)\n",
    "\n",
    "#make df for Z_SPEC #numpy.histogram needs the final bin edge\n",
    "dndz = np.histogram(dataFrame['Z_SPEC'], bins=np.append(zbins,2))[0]*1.0\n",
    "z_pdf = pval.normalisepdfs(dndz, zbins)\n"
   ]
  },
  {
   "cell_type": "code",
   "execution_count": 10,
   "metadata": {
    "collapsed": false
   },
   "outputs": [
    {
     "data": {
      "text/plain": [
       "<matplotlib.legend.Legend at 0x11446c950>"
      ]
     },
     "execution_count": 10,
     "metadata": {},
     "output_type": "execute_result"
    },
    {
     "data": {
      "image/png": "[encoded data removed]",
      "text/plain": [
       "<matplotlib.figure.Figure at 0x113102e10>"
      ]
     },
     "metadata": {},
     "output_type": "display_data"
    }
   ],
   "source": [
    "%matplotlib inline\n",
    "import matplotlib.pyplot as plt\n",
    "plt.plot(zbins, z_pdf, label='z_pdf (random)')\n",
    "plt.plot(zbins, normStackedPdf, label='normStackedPdf (random)')\n",
    "plt.title('Using random test data')\n",
    "plt.xlabel('redshift')\n",
    "plt.ylabel('pdf')\n",
    "plt.legend()"
   ]
  },
  {
   "cell_type": "markdown",
   "metadata": {},
   "source": [
    "<h3>Rubbish results?</h3>\n",
    "<p>Yes! As expected, we are just using some meaningless, random, made up data.</p>\n",
    "<p>Let's continue with the tutorial and perform some other comparisons on these (meaningless) distributions!</p>\n",
    "<p>Let's find how much of each galaxy's pdf sits within some bin.<p>"
   ]
  },
  {
   "cell_type": "code",
   "execution_count": 11,
   "metadata": {
    "collapsed": false
   },
   "outputs": [],
   "source": [
    "pdf_in_int = pval.integrate_dist_bin(pdfs,zbins, 0.1, 0.3)"
   ]
  },
  {
   "cell_type": "markdown",
   "metadata": {},
   "source": [
    "<p>Now, let's plot a few of those with lots of pdf in the bin</p>"
   ]
  },
  {
   "cell_type": "code",
   "execution_count": 12,
   "metadata": {
    "collapsed": false
   },
   "outputs": [
    {
     "data": {
      "text/plain": [
       "(0, 0.5)"
      ]
     },
     "execution_count": 12,
     "metadata": {},
     "output_type": "execute_result"
    },
    {
     "data": {
      "image/png": "[encoded data removed]",
      "text/plain": [
       "<matplotlib.figure.Figure at 0x1143a61d0>"
      ]
     },
     "metadata": {},
     "output_type": "display_data"
    }
   ],
   "source": [
    "i = pdf_in_int > 0.95\n",
    "for j in range(4):\n",
    "    plt.plot(zbins, pdfs[i][j])\n",
    "plt.plot([0.1,0.1], [0,200], '--b')\n",
    "plt.plot([0.3,0.3], [0,200], '--b')\n",
    "plt.xlabel('z')\n",
    "plt.xlim(0,0.5)"
   ]
  },
  {
   "cell_type": "markdown",
   "metadata": {},
   "source": [
    "and plot a few with only a little weight in the bin"
   ]
  },
  {
   "cell_type": "code",
   "execution_count": 13,
   "metadata": {
    "collapsed": false
   },
   "outputs": [
    {
     "data": {
      "text/plain": [
       "(0.08, 0.35)"
      ]
     },
     "execution_count": 13,
     "metadata": {},
     "output_type": "execute_result"
    },
    {
     "data": {
      "image/png": "[encoded data removed]",
      "text/plain": [
       "<matplotlib.figure.Figure at 0x1143a65d0>"
      ]
     },
     "metadata": {},
     "output_type": "display_data"
    }
   ],
   "source": [
    "i = (pdf_in_int > 0.1) * (pdf_in_int < 0.5)\n",
    "for j in range(4):\n",
    "    plt.plot(zbins, pdfs[i][j])\n",
    "plt.plot([0.1,0.1], [0,150], '--b')\n",
    "plt.plot([0.3,0.3], [0,150], '--b')\n",
    "plt.xlabel('z')\n",
    "plt.xlim(0.08,0.35)"
   ]
  },
  {
   "cell_type": "code",
   "execution_count": null,
   "metadata": {
    "collapsed": true
   },
   "outputs": [],
   "source": []
  }
 ],
 "metadata": {
  "kernelspec": {
   "display_name": "Python 2",
   "language": "python",
   "name": "python2"
  },
  "language_info": {
   "codemirror_mode": {
    "name": "ipython",
    "version": 2
   },
   "file_extension": ".py",
   "mimetype": "text/x-python",
   "name": "python",
   "nbconvert_exporter": "python",
   "pygments_lexer": "ipython2",
   "version": "2.7.6"
  }
 },
 "nbformat": 4,
 "nbformat_minor": 0
}
