{
 "cells": [
  {
   "cell_type": "code",
   "execution_count": null,
   "metadata": {
    "collapsed": true
   },
   "outputs": [],
   "source": [
    "\n",
    "import numpy as np\n",
    "%matplotlib inline\n",
    "import matplotlib.pyplot as plt\n",
    "import glob\n",
    "from astropy.table import Table\n",
    "from weighted_kde import gaussian_kde as gss_kde\n",
    "almost_black = '#262626'\n",
    "plt.rcParams['figure.figsize'] = (15, 8)\n",
    "plt.rcParams.update({'font.size': 32, \n",
    "                     'axes.linewidth': 5,\n",
    "                    'text.color': almost_black,\n",
    "                    'xtick.major.size': 4,\n",
    "                    'ytick.major.size': 4,\n",
    "                    'legend.fancybox': True,\n",
    "                    'figure.dpi': 300,\n",
    "                    'legend.fontsize': 16,\n",
    "                    'legend.framealpha': 0.8,\n",
    "                    'legend.shadow': True,\n",
    "                    'xtick.labelsize': 22,\n",
    "                    'ytick.labelsize': 22})\n"
   ]
  },
  {
   "cell_type": "code",
   "execution_count": null,
   "metadata": {
    "collapsed": true
   },
   "outputs": [],
   "source": [
    "zbins = np.linspace(0, 4.0, num = 100)"
   ]
  },
  {
   "cell_type": "code",
   "execution_count": null,
   "metadata": {
    "collapsed": false
   },
   "outputs": [],
   "source": [
    "for i,fi in enumerate(glob.glob('/Users/hoyleb/DATA/DES/PHOTOZ/RESAMPLE_VALIDATION/BPZ_COS_VALIDATION/*v1.probs.fits')):\n",
    "    d = Table.read(fi)\n",
    "    #print len(d['REDSHIFT'])\n",
    "    z = gss_kde(np.array(d['REDSHIFT'])).evaluate(zbins) \n",
    "    pz = gss_kde(np.array(d['Z_MC'])).evaluate(zbins) \n",
    "    \n",
    "    if i ==0:\n",
    "        plt.plot(zbins,z, '--',color='blue',alpha=1, linewidth=3, label='COSMOS-z')\n",
    "        plt.plot(zbins, pz, '-',color='red',alpha=1,linewidth=3, label='DES photo-z')\n",
    "\n",
    "    plt.plot(zbins,z, '--',color='blue',linewidth=3,alpha=0.1)\n",
    "    plt.plot(zbins, pz, '-',color='red',linewidth=3,alpha=0.1)\n",
    "plt.xlabel('Redshift')\n",
    "plt.legend()\n",
    "#plt.yscale('log')\n",
    "plt.title('Template-z')"
   ]
  },
  {
   "cell_type": "code",
   "execution_count": null,
   "metadata": {
    "collapsed": false
   },
   "outputs": [],
   "source": [
    "\n",
    "f=plt.figure()\n",
    "for i,fi in enumerate(glob.glob('/Users/hoyleb/DATA/DES/PHOTOZ/RESAMPLE_VALIDATION/COS_RESAMPLE_VALIDATION_Y1/*.point.predictions.fits')):\n",
    "    d = Table.read(fi)\n",
    "    #print len(d['REDSHIFT'])\n",
    "    z = gss_kde(np.array(d['REDSHIFT'])).evaluate(zbins) \n",
    "    pz = gss_kde(np.array(d['Z_MC'])).evaluate(zbins) \n",
    "    \n",
    "    if i ==0:\n",
    "        plt.plot(zbins, z, '--',color='blue',alpha=1, linewidth=3, label='COSMOS-z')\n",
    "        plt.plot(zbins, pz, '-',color='red',alpha=1,linewidth=3, label='DES photo-z')\n",
    "\n",
    "    plt.plot(zbins,z, '--',color='blue',linewidth=3,alpha=0.1)\n",
    "    plt.plot(zbins, pz, '-',color='red',linewidth=3,alpha=0.1)   \n",
    "plt.xlabel('Redshift')\n",
    "plt.xlabel('Redshift')\n",
    "plt.legend()\n",
    "#plt.yscale('log')\n",
    "plt.title('ML-z')\n"
   ]
  },
  {
   "cell_type": "code",
   "execution_count": null,
   "metadata": {
    "collapsed": false
   },
   "outputs": [],
   "source": [
    "import pandas as pd\n",
    "d = pd.read_hdf('/Users/hoyleb/DATA/DES/PHOTOZ/RESAMPLE_VALIDATION/COS_RESAMPLE_VALIDATION_Y1/RS_COS_99.v1sML_KDE_machine.v1.DES.pdf.hdf5', 'pdf')"
   ]
  },
  {
   "cell_type": "code",
   "execution_count": null,
   "metadata": {
    "collapsed": false
   },
   "outputs": [],
   "source": [
    "pdf_zbins = np.array([i for i in d.keys() if 'pdf_' in i])\n",
    "zbins = np.array( [i.split('_')[1] for i in pdf_zbins], dtype=float)\n",
    "print zbins"
   ]
  },
  {
   "cell_type": "code",
   "execution_count": null,
   "metadata": {
    "collapsed": false
   },
   "outputs": [],
   "source": [
    "pdfs = d[pdf_zbins].as_matrix()\n",
    "for i in np.random.choice(range(len(pdfs)), size=10, replace=False):\n",
    "    plt.plot(zbins, pdfs[i])"
   ]
  },
  {
   "cell_type": "code",
   "execution_count": null,
   "metadata": {
    "collapsed": false
   },
   "outputs": [],
   "source": []
  },
  {
   "cell_type": "code",
   "execution_count": null,
   "metadata": {
    "collapsed": true
   },
   "outputs": [],
   "source": []
  }
 ],
 "metadata": {
  "kernelspec": {
   "display_name": "Python 2",
   "language": "python",
   "name": "python2"
  },
  "language_info": {
   "codemirror_mode": {
    "name": "ipython",
    "version": 2
   },
   "file_extension": ".py",
   "mimetype": "text/x-python",
   "name": "python",
   "nbconvert_exporter": "python",
   "pygments_lexer": "ipython2",
   "version": "2.7.12"
  },
  "latex_envs": {
   "bibliofile": "biblio.bib",
   "cite_by": "apalike",
   "current_citInitial": 1,
   "eqLabelWithNumbers": true,
   "eqNumInitial": 0
  }
 },
 "nbformat": 4,
 "nbformat_minor": 0
}
