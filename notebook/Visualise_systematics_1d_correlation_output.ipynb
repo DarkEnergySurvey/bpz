{
 "cells": [
  {
   "cell_type": "markdown",
   "metadata": {},
   "source": [
    "<h1>Visualisation of 1-d correlation output script</h1>\n",
    "\n",
    "This notebook makes plots of the output yaml files created using:\n",
    "\n",
    "<code>%>photoz-wg/systematic_tests/one_d_correlate.py SomeFile.Fits</code>"
   ]
  },
  {
   "cell_type": "code",
   "execution_count": 41,
   "metadata": {
    "collapsed": true
   },
   "outputs": [],
   "source": [
    "import yaml\n",
    "import numpy as np\n",
    "%matplotlib inline\n",
    "import matplotlib.pyplot as plt\n",
    "import glob\n",
    "import seaborn as sns\n",
    "sns.set(style=\"white\")\n",
    "\n",
    "path_to_yaml_output_files = '/Users/hoyleb/Documents/python/modules/photoz-wg/systematic_tests/'"
   ]
  },
  {
   "cell_type": "markdown",
   "metadata": {},
   "source": [
    "<h2>Plotting stuff</h2>"
   ]
  },
  {
   "cell_type": "code",
   "execution_count": 39,
   "metadata": {
    "collapsed": true
   },
   "outputs": [],
   "source": [
    "almost_black = '#262626'\n",
    "plt.rcParams['figure.figsize'] = (10, 6)\n",
    "plt.rcParams.update({'font.size': 32, \n",
    "                     'axes.linewidth': 5,\n",
    "                    'text.color': almost_black,\n",
    "                    'xtick.major.size': 4,\n",
    "                    'ytick.major.size': 4,\n",
    "                    'legend.fancybox': True,\n",
    "                    'figure.dpi': 300,\n",
    "                    'legend.fontsize': 16,\n",
    "                    'legend.framealpha': 0.8,\n",
    "                    'legend.shadow': True,\n",
    "                    'xtick.labelsize': 22,\n",
    "                    'ytick.labelsize': 22})"
   ]
  },
  {
   "cell_type": "code",
   "execution_count": 40,
   "metadata": {
    "collapsed": false
   },
   "outputs": [
    {
     "ename": "AssertionError",
     "evalue": "Check the file path",
     "output_type": "error",
     "traceback": [
      "\u001b[0;31m---------------------------------------------------------------------------\u001b[0m",
      "\u001b[0;31mAssertionError\u001b[0m                            Traceback (most recent call last)",
      "\u001b[0;32m<ipython-input-40-129964710627>\u001b[0m in \u001b[0;36m<module>\u001b[0;34m()\u001b[0m\n\u001b[1;32m      1\u001b[0m \u001b[0mfiles\u001b[0m \u001b[0;34m=\u001b[0m \u001b[0mglob\u001b[0m\u001b[0;34m.\u001b[0m\u001b[0mglob\u001b[0m\u001b[0;34m(\u001b[0m\u001b[0mpath_to_yaml_output_files\u001b[0m \u001b[0;34m+\u001b[0m \u001b[0;34m'CorrelationResults_1d*.yaml'\u001b[0m\u001b[0;34m)\u001b[0m\u001b[0;34m\u001b[0m\u001b[0m\n\u001b[0;32m----> 2\u001b[0;31m \u001b[0;32massert\u001b[0m \u001b[0mlen\u001b[0m\u001b[0;34m(\u001b[0m\u001b[0mfiles\u001b[0m\u001b[0;34m)\u001b[0m \u001b[0;34m>\u001b[0m \u001b[0;36m0\u001b[0m\u001b[0;34m,\u001b[0m\u001b[0;34m'Check the file path'\u001b[0m\u001b[0;34m\u001b[0m\u001b[0m\n\u001b[0m",
      "\u001b[0;31mAssertionError\u001b[0m: Check the file path"
     ]
    }
   ],
   "source": [
    "files = glob.glob(path_to_yaml_output_files + 'CorrelationResults_1d*.yaml')\n",
    "assert len(files) > 0,'Check the file path'"
   ]
  },
  {
   "cell_type": "markdown",
   "metadata": {},
   "source": [
    "<h3>Loading in the data, and visualising it</h3>\n",
    "\n",
    "The output of the correlation script is complex, so let's extract the data we need. We'll store it in some arrays. Then we'll pass the NxN arrays to seaborn for nice plots.\n",
    "\n",
    "To save computation time, in the 1d_correlation_script, we only calcualte features correlations if i>=j."
   ]
  },
  {
   "cell_type": "code",
   "execution_count": 33,
   "metadata": {
    "collapsed": false
   },
   "outputs": [],
   "source": [
    "#load in the yaml files, and extract some items of interest\n",
    "for k, f1 in enumerate(files):\n",
    "    res = yaml.load(open(f1, 'r'))\n",
    "    #{'filename': dataFile, 'correlation_results': test_results, 'columns': cols, 'number_rows': Nrows}\n",
    "    \n",
    "    cols = res['columns']\n",
    "    \n",
    "    MIarr = np.zeros((len(cols), len(cols)))\n",
    "    KSarr = np.zeros((len(cols), len(cols)))\n",
    "    Parr = np.zeros((len(cols), len(cols)))\n",
    "    mask = np.zeros_like(MIarr, dtype=np.bool)\n",
    "    \n",
    "    for i, c1 in enumerate([c for c in cols if 'random' not in c]):\n",
    "        for j, c2 in enumerate(cols):\n",
    "            if j >= i:\n",
    "                MIarr[i,j] = res['correlation_results'][c1][c2]['MI']\n",
    "                KSarr[i,j] = res['correlation_results'][c1][c2]['KS']\n",
    "                Parr[i,j] = res['correlation_results'][c1][c2]['CC']\n",
    "                mask[i,j] = True\n",
    "                \n",
    "    #now plot the data\n",
    "    \n",
    "    #start with the Mutual Information\n",
    "    f, ax = plt.subplots(figsize=(11, 9))\n",
    "    cmap = sns.diverging_palette(220, 10, as_cmap=True)\n",
    "\n",
    "    sns.heatmap(MIarr, mask=mask, cmap=cmap, vmax=1.0,\n",
    "                square=True,\n",
    "                linewidths=.5, cbar_kws={\"shrink\": .5}, ax=ax, yticklabels=cols, xticklabels=cols)\n",
    "\n",
    "    # This sets the yticks \"upright\" with 0, as opposed to sideways with 90.\n",
    "    plt.yticks(rotation=0) \n",
    "    plt.title('MIC: ' + f1.split('/')[-1])\n",
    "    \n",
    "    #now the KS- statistic. 0 = perfect agreement, >0.1 not consistent with being drawn from the same parent population\n",
    "    f, ax = plt.subplots(figsize=(11, 9))\n",
    "    cmap = sns.diverging_palette(220, 10, as_cmap=True)\n",
    "\n",
    "    sns.heatmap(KSarr,mask=mask, cmap=cmap, vmax=np.amax(KSarr),\n",
    "                square=True,\n",
    "                linewidths=.5, cbar_kws={\"shrink\": .5}, ax=ax, yticklabels=cols, xticklabels=cols)\n",
    "\n",
    "    # This sets the yticks \"upright\" with 0, as opposed to sideways with 90.\n",
    "    plt.yticks(rotation=0) \n",
    "    plt.title('KS test: ' + f1.split('/')[-1])\n",
    "\n",
    "    \n",
    "    #Show the Pearson correlation coefficient.\n",
    "    f, ax = plt.subplots(figsize=(11, 9))\n",
    "    cmap = sns.diverging_palette(220, 10, as_cmap=True)\n",
    "\n",
    "    sns.heatmap(Parr, mask=mask, cmap=cmap, vmax=np.amax(Parr),\n",
    "                square=True,\n",
    "                linewidths=.5, cbar_kws={\"shrink\": .5}, ax=ax, yticklabels=cols, xticklabels=cols)\n",
    "\n",
    "    # This sets the yticks \"upright\" with 0, as opposed to sideways with 90.\n",
    "    plt.yticks(rotation=0) \n",
    "    plt.title('CC: ' + f1.split('/')[-1])\n"
   ]
  },
  {
   "cell_type": "code",
   "execution_count": null,
   "metadata": {
    "collapsed": true
   },
   "outputs": [],
   "source": []
  }
 ],
 "metadata": {
  "kernelspec": {
   "display_name": "Python 2",
   "language": "python",
   "name": "python2"
  },
  "language_info": {
   "codemirror_mode": {
    "name": "ipython",
    "version": 2
   },
   "file_extension": ".py",
   "mimetype": "text/x-python",
   "name": "python",
   "nbconvert_exporter": "python",
   "pygments_lexer": "ipython2",
   "version": "2.7.10"
  },
  "latex_envs": {
   "bibliofile": "biblio.bib",
   "cite_by": "apalike",
   "current_citInitial": 1,
   "eqLabelWithNumbers": true,
   "eqNumInitial": 0
  }
 },
 "nbformat": 4,
 "nbformat_minor": 0
}
