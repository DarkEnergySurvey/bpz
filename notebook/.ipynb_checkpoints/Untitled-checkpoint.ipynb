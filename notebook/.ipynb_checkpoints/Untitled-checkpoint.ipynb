{
 "cells": [
  {
   "cell_type": "code",
   "execution_count": 1,
   "metadata": {
    "collapsed": true
   },
   "outputs": [],
   "source": [
    "import urllib\n",
    "from bs4 import BeautifulSoup\n",
    "import mechanize\n",
    "import redis\n",
    "headers = [\n",
    "    ('Accept','text/html,application/xhtml+xml,application/xml;q=0.9,*/*;q=0.8'),\n",
    "    ('User-Agent', 'Mozilla/5.0 (Windows NT 6.1) AppleWebKit/537.17 (KHTML, like Gecko)  Chrome/24.0.1312.57 Safari/537.17'),\n",
    "    ('Content-Type', 'application/x-www-form-urlencoded'),\n",
    "    ('Referer', 'https://ssl.forumedia.eu/beach38-courtbuchung.de/index.php'),\n",
    "    ('Accept-Encoding', 'gzip,deflate,sdch'),\n",
    "    ('Accept-Language', 'en-US,en;q=0.8'),\n",
    "]"
   ]
  },
  {
   "cell_type": "code",
   "execution_count": 11,
   "metadata": {
    "collapsed": false
   },
   "outputs": [
    {
     "name": "stdout",
     "output_type": "stream",
     "text": [
      "Help on method lrem in module redis.client:\n",
      "\n",
      "lrem(self, name, count, value) method of redis.client.StrictRedis instance\n",
      "    Remove the first ``count`` occurrences of elements equal to ``value``\n",
      "    from the list stored at ``name``.\n",
      "    \n",
      "    The count argument influences the operation in the following ways:\n",
      "        count > 0: Remove elements equal to value moving from head to tail.\n",
      "        count < 0: Remove elements equal to value moving from tail to head.\n",
      "        count = 0: Remove all elements equal to value.\n",
      "\n"
     ]
    }
   ],
   "source": [
    "help(r.lrem)"
   ]
  },
  {
   "cell_type": "code",
   "execution_count": null,
   "metadata": {
    "collapsed": false
   },
   "outputs": [],
   "source": [
    "date = '2016-09-17'\n",
    "\n",
    "#url = 'https://ssl.forumedia.eu/beach38-courtbuchung.de/reservations_week.php?action=showReservations&type_id=1&date={:}&page=1'.format(date)\n",
    "url = 'https://ssl.forumedia.eu/beach38-courtbuchung.de/reservations.php?action=showReservations&type_id=1&date={:}&page=1'.format(date)\n",
    "print url\n",
    "\n",
    "response = mechanize.urlopen(url)\n",
    "#print response.read()\n",
    "\n",
    "soup = BeautifulSoup(response.read(), \"lxml\")"
   ]
  },
  {
   "cell_type": "code",
   "execution_count": null,
   "metadata": {
    "collapsed": false
   },
   "outputs": [],
   "source": [
    "courts =  soup.find_all(class_= \"areaPeriods\")\n",
    "\n",
    "free_court = {}\n",
    "order = [2,3,4,0,1]\n",
    "for i in order:\n",
    "    c = courts[i]\n",
    "    th = c.find_all('th')[0].get_text()\n",
    "    if len(th) > 0:\n",
    "        if 'Soccer' not in th and 'Platz' in th: \n",
    "            avail_times = c.find_all(class_=\"avaliable\")\n",
    "            if len(avail_times) > 0:\n",
    "                court = th[0:7].split(' ')[1]\n",
    "                for tm in avail_times:\n",
    "                    start_time, _ = tm.find('a').get_text().replace(' ', '').replace('Uhr', '').split('-')\n",
    "                    free_spot = {'date': date, 'start_time': '{:}'.format(start_time), 'court': '{:}'.format(court)}"
   ]
  },
  {
   "cell_type": "code",
   "execution_count": null,
   "metadata": {
    "collapsed": false,
    "scrolled": false
   },
   "outputs": [],
   "source": [
    "r = redis.StrictRedis(host='localhost', port=6379, db=0)                                            \n",
    "\n",
    "opt = {'date': '2016-10-22', 'start_time': '17:00', 'court':'5'}\n",
    "print \"https://ssl.forumedia.eu/beach38-courtbuchung.de/index.php\"\n",
    "print \"https://ssl.forumedia.eu/beach38-courtbuchung.de/reservation_order.php?area_id={court}&date={date}&time={start_time}&page=1\".format(**opt)\n"
   ]
  },
  {
   "cell_type": "code",
   "execution_count": null,
   "metadata": {
    "collapsed": false
   },
   "outputs": [],
   "source": [
    "r.lpush('2016-09-15', {'email': 'benhoyle1212@gmail.com', 'start_time': '17:00'})\n",
    "r.lpush('2016-09-17', {'email': 'benhoyle1212@gmail.com', 'start_time': '15:00'})\n",
    "r.lpush('2017-10-15', {'email': 'benhoyle1212@gmail.com', 'start_time': '19:00'})"
   ]
  },
  {
   "cell_type": "code",
   "execution_count": null,
   "metadata": {
    "collapsed": false
   },
   "outputs": [],
   "source": []
  },
  {
   "cell_type": "code",
   "execution_count": null,
   "metadata": {
    "collapsed": false
   },
   "outputs": [],
   "source": []
  },
  {
   "cell_type": "code",
   "execution_count": 6,
   "metadata": {
    "collapsed": false
   },
   "outputs": [],
   "source": [
    "def get_free_days(date):\n",
    "    #url = 'https://ssl.forumedia.eu/beach38-courtbuchung.de/reservations_week.php?action=showReservations&type_id=1&date={:}&page=1'.format(date)\n",
    "    url = 'https://ssl.forumedia.eu/beach38-courtbuchung.de/reservations.php?action=showReservations&type_id=1&date={:}&page=1'.format(date)\n",
    "    response = mechanize.urlopen(url)\n",
    "    soup = BeautifulSoup(response.read(), \"lxml\")\n",
    "    courts =  soup.find_all(class_= \"areaPeriods\")\n",
    "    free_courts = []\n",
    "    order = [2,3,4,0,1]\n",
    "    for i in order:\n",
    "        c = courts[i]\n",
    "        th_ = c.find_all('th')\n",
    "        if len(th_) > 0:\n",
    "            th = th_[0].get_text()\n",
    "            if 'Soccer' not in th and 'Platz' in th: \n",
    "                avail_times = c.find_all(class_=\"avaliable\")\n",
    "                if len(avail_times) > 0:\n",
    "                    court = th[0:7].split(' ')[1]\n",
    "                    for tm in avail_times:\n",
    "                        start_time, _ = tm.find('a').get_text().replace(' ', '').replace('Uhr', '').split('-')\n",
    "                        free_spot = {'date': date, 'start_time': '{:}'.format(start_time), 'court': '{:}'.format(court)}\n",
    "                        free_courts.append(free_spot)\n",
    "    return free_courts"
   ]
  },
  {
   "cell_type": "code",
   "execution_count": 7,
   "metadata": {
    "collapsed": false
   },
   "outputs": [],
   "source": [
    "def send_email(opts, date, link):\n",
    "    # Import smtplib for the actual sending function\n",
    "    import smtplib\n",
    "\n",
    "    # Import the email modules we'll need\n",
    "    from email.mime.text import MIMEText\n",
    "\n",
    "    # Open a plain text file for reading.  For this example, assume that\n",
    "    # the text file contains only ASCII characters.\n",
    "    email_body = \"Dear vballer, \\n A court is ready to book. \" + \\\n",
    "    \"\\n go here {:}\\nBe quick!\\n\".format(link) + \\\n",
    "    \" If you are not logged in, you will need to log in and then return to this email and click again.\\n\" + \\\n",
    "    \"Enjoy! \\nYour friendly beach-38 robot.\"\n",
    "    # Create a text/plain message\n",
    "    print email_body\n",
    "    if False:\n",
    "        msg = MIMEText(email_body)\n",
    "\n",
    "        # me == the sender's email address\n",
    "        # you == the recipient's email address\n",
    "        msg['Subject'] = 'Beach38 Court available on {:} at {:}'.format(date, opts['start_time'])\n",
    "        msg['From'] = 'beach38_booker@no-reply.com'\n",
    "        msg['To'] = opts['email']\n",
    "\n",
    "        # Send the message via our own SMTP server, but don't include the\n",
    "        # envelope header.\n",
    "        s = smtplib.SMTP('localhost')\n",
    "        s.sendmail(msg['From'], [opts['email']], msg.as_string())\n",
    "        s.quit()"
   ]
  },
  {
   "cell_type": "code",
   "execution_count": 14,
   "metadata": {
    "collapsed": false
   },
   "outputs": [],
   "source": [
    "keys = r.keys('*')\n",
    "for date in keys:\n",
    "    ln = r.llen(date)\n",
    "    available = get_free_days(date)\n",
    "    for i_ in r.lrange(date, 0, ln):\n",
    "        i = eval(i_)\n",
    "        for opt in available:\n",
    "            if i['start_time'] == opt['start_time']:\n",
    "                link = \"https://ssl.forumedia.eu/beach38-courtbuchung.de/reservation_order.php?area_id={court}&date={date}&time={start_time}&page=1\".format(**opt)\n",
    "                link = \"<a href='{0}'>{0}</a>\".format(link)\n",
    "                send_email(i, date, link)\n",
    "                #remove this element\n",
    "                r.lrem(date, 0,  i_)\n"
   ]
  },
  {
   "cell_type": "code",
   "execution_count": null,
   "metadata": {
    "collapsed": true
   },
   "outputs": [],
   "source": []
  }
 ],
 "metadata": {
  "kernelspec": {
   "display_name": "Python 2",
   "language": "python",
   "name": "python2"
  },
  "language_info": {
   "codemirror_mode": {
    "name": "ipython",
    "version": 2
   },
   "file_extension": ".py",
   "mimetype": "text/x-python",
   "name": "python",
   "nbconvert_exporter": "python",
   "pygments_lexer": "ipython2",
   "version": "2.7.12"
  },
  "latex_envs": {
   "bibliofile": "biblio.bib",
   "cite_by": "apalike",
   "current_citInitial": 1,
   "eqLabelWithNumbers": true,
   "eqNumInitial": 0
  }
 },
 "nbformat": 4,
 "nbformat_minor": 0
}
