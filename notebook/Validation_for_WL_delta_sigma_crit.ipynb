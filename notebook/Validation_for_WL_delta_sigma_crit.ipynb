{
 "cells": [
  {
   "cell_type": "markdown",
   "metadata": {},
   "source": [
    "<h2>Determining delta_sigma_crit</h2>\n",
    "\n",
    "These Validation pipeline WL metrics looks different from the others, and are generated using this script. "
   ]
  },
  {
   "cell_type": "code",
   "execution_count": 1,
   "metadata": {
    "collapsed": true
   },
   "outputs": [],
   "source": [
    "import yaml\n",
    "import numpy as np\n",
    "%matplotlib inline\n",
    "import matplotlib.pyplot as plt\n",
    "import glob\n",
    "import pickle\n",
    "import bz2\n",
    "import copy\n",
    "import bh_photo_z_validation as pval\n",
    "path = '/Users/hoyleb/Documents/python/modules/photoz-wg/validation/'\n",
    "\n",
    "#these are the current best template and ML codes. Can you beat them!\n",
    "path_to_pickle_output_file = path + 'WL_CLASS.METACAL.BPZ_HIZ.p'\n"
   ]
  },
  {
   "cell_type": "code",
   "execution_count": 2,
   "metadata": {
    "collapsed": true
   },
   "outputs": [],
   "source": [
    "weights = ['WEIGHT_ZLENS_0.4', 'WEIGHT_ZLENS_0.5', 'WEIGHT_ZLENS_0.6', 'WEIGHT_ZLENS_0.7', \n",
    "              'WEIGHT_ZLENS_0.2', 'WEIGHT_ZLENS_0.3', 'WEIGHT_ZLENS_0.8']\n",
    "metric = {'delta_sigma_crit': ['Z_MC', 'vlfn.delta_sigma_crit'] }"
   ]
  },
  {
   "cell_type": "code",
   "execution_count": 3,
   "metadata": {
    "collapsed": false
   },
   "outputs": [],
   "source": [
    "if path_to_pickle_output_file[-4:] == '.bz2':\n",
    "    res = pickle.load(bz2.BZ2File(path_to_pickle_output_file, 'r'))\n",
    "else:\n",
    "    res = pickle.load(open(path_to_pickle_output_file, 'r'))\n"
   ]
  },
  {
   "cell_type": "markdown",
   "metadata": {},
   "source": [
    "<h3>Results of delta_sigma_crit analysis</h3>"
   ]
  },
  {
   "cell_type": "code",
   "execution_count": 4,
   "metadata": {
    "collapsed": false
   },
   "outputs": [
    {
     "name": "stdout",
     "output_type": "stream",
     "text": [
      "[ 0.2  0.3  0.4  0.5  0.6  0.7  0.8]\n",
      "z_lens: 0.2  delta_sigma_crit 0.9463 \\pm 0.003673\n",
      "z_lens: 0.3  delta_sigma_crit 0.9292 \\pm 0.005079\n",
      "z_lens: 0.4  delta_sigma_crit 0.9144 \\pm 0.006579\n",
      "z_lens: 0.5  delta_sigma_crit 0.9012 \\pm 0.008406\n",
      "z_lens: 0.6  delta_sigma_crit 0.885 \\pm 0.01068\n",
      "z_lens: 0.7  delta_sigma_crit 0.8598 \\pm 0.01327\n",
      "z_lens: 0.8  delta_sigma_crit 0.8238 \\pm 0.01574\n"
     ]
    }
   ],
   "source": [
    "files = [i for i in res.keys() if i !='test_config']\n",
    "\n",
    "z_lens = res[files[0]][metric['delta_sigma_crit'][0]][metric['delta_sigma_crit'][1]][weights[0]]['value']\n",
    "z_lens = np.sort(z_lens.keys())\n",
    "print z_lens\n",
    "\n",
    "values = np.zeros((len(files), len(z_lens)))\n",
    "for i, fil in enumerate(files):\n",
    "    values[i] = [res[fil]['Z_MC']['vlfn.delta_sigma_crit']['WEIGHT_ZLENS_0.4']['value'][zi] for zi in z_lens]\n",
    "mn, std = np.mean(values, axis=0), np.std(values, axis=0)\n",
    "for i in range(len(z_lens)):\n",
    "    print 'z_lens: {:}  delta_sigma_crit {:0.4} \\pm {:0.4}'.format(z_lens[i], mn[i], std[i])"
   ]
  },
  {
   "cell_type": "code",
   "execution_count": null,
   "metadata": {
    "collapsed": true
   },
   "outputs": [],
   "source": []
  },
  {
   "cell_type": "markdown",
   "metadata": {},
   "source": [
    "<h3> You're done!</h3>\n",
    "\n",
    "Share these results with the redshift-wg"
   ]
  },
  {
   "cell_type": "code",
   "execution_count": null,
   "metadata": {
    "collapsed": true
   },
   "outputs": [],
   "source": []
  }
 ],
 "metadata": {
  "kernelspec": {
   "display_name": "Python 2",
   "language": "python",
   "name": "python2"
  },
  "language_info": {
   "codemirror_mode": {
    "name": "ipython",
    "version": 2
   },
   "file_extension": ".py",
   "mimetype": "text/x-python",
   "name": "python",
   "nbconvert_exporter": "python",
   "pygments_lexer": "ipython2",
   "version": "2.7.11"
  }
 },
 "nbformat": 4,
 "nbformat_minor": 0
}
