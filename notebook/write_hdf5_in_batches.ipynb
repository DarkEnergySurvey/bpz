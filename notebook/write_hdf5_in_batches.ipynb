{
 "cells": [
  {
   "cell_type": "code",
   "execution_count": 5,
   "metadata": {
    "collapsed": true
   },
   "outputs": [],
   "source": [
    "import pandas as pd \n",
    "import numpy as np"
   ]
  },
  {
   "cell_type": "code",
   "execution_count": 6,
   "metadata": {
    "collapsed": false
   },
   "outputs": [],
   "source": [
    "N = 10\n",
    "binning = np.linspace(0, 2.0, 201)\n",
    "bin_centers = (binning[0:-1] + binning[1:])/2.0\n",
    "df = pd.DataFrame()\n",
    "df['COADDED_OBJECTS_ID'] = np.arange(N)\n",
    "for i, pdf in enumerate(['pdf_' + str(j) for j in bin_centers]):\n",
    "    df[pdf] = np.random.dirichlet(np.arange(N) + i)"
   ]
  },
  {
   "cell_type": "code",
   "execution_count": 7,
   "metadata": {
    "collapsed": false
   },
   "outputs": [
    {
     "data": {
      "text/html": [
       "<div>\n",
       "<table border=\"1\" class=\"dataframe\">\n",
       "  <thead>\n",
       "    <tr style=\"text-align: right;\">\n",
       "      <th></th>\n",
       "      <th>COADDED_OBJECTS_ID</th>\n",
       "      <th>pdf_0.005</th>\n",
       "      <th>pdf_0.015</th>\n",
       "      <th>pdf_0.025</th>\n",
       "      <th>pdf_0.035</th>\n",
       "      <th>pdf_0.045</th>\n",
       "      <th>pdf_0.055</th>\n",
       "      <th>pdf_0.065</th>\n",
       "      <th>pdf_0.075</th>\n",
       "      <th>pdf_0.085</th>\n",
       "      <th>...</th>\n",
       "      <th>pdf_1.905</th>\n",
       "      <th>pdf_1.915</th>\n",
       "      <th>pdf_1.925</th>\n",
       "      <th>pdf_1.935</th>\n",
       "      <th>pdf_1.945</th>\n",
       "      <th>pdf_1.955</th>\n",
       "      <th>pdf_1.965</th>\n",
       "      <th>pdf_1.975</th>\n",
       "      <th>pdf_1.985</th>\n",
       "      <th>pdf_1.995</th>\n",
       "    </tr>\n",
       "  </thead>\n",
       "  <tbody>\n",
       "    <tr>\n",
       "      <th>0</th>\n",
       "      <td>0</td>\n",
       "      <td>0.000000</td>\n",
       "      <td>0.007742</td>\n",
       "      <td>0.018934</td>\n",
       "      <td>0.061224</td>\n",
       "      <td>0.038051</td>\n",
       "      <td>0.035238</td>\n",
       "      <td>0.016430</td>\n",
       "      <td>0.057007</td>\n",
       "      <td>0.072889</td>\n",
       "      <td>...</td>\n",
       "      <td>0.095436</td>\n",
       "      <td>0.090954</td>\n",
       "      <td>0.091726</td>\n",
       "      <td>0.097595</td>\n",
       "      <td>0.088590</td>\n",
       "      <td>0.094911</td>\n",
       "      <td>0.101241</td>\n",
       "      <td>0.093451</td>\n",
       "      <td>0.112816</td>\n",
       "      <td>0.091765</td>\n",
       "    </tr>\n",
       "    <tr>\n",
       "      <th>1</th>\n",
       "      <td>1</td>\n",
       "      <td>0.009858</td>\n",
       "      <td>0.059312</td>\n",
       "      <td>0.028131</td>\n",
       "      <td>0.011429</td>\n",
       "      <td>0.043828</td>\n",
       "      <td>0.038296</td>\n",
       "      <td>0.083832</td>\n",
       "      <td>0.064527</td>\n",
       "      <td>0.061996</td>\n",
       "      <td>...</td>\n",
       "      <td>0.109743</td>\n",
       "      <td>0.097237</td>\n",
       "      <td>0.091739</td>\n",
       "      <td>0.089603</td>\n",
       "      <td>0.101745</td>\n",
       "      <td>0.103664</td>\n",
       "      <td>0.098053</td>\n",
       "      <td>0.103343</td>\n",
       "      <td>0.084158</td>\n",
       "      <td>0.092354</td>\n",
       "    </tr>\n",
       "    <tr>\n",
       "      <th>2</th>\n",
       "      <td>2</td>\n",
       "      <td>0.031505</td>\n",
       "      <td>0.010152</td>\n",
       "      <td>0.026564</td>\n",
       "      <td>0.071838</td>\n",
       "      <td>0.037013</td>\n",
       "      <td>0.086740</td>\n",
       "      <td>0.129202</td>\n",
       "      <td>0.088156</td>\n",
       "      <td>0.098348</td>\n",
       "      <td>...</td>\n",
       "      <td>0.092133</td>\n",
       "      <td>0.093655</td>\n",
       "      <td>0.100324</td>\n",
       "      <td>0.103574</td>\n",
       "      <td>0.099474</td>\n",
       "      <td>0.090811</td>\n",
       "      <td>0.098291</td>\n",
       "      <td>0.099200</td>\n",
       "      <td>0.092393</td>\n",
       "      <td>0.101726</td>\n",
       "    </tr>\n",
       "    <tr>\n",
       "      <th>3</th>\n",
       "      <td>3</td>\n",
       "      <td>0.045134</td>\n",
       "      <td>0.063249</td>\n",
       "      <td>0.101362</td>\n",
       "      <td>0.113140</td>\n",
       "      <td>0.092374</td>\n",
       "      <td>0.103088</td>\n",
       "      <td>0.072727</td>\n",
       "      <td>0.142740</td>\n",
       "      <td>0.074160</td>\n",
       "      <td>...</td>\n",
       "      <td>0.096841</td>\n",
       "      <td>0.104165</td>\n",
       "      <td>0.104738</td>\n",
       "      <td>0.096527</td>\n",
       "      <td>0.093751</td>\n",
       "      <td>0.098770</td>\n",
       "      <td>0.090514</td>\n",
       "      <td>0.107468</td>\n",
       "      <td>0.100945</td>\n",
       "      <td>0.102167</td>\n",
       "    </tr>\n",
       "    <tr>\n",
       "      <th>4</th>\n",
       "      <td>4</td>\n",
       "      <td>0.087199</td>\n",
       "      <td>0.054439</td>\n",
       "      <td>0.093894</td>\n",
       "      <td>0.064163</td>\n",
       "      <td>0.086268</td>\n",
       "      <td>0.122539</td>\n",
       "      <td>0.177024</td>\n",
       "      <td>0.077481</td>\n",
       "      <td>0.113136</td>\n",
       "      <td>...</td>\n",
       "      <td>0.095948</td>\n",
       "      <td>0.102328</td>\n",
       "      <td>0.091145</td>\n",
       "      <td>0.109423</td>\n",
       "      <td>0.099914</td>\n",
       "      <td>0.089358</td>\n",
       "      <td>0.096792</td>\n",
       "      <td>0.092419</td>\n",
       "      <td>0.096878</td>\n",
       "      <td>0.099257</td>\n",
       "    </tr>\n",
       "  </tbody>\n",
       "</table>\n",
       "<p>5 rows × 201 columns</p>\n",
       "</div>"
      ],
      "text/plain": [
       "   COADDED_OBJECTS_ID  pdf_0.005  pdf_0.015  pdf_0.025  pdf_0.035  pdf_0.045  \\\n",
       "0                   0   0.000000   0.007742   0.018934   0.061224   0.038051   \n",
       "1                   1   0.009858   0.059312   0.028131   0.011429   0.043828   \n",
       "2                   2   0.031505   0.010152   0.026564   0.071838   0.037013   \n",
       "3                   3   0.045134   0.063249   0.101362   0.113140   0.092374   \n",
       "4                   4   0.087199   0.054439   0.093894   0.064163   0.086268   \n",
       "\n",
       "   pdf_0.055  pdf_0.065  pdf_0.075  pdf_0.085    ...      pdf_1.905  \\\n",
       "0   0.035238   0.016430   0.057007   0.072889    ...       0.095436   \n",
       "1   0.038296   0.083832   0.064527   0.061996    ...       0.109743   \n",
       "2   0.086740   0.129202   0.088156   0.098348    ...       0.092133   \n",
       "3   0.103088   0.072727   0.142740   0.074160    ...       0.096841   \n",
       "4   0.122539   0.177024   0.077481   0.113136    ...       0.095948   \n",
       "\n",
       "   pdf_1.915  pdf_1.925  pdf_1.935  pdf_1.945  pdf_1.955  pdf_1.965  \\\n",
       "0   0.090954   0.091726   0.097595   0.088590   0.094911   0.101241   \n",
       "1   0.097237   0.091739   0.089603   0.101745   0.103664   0.098053   \n",
       "2   0.093655   0.100324   0.103574   0.099474   0.090811   0.098291   \n",
       "3   0.104165   0.104738   0.096527   0.093751   0.098770   0.090514   \n",
       "4   0.102328   0.091145   0.109423   0.099914   0.089358   0.096792   \n",
       "\n",
       "   pdf_1.975  pdf_1.985  pdf_1.995  \n",
       "0   0.093451   0.112816   0.091765  \n",
       "1   0.103343   0.084158   0.092354  \n",
       "2   0.099200   0.092393   0.101726  \n",
       "3   0.107468   0.100945   0.102167  \n",
       "4   0.092419   0.096878   0.099257  \n",
       "\n",
       "[5 rows x 201 columns]"
      ]
     },
     "execution_count": 7,
     "metadata": {},
     "output_type": "execute_result"
    }
   ],
   "source": [
    "df.head()"
   ]
  },
  {
   "cell_type": "code",
   "execution_count": 8,
   "metadata": {
    "collapsed": false
   },
   "outputs": [],
   "source": [
    "# now to write this df to an hdf5 iteratively #\n",
    "# note that in this notebook we are always appending the same df many times, for photo-z you want to append \n",
    "# different parts of the Y1-gold photo-z catalogue # "
   ]
  },
  {
   "cell_type": "code",
   "execution_count": 10,
   "metadata": {
    "collapsed": false
   },
   "outputs": [
    {
     "name": "stdout",
     "output_type": "stream",
     "text": [
      "0\n",
      "1\n",
      "2\n",
      "3\n"
     ]
    }
   ],
   "source": [
    "store = pd.HDFStore('HDF5_file.h5', mode='a')\n",
    "for i in xrange(4): # here we append the same df 5 times to thre HDF5 file \n",
    "    print i\n",
    "    store.append('label', df, complevel=5, complib='blosc')\n",
    "store.close()"
   ]
  },
  {
   "cell_type": "code",
   "execution_count": 11,
   "metadata": {
    "collapsed": true
   },
   "outputs": [],
   "source": [
    "# after the file has been created you can 'optmize' the file with the following command \n",
    "# ptrepack --chunkshape=auto --propindexes --complevel=9 --complib=blosc in.h5 out.h5\n",
    "# see http://pandas.pydata.org/pandas-docs/stable/io.html#io-hdf5-ptrepack for more info"
   ]
  },
  {
   "cell_type": "code",
   "execution_count": 12,
   "metadata": {
    "collapsed": false
   },
   "outputs": [
    {
     "name": "stdout",
     "output_type": "stream",
     "text": [
      "0\n",
      "1\n",
      "2\n"
     ]
    }
   ],
   "source": [
    "# Next we will iterate over the file we just wrote, we don't have to read the whole file\n",
    "# into memory \n",
    "# in the following example will read in chunks of 30 rows \n",
    "\n",
    "file_name = 'HDF5_file.h5'\n",
    "store = pd.HDFStore(file_name)\n",
    "for i,df in enumerate(store.select('label', chunksize=30)):\n",
    "    print i\n",
    "store.close()"
   ]
  },
  {
   "cell_type": "code",
   "execution_count": null,
   "metadata": {
    "collapsed": false
   },
   "outputs": [],
   "source": [
    "df"
   ]
  },
  {
   "cell_type": "code",
   "execution_count": null,
   "metadata": {
    "collapsed": true
   },
   "outputs": [],
   "source": []
  }
 ],
 "metadata": {
  "kernelspec": {
   "display_name": "Python 2",
   "language": "python",
   "name": "python2"
  },
  "language_info": {
   "codemirror_mode": {
    "name": "ipython",
    "version": 2
   },
   "file_extension": ".py",
   "mimetype": "text/x-python",
   "name": "python",
   "nbconvert_exporter": "python",
   "pygments_lexer": "ipython2",
   "version": "2.7.11"
  }
 },
 "nbformat": 4,
 "nbformat_minor": 0
}
