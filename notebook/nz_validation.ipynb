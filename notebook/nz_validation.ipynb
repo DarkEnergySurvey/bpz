{
 "cells": [
  {
   "cell_type": "code",
   "execution_count": null,
   "metadata": {
    "collapsed": false
   },
   "outputs": [],
   "source": [
    "import sys\n",
    "path_bh = '../validation/'\n",
    "sys.path.append(path_bh)\n",
    "import bh_photo_z_validation as pval\n",
    "import numpy as np\n",
    "folder = '/Users/Christopher_old/ice/data/DES/Y1/validation_hdf5/'\n",
    "ada_file = folder + 'Y1A1_GOLD101_Y1A1trainValid_14.12.2015.validsY1A1.25215.out.DES.pdf.hdf5'\n",
    "dnf_file = folder + 'dnf_validation.hdf5'\n",
    "\n",
    "file_list = [ada_file, dnf_file]\n",
    "code_list = ['ADA_Z_V0.2', 'DNF_V0.1']\n",
    "point_list = ['MODE_Z'] # MEDIAN_Z , MEAN_Z \n",
    "bin_list = [np.linspace(0, 1.4, 4), \n",
    "            np.linspace(0, 1.4, 7)]\n",
    "\n",
    "\n",
    "for file,code in zip(file_list, code_list):\n",
    "    store = pd.HDFStore(file)\n",
    "    df = store['pdf']\n",
    "    if 'dnf' in file:\n",
    "        centers = np.array([float(name[4:]) for name in df.columns if 'pdf' in name])\n",
    "    if '25215' in file:\n",
    "        centers = np.array([float(name[4:]) for name in df.columns if 'pdf' in name]) \n",
    "        centers = centers + centers[1]/2.0\n",
    "    for binning in bin_list:\n",
    "        for selection in point_list:\n",
    "            for_WL0, for_WL1, for_WL2 = pval.weighted_nz_distributions(df, binning=centers, weights='weights_valid', \n",
    "                                                                       tomo_bins=binning, \n",
    "                                                                       z_phot= df[selection].values , n_resample=5)\n",
    "            out_pickle_folder = '/Users/Christopher_old/Dropbox/Y1_validation/Pickle/'\n",
    "            bin_info1 = code + str(len(binning)-1) + '_bins'\n",
    "            bin_info2 = '_' + selection\n",
    "            pickle_file = out_pickle_folder +   bin_info1 + bin_info2 + '.pickle'\n",
    "            pval.ld_writedicts(pickle_file, for_WL2)\n",
    "    store.close()"
   ]
  },
  {
   "cell_type": "code",
   "execution_count": null,
   "metadata": {
    "collapsed": true
   },
   "outputs": [],
   "source": [
    "# plt.plot(centers,for_WL0[i][0])"
   ]
  }
 ],
 "metadata": {
  "kernelspec": {
   "display_name": "Python 2",
   "language": "python",
   "name": "python2"
  },
  "language_info": {
   "codemirror_mode": {
    "name": "ipython",
    "version": 2
   },
   "file_extension": ".py",
   "mimetype": "text/x-python",
   "name": "python",
   "nbconvert_exporter": "python",
   "pygments_lexer": "ipython2",
   "version": "2.7.11"
  }
 },
 "nbformat": 4,
 "nbformat_minor": 0
}
