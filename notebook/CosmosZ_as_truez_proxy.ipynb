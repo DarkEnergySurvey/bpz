{
 "cells": [
  {
   "cell_type": "code",
   "execution_count": 8,
   "metadata": {
    "collapsed": false
   },
   "outputs": [],
   "source": [
    "import numpy as np\n",
    "%matplotlib inline\n",
    "import matplotlib.pyplot as plt\n",
    "import glob\n",
    "from astropy.table import Table\n",
    "from weighted_kde import gaussian_kde as gss_kde\n",
    "almost_black = '#262626'\n",
    "plt.rcParams['figure.figsize'] = (15, 8)\n",
    "plt.rcParams.update({'font.size': 32, \n",
    "                     'axes.linewidth': 5,\n",
    "                    'text.color': almost_black,\n",
    "                    'xtick.major.size': 4,\n",
    "                    'ytick.major.size': 4,\n",
    "                    'legend.fancybox': True,\n",
    "                    'figure.dpi': 300,\n",
    "                    'legend.fontsize': 16,\n",
    "                    'legend.framealpha': 0.8,\n",
    "                    'legend.shadow': True,\n",
    "                    'xtick.labelsize': 22,\n",
    "                    'ytick.labelsize': 22})\n",
    "import  bh_photo_z_validation  as pval\n",
    "import yaml\n",
    "\n",
    "import photoz_metrics_fn as pmf\n",
    "reload(pmf)\n",
    "import sml_mla as ml\n",
    "\n",
    "from sklearn.neighbors import NearestNeighbors, KNeighborsRegressor\n",
    "from sklearn.preprocessing import Normalizer"
   ]
  },
  {
   "cell_type": "code",
   "execution_count": 2,
   "metadata": {
    "collapsed": true
   },
   "outputs": [],
   "source": [
    "#let's start with some dN/dz diagnotistics\n",
    "tests = yaml.load(open('../validation/testConfig/WL_SAMPLE.yaml', 'r'))\n",
    "z_tomo = tests['point']['bins']['MEAN_Z']\n",
    "zbins = np.arange(0,2.0, 0.01)"
   ]
  },
  {
   "cell_type": "code",
   "execution_count": null,
   "metadata": {
    "collapsed": false
   },
   "outputs": [],
   "source": [
    "#get the effect from cosmic variance\n",
    "cos_like_files = glob.glob('/Users/hoyleb/Sites/DES/PHOTOZ/MASKS/rotated_masks/cos_0alh_*.clean.fits')[0:5]\n",
    "wide_field_like_files = glob.glob('/Users/hoyleb/Sites/DES/PHOTOZ/MASKS/rotated_masks/cos_2alh_*.clean.fits')\n",
    "\n",
    "bse = ['MAG_AUTO_G', 'MAG_AUTO_I', 'MAG_AUTO_R', 'MAG_AUTO_Z']\n",
    "feats = []\n",
    "for i, fi in enumerate(bse):\n",
    "    feats.append(fi)\n",
    "    for j, fj in enumerate(bse):\n",
    "        if j>i:\n",
    "            feats.append(fi + '-' + fj)\n",
    "\n",
    "simz = np.zeros((len(cos_like_files), len(z_tomo)-1,  len(zbins)-1)) \n",
    "knnz = np.zeros((len(cos_like_files), len(z_tomo)-1,  len(zbins)-1)) \n",
    "z_sim_truth = np.zeros((len(cos_like_files), len(z_tomo)-1, len(zbins))) - np.nan\n",
    "for i in range(len(cos_like_files)):\n",
    "\n",
    "    inputs, out_trn = ml.dataSet(cos_like_files[i], feats, ['Z']).loadData()\n",
    "    nl = Normalizer()\n",
    "    norm_feats = nl.fit_transform(inputs)\n",
    "    \n",
    "    clf = KNeighborsRegressor(n_neighbors=3, radius=2.0)\n",
    "    clf.fit(norm_feats, out_trn['Z'])\n",
    "\n",
    "    for jj in range(len(wide_field_like_files)):\n",
    "        inputs, outputs = ml.dataSet(wide_field_like_files[jj], feats, ['Z']).loadData()\n",
    "        ind_nn = np.isfinite(inputs[:, -1])\n",
    "        for k in range(len(feats)-1):\n",
    "            ind_nn *=  np.isfinite(inputs[:, k])\n",
    "        inputs = inputs[ind_nn]\n",
    "        outputs['Z'] = outputs['Z'][ind_nn]\n",
    "        \n",
    "        norm_feats1 = nl.transform(inputs)\n",
    "        #neigh_id = clf.kneighbors(norm_feats1, n_neighbors=1, return_distance=False)\n",
    "        #pred_z = out_trn['Z'][np.ravel(neigh_id)]\n",
    "        pred_z = clf.predict(norm_feats1)\n",
    "\n",
    "        photz = Table.read(wide_field_like_files[jj].replace('.fits', '.BPZ.fits'))\n",
    "        photz = photz[ind_nn]\n",
    "        for j in range(len(z_tomo)-1):\n",
    "            ind = np.array(photz['MEAN_Z'] < z_tomo[j + 1]) * np.array(photz['MEAN_Z'] >= z_tomo[j])\n",
    "            knnz[i, j] += np.histogram(pred_z[ind], bins=zbins)[0]\n",
    "            simz[i, j] += np.histogram(outputs['Z'][ind], bins=zbins)[0]\n",
    "    "
   ]
  },
  {
   "cell_type": "code",
   "execution_count": null,
   "metadata": {
    "collapsed": false
   },
   "outputs": [],
   "source": []
  },
  {
   "cell_type": "code",
   "execution_count": null,
   "metadata": {
    "collapsed": false,
    "scrolled": false
   },
   "outputs": [],
   "source": [
    "col = ['red', 'green', 'grey', 'yellow', 'purple']\n",
    "for j in range(len(z_tomo)-1):\n",
    "    f = plt.figure()\n",
    "    for i in range(len(cos_like_files)-2):\n",
    "        simz1 = simz[i, j]*1.0 / np.trapz(simz[i, j], zbins[0:-1] )\n",
    "        knnz1 = knnz[i, j]*1.0 / np.trapz(knnz[i, j], zbins[0:-1] )\n",
    "        plt.plot(zbins[0:-1], knnz1, '--', color=col[i], linewidth=3,alpha=0.5, label='Knn-z {:}'.format(i))\n",
    "    plt.plot(zbins[0:-1], simz1, color=almost_black, linewidth=3, alpha=0.5, label='True-z {:}')\n",
    "    plt.text(1, np.amax(simz1), 'Tomo-bin: ${:0.2f}<z<{:0.2f}$'.format(z_tomo[j],  z_tomo[j + 1]))\n",
    "    \n",
    "    plt.xlabel('Redshift')\n",
    "    plt.ylabel('Density')\n",
    "    plt.legend()"
   ]
  },
  {
   "cell_type": "code",
   "execution_count": null,
   "metadata": {
    "collapsed": true
   },
   "outputs": [],
   "source": []
  }
 ],
 "metadata": {
  "kernelspec": {
   "display_name": "Python 2",
   "language": "python",
   "name": "python2"
  },
  "language_info": {
   "codemirror_mode": {
    "name": "ipython",
    "version": 2
   },
   "file_extension": ".py",
   "mimetype": "text/x-python",
   "name": "python",
   "nbconvert_exporter": "python",
   "pygments_lexer": "ipython2",
   "version": "2.7.11"
  }
 },
 "nbformat": 4,
 "nbformat_minor": 0
}
