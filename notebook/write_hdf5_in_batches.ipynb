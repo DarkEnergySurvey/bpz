{
 "cells": [
  {
   "cell_type": "code",
   "execution_count": 1,
   "metadata": {
    "collapsed": true
   },
   "outputs": [],
   "source": [
    "import pandas as pd \n",
    "import numpy as np"
   ]
  },
  {
   "cell_type": "code",
   "execution_count": 2,
   "metadata": {
    "collapsed": false
   },
   "outputs": [],
   "source": [
    "N = 100\n",
    "binning = np.linspace(0, 2.0, 201)\n",
    "bin_centers = (binning[0:-1] + binning[1:])/2.0\n",
    "df = pd.DataFrame()\n",
    "df['COADDED_OBJECTS_ID'] = np.arange(N)\n",
    "for i, pdf in enumerate(['pdf_' + str(j) for j in bin_centers]):\n",
    "    df[pdf] = np.random.dirichlet(np.arange(N) + i)"
   ]
  },
  {
   "cell_type": "code",
   "execution_count": 3,
   "metadata": {
    "collapsed": false
   },
   "outputs": [
    {
     "data": {
      "text/html": [
       "<div>\n",
       "<table border=\"1\" class=\"dataframe\">\n",
       "  <thead>\n",
       "    <tr style=\"text-align: right;\">\n",
       "      <th></th>\n",
       "      <th>COADDED_OBJECTS_ID</th>\n",
       "      <th>pdf_0.005</th>\n",
       "      <th>pdf_0.015</th>\n",
       "      <th>pdf_0.025</th>\n",
       "      <th>pdf_0.035</th>\n",
       "      <th>pdf_0.045</th>\n",
       "      <th>pdf_0.055</th>\n",
       "      <th>pdf_0.065</th>\n",
       "      <th>pdf_0.075</th>\n",
       "      <th>pdf_0.085</th>\n",
       "      <th>...</th>\n",
       "      <th>pdf_1.905</th>\n",
       "      <th>pdf_1.915</th>\n",
       "      <th>pdf_1.925</th>\n",
       "      <th>pdf_1.935</th>\n",
       "      <th>pdf_1.945</th>\n",
       "      <th>pdf_1.955</th>\n",
       "      <th>pdf_1.965</th>\n",
       "      <th>pdf_1.975</th>\n",
       "      <th>pdf_1.985</th>\n",
       "      <th>pdf_1.995</th>\n",
       "    </tr>\n",
       "  </thead>\n",
       "  <tbody>\n",
       "    <tr>\n",
       "      <th>0</th>\n",
       "      <td>0</td>\n",
       "      <td>0.000000</td>\n",
       "      <td>0.000147</td>\n",
       "      <td>0.000159</td>\n",
       "      <td>0.000266</td>\n",
       "      <td>0.000594</td>\n",
       "      <td>0.001964</td>\n",
       "      <td>0.000875</td>\n",
       "      <td>0.000379</td>\n",
       "      <td>0.000441</td>\n",
       "      <td>...</td>\n",
       "      <td>0.008141</td>\n",
       "      <td>0.007440</td>\n",
       "      <td>0.007974</td>\n",
       "      <td>0.008274</td>\n",
       "      <td>0.006939</td>\n",
       "      <td>0.008139</td>\n",
       "      <td>0.007305</td>\n",
       "      <td>0.007629</td>\n",
       "      <td>0.008118</td>\n",
       "      <td>0.008672</td>\n",
       "    </tr>\n",
       "    <tr>\n",
       "      <th>1</th>\n",
       "      <td>1</td>\n",
       "      <td>0.000087</td>\n",
       "      <td>0.000301</td>\n",
       "      <td>0.000113</td>\n",
       "      <td>0.000753</td>\n",
       "      <td>0.001067</td>\n",
       "      <td>0.001766</td>\n",
       "      <td>0.001224</td>\n",
       "      <td>0.001796</td>\n",
       "      <td>0.001890</td>\n",
       "      <td>...</td>\n",
       "      <td>0.007225</td>\n",
       "      <td>0.007599</td>\n",
       "      <td>0.008385</td>\n",
       "      <td>0.008005</td>\n",
       "      <td>0.008769</td>\n",
       "      <td>0.007884</td>\n",
       "      <td>0.007638</td>\n",
       "      <td>0.009107</td>\n",
       "      <td>0.007183</td>\n",
       "      <td>0.009413</td>\n",
       "    </tr>\n",
       "    <tr>\n",
       "      <th>2</th>\n",
       "      <td>2</td>\n",
       "      <td>0.000310</td>\n",
       "      <td>0.000552</td>\n",
       "      <td>0.001340</td>\n",
       "      <td>0.000489</td>\n",
       "      <td>0.000946</td>\n",
       "      <td>0.001369</td>\n",
       "      <td>0.000985</td>\n",
       "      <td>0.001951</td>\n",
       "      <td>0.002489</td>\n",
       "      <td>...</td>\n",
       "      <td>0.007228</td>\n",
       "      <td>0.008779</td>\n",
       "      <td>0.008119</td>\n",
       "      <td>0.008116</td>\n",
       "      <td>0.007648</td>\n",
       "      <td>0.007731</td>\n",
       "      <td>0.007875</td>\n",
       "      <td>0.008538</td>\n",
       "      <td>0.007891</td>\n",
       "      <td>0.008088</td>\n",
       "    </tr>\n",
       "    <tr>\n",
       "      <th>3</th>\n",
       "      <td>3</td>\n",
       "      <td>0.000542</td>\n",
       "      <td>0.001854</td>\n",
       "      <td>0.001266</td>\n",
       "      <td>0.001942</td>\n",
       "      <td>0.001712</td>\n",
       "      <td>0.001043</td>\n",
       "      <td>0.001255</td>\n",
       "      <td>0.000697</td>\n",
       "      <td>0.001858</td>\n",
       "      <td>...</td>\n",
       "      <td>0.007622</td>\n",
       "      <td>0.008042</td>\n",
       "      <td>0.007509</td>\n",
       "      <td>0.008132</td>\n",
       "      <td>0.007750</td>\n",
       "      <td>0.007324</td>\n",
       "      <td>0.008285</td>\n",
       "      <td>0.009080</td>\n",
       "      <td>0.008850</td>\n",
       "      <td>0.007938</td>\n",
       "    </tr>\n",
       "    <tr>\n",
       "      <th>4</th>\n",
       "      <td>4</td>\n",
       "      <td>0.000571</td>\n",
       "      <td>0.000617</td>\n",
       "      <td>0.001268</td>\n",
       "      <td>0.002066</td>\n",
       "      <td>0.000847</td>\n",
       "      <td>0.001981</td>\n",
       "      <td>0.001597</td>\n",
       "      <td>0.001052</td>\n",
       "      <td>0.002281</td>\n",
       "      <td>...</td>\n",
       "      <td>0.008447</td>\n",
       "      <td>0.008297</td>\n",
       "      <td>0.008310</td>\n",
       "      <td>0.008269</td>\n",
       "      <td>0.007787</td>\n",
       "      <td>0.008208</td>\n",
       "      <td>0.007667</td>\n",
       "      <td>0.008369</td>\n",
       "      <td>0.009105</td>\n",
       "      <td>0.007957</td>\n",
       "    </tr>\n",
       "  </tbody>\n",
       "</table>\n",
       "<p>5 rows × 201 columns</p>\n",
       "</div>"
      ],
      "text/plain": [
       "   COADDED_OBJECTS_ID  pdf_0.005  pdf_0.015  pdf_0.025  pdf_0.035  pdf_0.045  \\\n",
       "0                   0   0.000000   0.000147   0.000159   0.000266   0.000594   \n",
       "1                   1   0.000087   0.000301   0.000113   0.000753   0.001067   \n",
       "2                   2   0.000310   0.000552   0.001340   0.000489   0.000946   \n",
       "3                   3   0.000542   0.001854   0.001266   0.001942   0.001712   \n",
       "4                   4   0.000571   0.000617   0.001268   0.002066   0.000847   \n",
       "\n",
       "   pdf_0.055  pdf_0.065  pdf_0.075  pdf_0.085    ...      pdf_1.905  \\\n",
       "0   0.001964   0.000875   0.000379   0.000441    ...       0.008141   \n",
       "1   0.001766   0.001224   0.001796   0.001890    ...       0.007225   \n",
       "2   0.001369   0.000985   0.001951   0.002489    ...       0.007228   \n",
       "3   0.001043   0.001255   0.000697   0.001858    ...       0.007622   \n",
       "4   0.001981   0.001597   0.001052   0.002281    ...       0.008447   \n",
       "\n",
       "   pdf_1.915  pdf_1.925  pdf_1.935  pdf_1.945  pdf_1.955  pdf_1.965  \\\n",
       "0   0.007440   0.007974   0.008274   0.006939   0.008139   0.007305   \n",
       "1   0.007599   0.008385   0.008005   0.008769   0.007884   0.007638   \n",
       "2   0.008779   0.008119   0.008116   0.007648   0.007731   0.007875   \n",
       "3   0.008042   0.007509   0.008132   0.007750   0.007324   0.008285   \n",
       "4   0.008297   0.008310   0.008269   0.007787   0.008208   0.007667   \n",
       "\n",
       "   pdf_1.975  pdf_1.985  pdf_1.995  \n",
       "0   0.007629   0.008118   0.008672  \n",
       "1   0.009107   0.007183   0.009413  \n",
       "2   0.008538   0.007891   0.008088  \n",
       "3   0.009080   0.008850   0.007938  \n",
       "4   0.008369   0.009105   0.007957  \n",
       "\n",
       "[5 rows x 201 columns]"
      ]
     },
     "execution_count": 3,
     "metadata": {},
     "output_type": "execute_result"
    }
   ],
   "source": [
    "df.head()"
   ]
  },
  {
   "cell_type": "code",
   "execution_count": 4,
   "metadata": {
    "collapsed": false
   },
   "outputs": [],
   "source": [
    "# now to write this df to an hdf5 iteratively #\n",
    "# note that in this notebook we are always appending the same df many times, for photo-z you want to append \n",
    "# different parts of the Y1-gold photo-z catalogue # "
   ]
  },
  {
   "cell_type": "code",
   "execution_count": 5,
   "metadata": {
    "collapsed": false
   },
   "outputs": [
    {
     "name": "stdout",
     "output_type": "stream",
     "text": [
      "0\n",
      "1\n",
      "2\n",
      "3\n"
     ]
    }
   ],
   "source": [
    "store = pd.HDFStore('HDF5_file.h5', mode='a')\n",
    "for i in xrange(4): # here we append the same df 5 times to thre HDF5 file \n",
    "    print i\n",
    "    store.append('label', df, complevel=5, complib='blosc:snappy')\n",
    "store.close()"
   ]
  },
  {
   "cell_type": "code",
   "execution_count": 17,
   "metadata": {
    "collapsed": true
   },
   "outputs": [],
   "source": [
    "# after the file has been created you can 'optmize' the file with the following command \n",
    "# ptrepack --chunkshape=auto --propindexes --complevel=9 --complib=blosc in.h5 out.h5\n",
    "# see http://pandas.pydata.org/pandas-docs/stable/io.html#io-hdf5-ptrepack for more info"
   ]
  },
  {
   "cell_type": "code",
   "execution_count": 18,
   "metadata": {
    "collapsed": false
   },
   "outputs": [
    {
     "name": "stdout",
     "output_type": "stream",
     "text": [
      "0\n",
      "1\n",
      "2\n",
      "3\n",
      "4\n",
      "5\n",
      "6\n",
      "7\n",
      "8\n",
      "9\n",
      "10\n",
      "11\n",
      "12\n",
      "13\n",
      "14\n",
      "15\n"
     ]
    }
   ],
   "source": [
    "# Next we will iterate over the file we just wrote, we don't have to read the whole file\n",
    "# into memory \n",
    "# in the following example will read in chunks of 30 rows \n",
    "\n",
    "file_name = 'HDF5_file.h5'\n",
    "store = pd.HDFStore(file_name)\n",
    "for i,df in enumerate(store.select('label', chunksize=30)):\n",
    "    print i\n",
    "store.close()"
   ]
  },
  {
   "cell_type": "code",
   "execution_count": null,
   "metadata": {
    "collapsed": false
   },
   "outputs": [],
   "source": [
    "df"
   ]
  },
  {
   "cell_type": "code",
   "execution_count": null,
   "metadata": {
    "collapsed": true
   },
   "outputs": [],
   "source": []
  }
 ],
 "metadata": {
  "kernelspec": {
   "display_name": "Python 2",
   "language": "python",
   "name": "python2"
  },
  "language_info": {
   "codemirror_mode": {
    "name": "ipython",
    "version": 2
   },
   "file_extension": ".py",
   "mimetype": "text/x-python",
   "name": "python",
   "nbconvert_exporter": "python",
   "pygments_lexer": "ipython2",
   "version": "2.7.11"
  }
 },
 "nbformat": 4,
 "nbformat_minor": 0
}
