{
 "cells": [
  {
   "cell_type": "markdown",
   "metadata": {},
   "source": [
    "<h1>Example validation script</h1>\n",
    "<p>In this notebook we walk you through the steps of validating your point predictions and pdfs. We will use the same codes that will be used in the final validation stage. To make this script realistic, with realistic run-timess, we have around 10,000 galaxies in our testing files.</p>\n",
    "<p>First, ensure that your repo is up to date, by running this command</p>\n",
    "<code>cd /path/to/photoz-wg/</code>\n",
    "\n",
    "Followed by \n",
    "\n",
    "<code>git pull</code>\n",
    "\n",
    "<h3>The validation script</h3>\n",
    "<p>The validation script is found in the validation directory. You may ignore this notebook, and call the validation script directly from the directory (or anywhere if you add the directory to your path variable). This will instantly check that your file is well formed, and then perform all the standard tests, and output the scores.</p>\n",
    "\n",
    "usage like\n",
    "\n",
    "\n",
    "<code>%>photoz_metrics.py data/PointPredictions1.fits</code>\n",
    "\n",
    "\n",
    "or to do many pdfs predictions at a time\n",
    "\n",
    "<code>%>photoz_metrics.py data/pdfPredictions*.hdf5</code>\n",
    "\n",
    "\n",
    "or a mix of the two, many point prediction files, and many pdf files\n",
    "\n",
    "<code>%>photoz_metrics.py data/pdfPredictions\\*.hdf5 data/PointPredictions\\*.fits</code>\n",
    "\n",
    "\n",
    "\n",
    "or you can make more fine tuned validations using a configuration YaML file\n",
    "\n",
    "\n",
    "<code>%>photoz_metrics.py config.yaml </code>\n",
    "\n",
    "\n",
    "\n",
    "<h4>help file</h4>\n",
    "If your just call it like this:\n",
    "\n",
    "<code>%>photoz_metrics.py</code> \n",
    "\n",
    "\n",
    "\n",
    "We will write a example YaML file to the working directory.\n",
    "\n",
    "<h3>The validation code</h3>\n",
    "<p>Dependecies, pandas, astropy, pyYaml</p>"
   ]
  },
  {
   "cell_type": "code",
   "execution_count": 1,
   "metadata": {
    "collapsed": false
   },
   "outputs": [
    {
     "name": "stdout",
     "output_type": "stream",
     "text": [
      "The autoreload extension is already loaded. To reload it, use:\n",
      "  %reload_ext autoreload\n"
     ]
    },
    {
     "name": "stderr",
     "output_type": "stream",
     "text": [
      "/Users/Christopher_old/anaconda/lib/python2.7/site-packages/IPython/kernel/__init__.py:13: ShimWarning: The `IPython.kernel` package has been deprecated. You should import from ipykernel or jupyter_client instead.\n",
      "  \"You should import from ipykernel or jupyter_client instead.\", ShimWarning)\n"
     ]
    }
   ],
   "source": [
    "#some dependencies. We'll need YAML (pip install pyYaml)\n",
    "%load_ext autoreload\n",
    "%autoreload 2\n",
    "import numpy as np\n",
    "import sys\n",
    "import os\n",
    "import yaml\n",
    "\n",
    "#let's do some speed-testing\n",
    "import time\n",
    "\n",
    "#what is the path to DES photo-z wg bucket/validation?\n",
    "#for Ben this is:\n",
    "#modify this for your system\n",
    "path_bh = '../validation/'\n",
    "\n",
    "sys.path.append(path_bh)\n",
    "\n",
    "import bh_photo_z_validation as pval"
   ]
  },
  {
   "cell_type": "markdown",
   "metadata": {},
   "source": [
    "<h3>Load the point predictions files</h3>\n",
    "<p>We assume that you already have the data in the correct format. This means it has the required point prediction redshift estimates, and Z_SPEC, and COADD_OBJECTS_ID and MAG_DETMODEL_I. We will now perform some \"unit-tests\" to ensure this.</p>\n",
    "\n",
    "<p>In fact, in the code, we identify all the columnns that will be used in the specified tests, and check for their existence too!</p>"
   ]
  },
  {
   "cell_type": "code",
   "execution_count": 2,
   "metadata": {
    "collapsed": false
   },
   "outputs": [
    {
     "name": "stdout",
     "output_type": "stream",
     "text": [
      "data loaded in 0.1207 secs for 10000 galaxies\n",
      "COADD_OBJECTS_ID MAG_DETMODEL_I ...     Z_SPEC           Z_MC     \n",
      "---------------- -------------- ... -------------- ---------------\n",
      "               0  24.3865259087 ...  1.00535707155 0.0311218229133\n",
      "               1  20.3067578704 ... 0.991885492609  0.648961886639\n",
      "number of objects in our test sample 10000\n"
     ]
    }
   ],
   "source": [
    "#change this to your fits file path\n",
    "pointPredictionFitsPath = path_bh + 'tests/data/validPointPrediction.fits'\n",
    "\n",
    "require_cols = ['Z_SPEC', 'COADD_OBJECTS_ID', 'MAG_DETMODEL_I', 'Z_MC']\n",
    "\n",
    "#lets start the speed test counter!\n",
    "t1 = time.time()\n",
    "\n",
    "#let's check the file is valid, has the required columns, and load it in.\n",
    "okay, dataFrame = pval.valid_file(pointPredictionFitsPath, require_cols)\n",
    "\n",
    "#if it's not okay, we tell you why in the error message (now stored in dataFrame)\n",
    "if okay is False:\n",
    "    print \"the file is not in the correct format\"\n",
    "    print \"erorr message: \" + dataFrame\n",
    "\n",
    "print \"data loaded in %0.4f secs for %0.1d galaxies\" % (time.time() - t1, len(dataFrame))\n",
    "print dataFrame[0:2]\n",
    "print \"number of objects in our test sample\", len(dataFrame)"
   ]
  },
  {
   "cell_type": "markdown",
   "metadata": {},
   "source": [
    "<h3>Define the tests</h3>\n",
    "<p>We next will build a test. We write each test as a really lovely YaML file. YaML is desgined to be easy for humans to read. You'll understand how easy each test becomes, in a few seconds. </p>\n",
    "\n",
    "<p>Each test determines which metrics (such as $\\sigma_{68}$ or the K-S test) will be measured, and optionally if we want to measure the metric by binning the data along one of the columns, e.g. if we want to bin along MAG_DETMODEL_I. We can also decide to set an allowed \"tolerance\", this informs us if the tests passed with the required precision</p>\n",
    "\n",
    "<p>You don't need to write any tests if you don't want to. The standard ones are included already when you run the script from the command line. Below I shown an exmaple of what a test looks like. You can include as many tests, from as many sources as you like. Each test it it's own yaml file.</p>\n",
    "\n",
    "<p>The base tests can be found here </p>\n",
    "\n",
    "<code>%>ls photoz-wg/validation/testConfig/*.yaml</code>\n",
    "\n",
    "And looks like this: [The comments '#' are also included in the file, for easy reading!]\n",
    "\n",
    "===== begin YaML file =======\n",
    "\n",
    "#First let us give this test a name, to differeniat it from other tests\n",
    "\n",
    "test_name: example_test1\n",
    "\n",
    "#paths to file locations. will assume '.fits' as point predictions '.hdf5' as pdf predictions, add more files to list to compare multiple files\n",
    "\n",
    "\n",
    "filePaths: ['tests/data/validPointPrediction.fits', 'tests/data/validHDF.hdf5']\n",
    "\n",
    "#Which metrics and tolerance should we measure either a list of metrics, such as and or a precomputed collection of group metrics and tolerances set blank, or delete this line to not use these preconfigured metrics/bins/tolerances\n",
    "\n",
    "standardPredictions: [/testConfig/photoz.yaml, /testConfig/weak_lensing.yaml]\n",
    "\n",
    "#what will the path/ and or/base file name of the results be called?\n",
    "\n",
    "resultsFilePrefix: myResultsOutput\n",
    "\n",
    "#And or / additionally choose your own metrics, as list\n",
    "#remove these if not required\n",
    "#these are the point prediction tests\n",
    "\n",
    "point:\n",
    "    \n",
    "    #which photo-z predictions do we want to test\n",
    "    predictions: [MODE_Z, MEAN_Z, Z_MC]\n",
    "    \n",
    "    #what is the true redshift that we will compare with?\n",
    "    truths: Z_SPEC\n",
    "    \n",
    "    #should we calculated weighted metrics where available?\n",
    "    weights: WEIGHTS\n",
    "\n",
    "    #what metrics do we want to measure. \"numpy.std\" is the standard deviation from numpy\n",
    "    \n",
    "    # and \"bh_photo_z_validation.sigma_68\" is the sigma_68 metric found in the bh_photo_z_validation.py file\n",
    "    \n",
    "    metrics: [numpy.std, numpy.median, bh_photo_z_validation.sigma_68, bh_photo_z_validation.outlier_fraction]\n",
    "    \n",
    "    #do we want to assign an accetable tolerance to each of these tests?\n",
    "    tolerance: [0.4, 0.001, 0.02, 5]\n",
    "    \n",
    "    #Finally do we want to also measure the metrics in some \"bins\".\n",
    "    #we define the column_name: 'string of bins / string of function that makes bins'\n",
    "    bins: [MAG_DETMODEL_I: '[10, 15, 20, 25, 30]', MODE_Z: 'numpy.linspace(0, 2, 20)']\n",
    "\n",
    "    #Should we calculate errors on each metric? if yes state how\n",
    "    #you can include as many different error functions as you like.\n",
    "    error_function: [bh_photo_z_validation.bootstrap_mean_error]\n",
    "\n",
    "#these are the pdf tests\n",
    "\n",
    "pdf: \n",
    "    #we can examine individual redshift pdfs against a truth value. Remove this part if you don't want this\n",
    "    individual:\n",
    "        truths: Z_SPEC\n",
    "        \n",
    "        #one statistic is calcualted in bh_photo_z_validation.py eval_pdf_point(), add your own at will.\n",
    "        metrics: [bh_photo_z_validation.eval_pdf_point]\n",
    "        bins: [MAG_DETMODEL_I: '[ 17.5, 19, 22, 25]']\n",
    "        tolerance: [0.7, 20]\n",
    "        #shall we use weights when calculating metrics, if so specify here.\n",
    "        weights: WEIGHTS\n",
    "\n",
    "    #or shall we compare against stacked pdfs\n",
    "    stacks:\n",
    "        truths: Z_SPEC\n",
    "        #we convert truths to a distribution by choosing these bins\n",
    "        truth_bins: [Z_SPEC: 'numpy.linspace(0, 2, 4)']\n",
    "\n",
    "        #which additional bins shall we use to measure metrics in?\n",
    "        metric_bins: [MAG_DETMODEL_I: '[ 17.5, 19, 22, 25]']\n",
    "        \n",
    "        #which pdf/ distribution comparison metrics should we measure \n",
    "        metrics: [bh_photo_z_validation.kstest, bh_photo_z_validation.npoisson, bh_photo_z_validation.log_loss]\n",
    "        tolerance: [0.7, 20]\n",
    "        #shall we use weights when calculating metrics, if so specify here.\n",
    "        weights: WEIGHTS\n",
    "===== end YaML file =======\n",
    "\n",
    "You see that we have now defined a set of tests for both point predictions, and pdfs.\n",
    "\n",
    "\n",
    "<h3>Loading the tests</h3>\n",
    "<p>We load the tests like this!</p>"
   ]
  },
  {
   "cell_type": "code",
   "execution_count": 3,
   "metadata": {
    "collapsed": false,
    "scrolled": true
   },
   "outputs": [
    {
     "name": "stdout",
     "output_type": "stream",
     "text": [
      "This test is called: photoz-wg\n",
      "\n",
      "{'pdf': {'individual': {'metrics': ['bh_photo_z_validation.Bordoloi_pdf_test'], 'metric_bins': [{'MAG_DETMODEL_I': '[ 17.5, 19, 22, 25]'}], 'weights': 'WEIGHTS', 'error_function': ['bh_photo_z_validation.bootstrap_mean_error_pdf_point'], 'tolerance': [0.7, 20], 'truths': 'Z_SPEC'}, 'stacks': {'metrics': ['bh_photo_z_validation.kstest', 'bh_photo_z_validation.npoisson', 'bh_photo_z_validation.log_loss'], 'tolerance': [0.7, 20], 'metric_bins': [{'MAG_DETMODEL_I': '[ 17.5, 19, 22, 25]'}], 'weights': 'WEIGHTS', 'truth_bins': [{'Z_SPEC': 'numpy.linspace(0, 2, 4)'}]}}, 'test_name': 'photoz-wg', 'point': {'metrics': ['numpy.std', 'numpy.median', 'bh_photo_z_validation.sigma_68', 'bh_photo_z_validation.outlier_fraction'], 'weights': 'WEIGHTS', 'error_function': ['bh_photo_z_validation.bootstrap_mean_error'], 'tolerance': [0.4, 0.001, 0.02, 5], 'truths': 'Z_SPEC', 'predictions': ['MODE_Z', 'MEAN_Z', 'Z_MC'], 'bins': [{'MAG_DETMODEL_I': '[ 17.5, 19, 22, 25]'}, {'MODE_Z': 'numpy.linspace(0, 2, 4)'}]}}\n",
      "\n",
      "\n",
      "Example of extracting a statistic to measure\n",
      "\n",
      "numpy.median\n",
      "\n",
      "Example of which error we can assign to this metric\n",
      "\n",
      "bh_photo_z_validation.bootstrap_mean_error\n",
      "\n",
      "This means look in bh_photo_z_validation.py to see this function. You can add your own error function too!\n"
     ]
    }
   ],
   "source": [
    "testYamlPath = path_bh + 'testConfig/photoz.yaml'\n",
    "testConfig = yaml.load(open(testYamlPath, 'r'))\n",
    "\n",
    "#check that the test is valid. This is die if it's not.\n",
    "isTestValid = pval.valid_tests(testConfig)\n",
    "\n",
    "#the YaML file is parsed nicely to a python dictionary!\n",
    "print \"This test is called: \" + testConfig['test_name'] + '\\n'\n",
    "print testConfig\n",
    "print \"\\n\\nExample of extracting a statistic to measure\\n\"\n",
    "print testConfig['point']['metrics'][1]\n",
    "print \"\\nExample of which error we can assign to this metric\\n\"\n",
    "print testConfig['point']['error_function'][0]\n",
    "\n",
    "print \"\\nThis means look in bh_photo_z_validation.py to see this function. You can add your own error function too!\""
   ]
  },
  {
   "cell_type": "markdown",
   "metadata": {},
   "source": [
    "<h3>YaML corrupt?</h3>\n",
    "<p>If your YaML file doesn't work, copy and check it here: http://yaml-online-parser.appspot.com\n",
    "\n",
    "<h3>Running a test for point predictions</h3>\n",
    "<p>Now we can play some testing magic. One thing to note, is they Python is <b>friggin</b> awesome. Remember we wrote the metric like this: 'bh_photo_z_validation.sigma_68', well we can turn this into an executable using a function found in bh_photo_z_validation.py called get_function(). We'll see this in the below.</p>"
   ]
  },
  {
   "cell_type": "code",
   "execution_count": 4,
   "metadata": {
    "collapsed": false
   },
   "outputs": [
    {
     "name": "stdout",
     "output_type": "stream",
     "text": [
      "\n",
      "200 BootStrap errors calculated in  loaded in 0.0000 secs for 10000 galaxies\n",
      " \n",
      "\n",
      "using file: ../validation/tests/data/validPointPrediction.fits\n",
      "point prediction: MODE_Z\n",
      "we measure the statistic: std\n",
      "and get the value: 0.255770026096 [or error and mean from bootstrap] {'sigma': 0.0013052200985438041, 'mean': 0.25461261390583906}\n",
      "This bettter than expected!\n",
      "\n",
      "200 BootStrap errors calculated in  loaded in 0.0000 secs for 10000 galaxies\n",
      " \n",
      "\n",
      "using file: ../validation/tests/data/validPointPrediction.fits\n",
      "point prediction: MODE_Z\n",
      "we measure the statistic: median\n",
      "and get the value: 0.191660584106 [or error and mean from bootstrap] {'sigma': 0.0038825691740536662, 'mean': 0.19294462242329444}\n",
      "This is worse than expected!\n",
      "\n",
      "200 BootStrap errors calculated in  loaded in 0.0000 secs for 10000 galaxies\n",
      " \n",
      "\n",
      "using file: ../validation/tests/data/validPointPrediction.fits\n",
      "point prediction: MODE_Z\n",
      "we measure the statistic: sigma_68\n",
      "and get the value: 0.280389329011 [or error and mean from bootstrap] {'sigma': 0.002047990364710494, 'mean': 0.27842832741764645}\n",
      "This is worse than expected!\n",
      "\n",
      "200 BootStrap errors calculated in  loaded in 0.0000 secs for 10000 galaxies\n",
      " \n",
      "\n",
      "using file: ../validation/tests/data/validPointPrediction.fits\n",
      "point prediction: MODE_Z\n",
      "we measure the statistic: outlier_fraction\n",
      "and get the value: 66.62 [or error and mean from bootstrap] {'sigma': 0.45873237901368508, 'mean': 66.596266666666665}\n",
      "This is worse than expected!\n",
      "\n",
      "200 BootStrap errors calculated in  loaded in 0.0000 secs for 10000 galaxies\n",
      " \n",
      "\n",
      "using file: ../validation/tests/data/validPointPrediction.fits\n",
      "point prediction: MEAN_Z\n",
      "we measure the statistic: std\n",
      "and get the value: 0.2555466071 [or error and mean from bootstrap] {'sigma': 0.0015050194665141418, 'mean': 0.25498243911834106}\n",
      "This bettter than expected!\n",
      "\n",
      "200 BootStrap errors calculated in  loaded in 0.0000 secs for 10000 galaxies\n",
      " \n",
      "\n",
      "using file: ../validation/tests/data/validPointPrediction.fits\n",
      "point prediction: MEAN_Z\n",
      "we measure the statistic: median\n",
      "and get the value: 0.194681108167 [or error and mean from bootstrap] {'sigma': 0.0045364380088182008, 'mean': 0.19446408412810742}\n",
      "This is worse than expected!\n",
      "\n",
      "200 BootStrap errors calculated in  loaded in 0.0000 secs for 10000 galaxies\n",
      " \n",
      "\n",
      "using file: ../validation/tests/data/validPointPrediction.fits\n",
      "point prediction: MEAN_Z\n",
      "we measure the statistic: sigma_68\n",
      "and get the value: 0.280915771076 [or error and mean from bootstrap] {'sigma': 0.0022946253444366695, 'mean': 0.27977250035644602}\n",
      "This is worse than expected!\n",
      "\n",
      "200 BootStrap errors calculated in  loaded in 0.0000 secs for 10000 galaxies\n",
      " \n",
      "\n",
      "using file: ../validation/tests/data/validPointPrediction.fits\n",
      "point prediction: MEAN_Z\n",
      "we measure the statistic: outlier_fraction\n",
      "and get the value: 66.2 [or error and mean from bootstrap] {'sigma': 0.50545469518928121, 'mean': 65.997133333333338}\n",
      "This is worse than expected!\n",
      "\n",
      "200 BootStrap errors calculated in  loaded in 0.0000 secs for 10000 galaxies\n",
      " \n",
      "\n",
      "using file: ../validation/tests/data/validPointPrediction.fits\n",
      "point prediction: Z_MC\n",
      "we measure the statistic: std\n",
      "and get the value: 0.256069266804 [or error and mean from bootstrap] {'sigma': 0.0012832906882930433, 'mean': 0.25752228387379072}\n",
      "This bettter than expected!\n",
      "\n",
      "200 BootStrap errors calculated in  loaded in 0.0000 secs for 10000 galaxies\n",
      " \n",
      "\n",
      "using file: ../validation/tests/data/validPointPrediction.fits\n",
      "point prediction: Z_MC\n",
      "we measure the statistic: median\n",
      "and get the value: 0.189984142953 [or error and mean from bootstrap] {'sigma': 0.0041525830072676306, 'mean': 0.18781562661590229}\n",
      "This is worse than expected!\n",
      "\n",
      "200 BootStrap errors calculated in  loaded in 0.0000 secs for 10000 galaxies\n",
      " \n",
      "\n",
      "using file: ../validation/tests/data/validPointPrediction.fits\n",
      "point prediction: Z_MC\n",
      "we measure the statistic: sigma_68\n",
      "and get the value: 0.281576904606 [or error and mean from bootstrap] {'sigma': 0.0024428027076337962, 'mean': 0.28422581671788927}\n",
      "This is worse than expected!\n",
      "\n",
      "200 BootStrap errors calculated in  loaded in 0.0000 secs for 10000 galaxies\n",
      " \n",
      "\n",
      "using file: ../validation/tests/data/validPointPrediction.fits\n",
      "point prediction: Z_MC\n",
      "we measure the statistic: outlier_fraction\n",
      "and get the value: 66.6 [or error and mean from bootstrap] {'sigma': 0.4818862751959459, 'mean': 66.483866666666657}\n",
      "This is worse than expected!\n"
     ]
    }
   ],
   "source": [
    "pointTestConfig = testConfig['point']\n",
    "for eachPointPrediction in pointTestConfig['predictions']:\n",
    "    #let's calcalate the redshift scaled residuals Deltaz = (z - photz) / (1 + z)\n",
    "    deltaz_1pz = pval.delta_z_1pz(dataFrame[pointTestConfig['truths']], dataFrame[eachPointPrediction])\n",
    "    \n",
    "    #are we adding weights to each galaxy prediction?\n",
    "    weights = dataFrame[pointTestConfig['weights']]\n",
    "    \n",
    "    #now let's calculate the value of each chosen metric\n",
    "    for i, eachMetric in enumerate(pointTestConfig['metrics']):\n",
    "        \n",
    "        #amazing metric string to function conversion. \n",
    "        #Add your own functions by putting them in bh_photo_z_validation.py\n",
    "        metric_function = pval.get_function(eachMetric)\n",
    "        metric_value =  metric_function(deltaz_1pz)\n",
    "        \n",
    "        t1 = time.time()\n",
    "        #no add our generic error function, we'll need weights for this\n",
    "        error_function = pval.get_function(pointTestConfig['error_function'][0])\n",
    "        print \"\\n200 BootStrap errors calculated in  loaded in %0.4f secs for %0.1d galaxies\" % (time.time() - t1, len(dataFrame))\n",
    "        \n",
    "        error_value = error_function(deltaz_1pz, weights, metric_function)\n",
    "        \n",
    "        print \" \\n\"\n",
    "        print \"using file: \" + pointPredictionFitsPath \n",
    "        print \"point prediction: \" + eachPointPrediction \n",
    "        print \"we measure the statistic: \" + eachMetric.split('.')[-1] \n",
    "        print \"and get the value: \" + str(metric_value) + \" [or error and mean from bootstrap]\", error_value\n",
    "        if metric_value < pointTestConfig['tolerance'][i]:\n",
    "            print \"This bettter than expected!\"\n",
    "        else:\n",
    "            print \"This is worse than expected!\"\n",
    "\n",
    "# All the results of these tests will be printed to the screen below"
   ]
  },
  {
   "cell_type": "markdown",
   "metadata": {
    "collapsed": true
   },
   "source": [
    "<h2>pdf tests</h2>\n",
    "<p>Now let's turn our attention to the pdf tests. Let's load them and look at them.</p>"
   ]
  },
  {
   "cell_type": "code",
   "execution_count": null,
   "metadata": {
    "collapsed": false
   },
   "outputs": [],
   "source": [
    "pdfTestConfig = testConfig['pdf']\n",
    "print pdfTestConfig"
   ]
  },
  {
   "cell_type": "markdown",
   "metadata": {
    "collapsed": true
   },
   "source": [
    "<h3>Load pdf data</h3>\n",
    "<p>Lets load some data, and check that the data file is valid, and contains the columns we will be using.</p>"
   ]
  },
  {
   "cell_type": "code",
   "execution_count": 5,
   "metadata": {
    "collapsed": false
   },
   "outputs": [
    {
     "name": "stdout",
     "output_type": "stream",
     "text": [
      "\n",
      "pdf file loaded in 0.0863 secs for 10000 galaxies\n",
      "<class 'pandas.core.frame.DataFrame'>\n",
      "Int64Index: 10000 entries, 0 to 9999\n",
      "Columns: 304 entries, COADD_OBJECTS_ID to MAG_DETMODEL_I\n",
      "dtypes: float64(303), int64(1)\n",
      "memory usage: 23.3 MB\n",
      "None\n"
     ]
    },
    {
     "data": {
      "text/html": [
       "<div>\n",
       "<table border=\"1\" class=\"dataframe\">\n",
       "  <thead>\n",
       "    <tr style=\"text-align: right;\">\n",
       "      <th></th>\n",
       "      <th>COADD_OBJECTS_ID</th>\n",
       "      <th>Z_SPEC</th>\n",
       "      <th>pdf_0.0</th>\n",
       "      <th>pdf_0.00666666666667</th>\n",
       "      <th>pdf_0.0133333333333</th>\n",
       "      <th>pdf_0.02</th>\n",
       "      <th>pdf_0.0266666666667</th>\n",
       "      <th>pdf_0.0333333333333</th>\n",
       "      <th>pdf_0.04</th>\n",
       "      <th>pdf_0.0466666666667</th>\n",
       "      <th>...</th>\n",
       "      <th>pdf_1.94666666667</th>\n",
       "      <th>pdf_1.95333333333</th>\n",
       "      <th>pdf_1.96</th>\n",
       "      <th>pdf_1.96666666667</th>\n",
       "      <th>pdf_1.97333333333</th>\n",
       "      <th>pdf_1.98</th>\n",
       "      <th>pdf_1.98666666667</th>\n",
       "      <th>pdf_1.99333333333</th>\n",
       "      <th>WEIGHT</th>\n",
       "      <th>MAG_DETMODEL_I</th>\n",
       "    </tr>\n",
       "  </thead>\n",
       "  <tbody>\n",
       "    <tr>\n",
       "      <th>0</th>\n",
       "      <td>0</td>\n",
       "      <td>0.877001</td>\n",
       "      <td>0.0000</td>\n",
       "      <td>0.0000</td>\n",
       "      <td>0.0000</td>\n",
       "      <td>0.0000</td>\n",
       "      <td>0.000</td>\n",
       "      <td>0.0000</td>\n",
       "      <td>0.0000</td>\n",
       "      <td>0.000</td>\n",
       "      <td>...</td>\n",
       "      <td>0</td>\n",
       "      <td>0</td>\n",
       "      <td>0</td>\n",
       "      <td>0</td>\n",
       "      <td>0</td>\n",
       "      <td>0</td>\n",
       "      <td>0</td>\n",
       "      <td>0</td>\n",
       "      <td>0.000066</td>\n",
       "      <td>23.638271</td>\n",
       "    </tr>\n",
       "    <tr>\n",
       "      <th>1</th>\n",
       "      <td>1</td>\n",
       "      <td>0.198939</td>\n",
       "      <td>0.0000</td>\n",
       "      <td>0.0015</td>\n",
       "      <td>0.0000</td>\n",
       "      <td>0.0000</td>\n",
       "      <td>0.003</td>\n",
       "      <td>0.0075</td>\n",
       "      <td>0.0075</td>\n",
       "      <td>0.006</td>\n",
       "      <td>...</td>\n",
       "      <td>0</td>\n",
       "      <td>0</td>\n",
       "      <td>0</td>\n",
       "      <td>0</td>\n",
       "      <td>0</td>\n",
       "      <td>0</td>\n",
       "      <td>0</td>\n",
       "      <td>0</td>\n",
       "      <td>0.000067</td>\n",
       "      <td>18.028284</td>\n",
       "    </tr>\n",
       "    <tr>\n",
       "      <th>2</th>\n",
       "      <td>2</td>\n",
       "      <td>0.486581</td>\n",
       "      <td>0.0015</td>\n",
       "      <td>0.0060</td>\n",
       "      <td>0.0015</td>\n",
       "      <td>0.0015</td>\n",
       "      <td>0.006</td>\n",
       "      <td>0.0075</td>\n",
       "      <td>0.0075</td>\n",
       "      <td>0.006</td>\n",
       "      <td>...</td>\n",
       "      <td>0</td>\n",
       "      <td>0</td>\n",
       "      <td>0</td>\n",
       "      <td>0</td>\n",
       "      <td>0</td>\n",
       "      <td>0</td>\n",
       "      <td>0</td>\n",
       "      <td>0</td>\n",
       "      <td>0.000068</td>\n",
       "      <td>23.735735</td>\n",
       "    </tr>\n",
       "    <tr>\n",
       "      <th>3</th>\n",
       "      <td>3</td>\n",
       "      <td>1.114063</td>\n",
       "      <td>0.0000</td>\n",
       "      <td>0.0000</td>\n",
       "      <td>0.0000</td>\n",
       "      <td>0.0000</td>\n",
       "      <td>0.000</td>\n",
       "      <td>0.0000</td>\n",
       "      <td>0.0000</td>\n",
       "      <td>0.000</td>\n",
       "      <td>...</td>\n",
       "      <td>0</td>\n",
       "      <td>0</td>\n",
       "      <td>0</td>\n",
       "      <td>0</td>\n",
       "      <td>0</td>\n",
       "      <td>0</td>\n",
       "      <td>0</td>\n",
       "      <td>0</td>\n",
       "      <td>0.000067</td>\n",
       "      <td>19.771337</td>\n",
       "    </tr>\n",
       "    <tr>\n",
       "      <th>4</th>\n",
       "      <td>4</td>\n",
       "      <td>0.928459</td>\n",
       "      <td>0.0000</td>\n",
       "      <td>0.0000</td>\n",
       "      <td>0.0000</td>\n",
       "      <td>0.0000</td>\n",
       "      <td>0.000</td>\n",
       "      <td>0.0000</td>\n",
       "      <td>0.0000</td>\n",
       "      <td>0.000</td>\n",
       "      <td>...</td>\n",
       "      <td>0</td>\n",
       "      <td>0</td>\n",
       "      <td>0</td>\n",
       "      <td>0</td>\n",
       "      <td>0</td>\n",
       "      <td>0</td>\n",
       "      <td>0</td>\n",
       "      <td>0</td>\n",
       "      <td>0.000067</td>\n",
       "      <td>26.751157</td>\n",
       "    </tr>\n",
       "  </tbody>\n",
       "</table>\n",
       "<p>5 rows × 304 columns</p>\n",
       "</div>"
      ],
      "text/plain": [
       "   COADD_OBJECTS_ID    Z_SPEC  pdf_0.0  pdf_0.00666666666667  \\\n",
       "0                 0  0.877001   0.0000                0.0000   \n",
       "1                 1  0.198939   0.0000                0.0015   \n",
       "2                 2  0.486581   0.0015                0.0060   \n",
       "3                 3  1.114063   0.0000                0.0000   \n",
       "4                 4  0.928459   0.0000                0.0000   \n",
       "\n",
       "   pdf_0.0133333333333  pdf_0.02  pdf_0.0266666666667  pdf_0.0333333333333  \\\n",
       "0               0.0000    0.0000                0.000               0.0000   \n",
       "1               0.0000    0.0000                0.003               0.0075   \n",
       "2               0.0015    0.0015                0.006               0.0075   \n",
       "3               0.0000    0.0000                0.000               0.0000   \n",
       "4               0.0000    0.0000                0.000               0.0000   \n",
       "\n",
       "   pdf_0.04  pdf_0.0466666666667       ...        pdf_1.94666666667  \\\n",
       "0    0.0000                0.000       ...                        0   \n",
       "1    0.0075                0.006       ...                        0   \n",
       "2    0.0075                0.006       ...                        0   \n",
       "3    0.0000                0.000       ...                        0   \n",
       "4    0.0000                0.000       ...                        0   \n",
       "\n",
       "   pdf_1.95333333333  pdf_1.96  pdf_1.96666666667  pdf_1.97333333333  \\\n",
       "0                  0         0                  0                  0   \n",
       "1                  0         0                  0                  0   \n",
       "2                  0         0                  0                  0   \n",
       "3                  0         0                  0                  0   \n",
       "4                  0         0                  0                  0   \n",
       "\n",
       "   pdf_1.98  pdf_1.98666666667  pdf_1.99333333333    WEIGHT  MAG_DETMODEL_I  \n",
       "0         0                  0                  0  0.000066       23.638271  \n",
       "1         0                  0                  0  0.000067       18.028284  \n",
       "2         0                  0                  0  0.000068       23.735735  \n",
       "3         0                  0                  0  0.000067       19.771337  \n",
       "4         0                  0                  0  0.000067       26.751157  \n",
       "\n",
       "[5 rows x 304 columns]"
      ]
     },
     "execution_count": 5,
     "metadata": {},
     "output_type": "execute_result"
    }
   ],
   "source": [
    "pdfPredictionFitsPath = path_bh + 'tests/data/validHDF.hdf5'\n",
    "\n",
    "require_cols = ['Z_SPEC', 'COADD_OBJECTS_ID', 'MAG_DETMODEL_I']\n",
    "\n",
    "t1 = time.time()      \n",
    "okay, dataFrame = pval.valid_file(pdfPredictionFitsPath, require_cols)\n",
    "print \"\\npdf file loaded in %0.4f secs for %0.1d galaxies\" % (time.time() - t1, len(dataFrame))\n",
    "  \n",
    "if okay is False:\n",
    "    print \"the file is not in the correct format\"\n",
    "    print \"erorr message: \" + dataFrame\n",
    "#print dataFrame[0:1], 'lenght', len(dataFrame)\n",
    "print dataFrame.info()\n",
    "dataFrame.head()"
   ]
  },
  {
   "cell_type": "markdown",
   "metadata": {},
   "source": [
    "<h3>pdf array</h3>\n",
    "Let's extract the pdfs as an N-darray of shape (ngals, nbins).\n",
    "\n",
    "We also have access to the bin edges using the pdf_key valus<p>"
   ]
  },
  {
   "cell_type": "code",
   "execution_count": 6,
   "metadata": {
    "collapsed": false
   },
   "outputs": [
    {
     "name": "stdout",
     "output_type": "stream",
     "text": [
      "pdf bin cols ['pdf_0.0', 'pdf_0.00666666666667', 'pdf_0.0133333333333']\n",
      "pdf bin centers [ 0.          0.00666667  0.01333333]\n"
     ]
    }
   ],
   "source": [
    "zcols = [c for c in dataFrame.keys() if 'pdf_' in c]\n",
    "print \"pdf bin cols\", zcols[0:3]\n",
    "zbins = np.array([float(c.split('f_')[-1]) for c in zcols])\n",
    "print \"pdf bin centers\", zbins[0:3]"
   ]
  },
  {
   "cell_type": "code",
   "execution_count": 8,
   "metadata": {
    "collapsed": false
   },
   "outputs": [],
   "source": [
    "pdfs = dataFrame[zcols].values"
   ]
  },
  {
   "cell_type": "markdown",
   "metadata": {},
   "source": [
    "<h3>Applying some tests</h3>\n",
    "Let's apply some test. First let's stack all pdfs and plot them against the Z_SPEC dist. (note, this is all random data, so don't expect a correlation!). We'll use tools found in bh_photo_z_validation.py to do all the heavy lifting"
   ]
  },
  {
   "cell_type": "code",
   "execution_count": 9,
   "metadata": {
    "collapsed": false
   },
   "outputs": [
    {
     "name": "stdout",
     "output_type": "stream",
     "text": [
      "\n",
      " All computations took 0.0060 secs for 10000 galaxies\n"
     ]
    }
   ],
   "source": [
    "t1 = time.time()          \n",
    "#stack all pdfs across all gals\n",
    "stackedPdf = pval.stackpdfs(pdfs)\n",
    "\n",
    "#normalise this stack\n",
    "normStackedPdf = pval.normalisepdfs(stackedPdf, zbins)\n",
    "\n",
    "#make df for Z_SPEC #numpy.histogram needs the final bin edge\n",
    "dndz = np.histogram(dataFrame['Z_SPEC'], bins=np.append(zbins,2))[0]*1.0\n",
    "z_pdf = pval.normalisepdfs(dndz, zbins)\n",
    "\n",
    "print \"\\n All computations took %0.4f secs for %0.1d galaxies\" % (time.time() - t1, len(pdfs))"
   ]
  },
  {
   "cell_type": "code",
   "execution_count": 10,
   "metadata": {
    "collapsed": false
   },
   "outputs": [
    {
     "data": {
      "text/plain": [
       "<matplotlib.legend.Legend at 0x11b8ef250>"
      ]
     },
     "execution_count": 10,
     "metadata": {},
     "output_type": "execute_result"
    },
    {
     "data": {
      "image/png": "[encoded data removed]",
      "text/plain": [
       "<matplotlib.figure.Figure at 0x11646f890>"
      ]
     },
     "metadata": {},
     "output_type": "display_data"
    }
   ],
   "source": [
    "%matplotlib inline\n",
    "import matplotlib.pyplot as plt\n",
    "plt.plot(zbins, z_pdf, label='z_pdf (random)', linewidth=1, alpha=0.7)\n",
    "plt.plot(zbins, normStackedPdf, label='normStackedPdf (random)', linewidth=2, alpha=0.7)\n",
    "plt.title('Using random test data')\n",
    "plt.xlabel('redshift')\n",
    "plt.ylabel('pdf')\n",
    "plt.legend()"
   ]
  },
  {
   "cell_type": "markdown",
   "metadata": {},
   "source": [
    "<h3>Fake data</h3>\n",
    "<p> Do note we are just using some meaningless, random, made up data.</p>\n",
    "<p>Let's continue with the tutorial and perform some other comparisons on these (meaningless) distributions!</p>\n",
    "<p>Let's find how much of each galaxy's pdf sits within some bin.<p>"
   ]
  },
  {
   "cell_type": "code",
   "execution_count": 11,
   "metadata": {
    "collapsed": false
   },
   "outputs": [
    {
     "name": "stdout",
     "output_type": "stream",
     "text": [
      "\n",
      " All computations took 0.0078 secs for 10000 galaxies\n"
     ]
    }
   ],
   "source": [
    "t1 = time.time()\n",
    "pdf_in_int = pval.integrate_dist_bin(pdfs,zbins, 0.1, 0.3)\n",
    "print \"\\n All computations took %0.4f secs for %0.1d galaxies\" % (time.time() - t1, len(pdfs))"
   ]
  },
  {
   "cell_type": "markdown",
   "metadata": {},
   "source": [
    "<p>Now, let's plot a few of those with lots of pdf in the bin</p>"
   ]
  },
  {
   "cell_type": "code",
   "execution_count": 12,
   "metadata": {
    "collapsed": false
   },
   "outputs": [
    {
     "data": {
      "text/plain": [
       "(0, 0.5)"
      ]
     },
     "execution_count": 12,
     "metadata": {},
     "output_type": "execute_result"
    },
    {
     "data": {
      "image/png": "[encoded data removed]",
      "text/plain": [
       "<matplotlib.figure.Figure at 0x11b887890>"
      ]
     },
     "metadata": {},
     "output_type": "display_data"
    }
   ],
   "source": [
    "i = pdf_in_int > 0.95\n",
    "for j in range(4):\n",
    "    plt.plot(zbins, pdfs[i][j])\n",
    "plt.plot([0.1,0.1], [0,60], '--b')\n",
    "plt.plot([0.3,0.3], [0,60], '--b')\n",
    "plt.xlabel('z')\n",
    "plt.xlim(0,0.5)"
   ]
  },
  {
   "cell_type": "markdown",
   "metadata": {},
   "source": [
    "and plot a few with only a little weight in the bin"
   ]
  },
  {
   "cell_type": "code",
   "execution_count": 13,
   "metadata": {
    "collapsed": false
   },
   "outputs": [
    {
     "data": {
      "text/plain": [
       "(0.08, 0.35)"
      ]
     },
     "execution_count": 13,
     "metadata": {},
     "output_type": "execute_result"
    },
    {
     "data": {
      "image/png": "[encoded data removed]",
      "text/plain": [
       "<matplotlib.figure.Figure at 0x11c602fd0>"
      ]
     },
     "metadata": {},
     "output_type": "display_data"
    }
   ],
   "source": [
    "i = (pdf_in_int > 0.3) * (pdf_in_int < 0.31)\n",
    "for j in range(4):\n",
    "    plt.plot(zbins, pdfs[i][j])\n",
    "plt.plot([0.1,0.1], [0,10], '--b')\n",
    "plt.plot([0.3,0.3], [0,10], '--b')\n",
    "plt.xlabel('z')\n",
    "plt.xlim(0.08,0.35)"
   ]
  },
  {
   "cell_type": "markdown",
   "metadata": {
    "collapsed": true
   },
   "source": [
    "<h3>Bordoloi pdf test</h3>\n",
    "<p>One test that we perform is the Bordoloi et al 2012 http://arxiv.org/pdf/1201.0995.pdf test. The idea is to make a cumulative pdf for each galaxy, and then calculate the y-axis value that corresponds to the x-axis value of the spectroscopic (or other) redshift.\n",
    "<br>\n",
    "This statistics, averaged over many galaxies, should have a flat distribution in y-axis values (between 0-1). To check how flat it is, we can us the gini criteria! [https://en.wikipedia.org/wiki/Gini_coefficient]\n",
    "</p>\n"
   ]
  },
  {
   "cell_type": "code",
   "execution_count": 14,
   "metadata": {
    "collapsed": false,
    "scrolled": false
   },
   "outputs": [
    {
     "name": "stdout",
     "output_type": "stream",
     "text": [
      "-0.040706\n",
      "this is quite flat! let's check it out\n",
      "\n",
      " All computations (including plots) took 0.4079 secs for 10000 galaxies\n"
     ]
    },
    {
     "data": {
      "image/png": "[encoded data removed]",
      "text/plain": [
       "<matplotlib.figure.Figure at 0x11c8b0ad0>"
      ]
     },
     "metadata": {},
     "output_type": "display_data"
    },
    {
     "data": {
      "image/png": "[encoded data removed]",
      "text/plain": [
       "<matplotlib.figure.Figure at 0x11c8b08d0>"
      ]
     },
     "metadata": {},
     "output_type": "display_data"
    }
   ],
   "source": [
    "t1 = time.time()\n",
    "Z_SPEC = dataFrame['Z_SPEC']\n",
    "\n",
    "nomalisepdfs = pval.normalisepdfs(pdfs, zbins)\n",
    "y_axis_vals = pval.cumaltive_to_point(nomalisepdfs, zbins, Z_SPEC)\n",
    "\n",
    "#what do these look like?\n",
    "#now let's make a histogram of this distribution\n",
    "N=100\n",
    "_ = plt.hist(y_axis_vals,bins=N)\n",
    "plt.ylim(0,100)\n",
    "\n",
    "\n",
    "#finally, let's measure how far away this is from a flat distribution; with gini = 0.0\n",
    "gini_val = pval.gini(np.histogram(y_axis_vals, bins=N)[0] * 1.0)\n",
    "print gini_val\n",
    "print \"this is quite flat! let's check it out\"\n",
    "cum = np.cumsum(np.histogram(y_axis_vals, bins=N)[0])\n",
    "cum = cum / float(cum[-1])\n",
    "f = plt.figure()\n",
    "plt.plot(np.arange(len(cum)), cum, label= 'this dist. gini= %0.3f' % gini_val)\n",
    "plt.plot(np.arange(len(cum)), np.arange(len(cum))*1.0/len(cum), label='perfect gini=0')\n",
    "plt.legend(loc=4)\n",
    "plt.xlabel('z bins')\n",
    "plt.ylabel('c-pdf value')\n",
    "print \"\\n All computations (including plots) took %0.4f secs for %0.1d galaxies\" % (time.time() - t1, len(pdfs))"
   ]
  },
  {
   "cell_type": "markdown",
   "metadata": {},
   "source": [
    "<h3>Boot strap error on these stats</h3>\n",
    "<p>We can again calculate a boot strap error, using a wrapper written in bh_photo_z_validation.py called <code>bootstrap_mean_error_pdf_point()</code>. You are welcome to write your own, and call is as before (yourFileName.yourFunctionName). Let's first get hold of the weights, and then run the internal functions. These calculations are a little slow ~30secs on my computer (for 10k galaxies) </p>"
   ]
  },
  {
   "cell_type": "code",
   "execution_count": 15,
   "metadata": {
    "collapsed": false
   },
   "outputs": [
    {
     "name": "stdout",
     "output_type": "stream",
     "text": [
      "mean and error on  10000  pdfs with 200 BootStrap resamples {'sigma': 0.0043371597521765322, 'mean': -0.040143209999999999}\n",
      "\n",
      " All computations took 26.9262 secs for 10000 galaxies\n"
     ]
    }
   ],
   "source": [
    "t1 = time.time()\n",
    "weights = dataFrame['WEIGHT'] #also accesable through pdfTestConfig['individual']['weights']\n",
    "meanErr = pval.bootstrap_mean_error_pdf_point(nomalisepdfs, zbins, Z_SPEC, weights, pval.Bordoloi_pdf_test)\n",
    "print \"mean and error on \", len(dataFrame), \" pdfs with 200 BootStrap resamples\", meanErr\n",
    "print \"\\n All computations took %0.4f secs for %0.1d galaxies\" % (time.time() - t1, len(pdfs))"
   ]
  },
  {
   "cell_type": "markdown",
   "metadata": {},
   "source": [
    "<h2>Results files</h2>\n",
    "<p>We write the results of the validation script (recall it's called like) </p>\n",
    "\n",
    "<code>%>photoz_metrics.py data/PointPredictions1.fits </code>\n",
    "\n",
    "<p>Using a results File Prefix which you may have set in the testConfiguration Yaml file.\n",
    "\n",
    "<p>Into a lovely YaML file for human easy reading, and also as a pickle file. This means we can pass the outputs into the plotting tool. An example of that is (or will be) in this notebook directory soon! </p>\n",
    "\n",
    "<h3>Output</h3>\n",
    "\n",
    "<p>Example of the output is below:</p>\n"
   ]
  },
  {
   "cell_type": "code",
   "execution_count": 16,
   "metadata": {
    "collapsed": false
   },
   "outputs": [],
   "source": [
    "#in this example we don't have resultsFilePrefix. \n",
    "#print \"test prefix\", testConfig['resultsFilePrefix']"
   ]
  },
  {
   "cell_type": "code",
   "execution_count": null,
   "metadata": {
    "collapsed": false
   },
   "outputs": [],
   "source": [
    "#output file name:\n",
    "pointResults = 'point_.p'\n",
    "pointResults = 'point_.yaml'\n",
    "pdfResults = 'pdf_.p'\n",
    "pdfResults = 'pdf_.yaml'"
   ]
  },
  {
   "cell_type": "markdown",
   "metadata": {},
   "source": [
    "<p>The results are formatted to look like this: (in e.g. points_.yaml), and can be read using <code>python pickle</code> or <code>yaml.load()</code> as before </p>\n",
    "\n",
    "<code>\n",
    "tests/data/validPointPrediction.fits:\n",
    "  0:\n",
    "    Z_MC:\n",
    "      bh_photo_z_validation.sigma_68:\n",
    "        delta_z:\n",
    "          VALUE: 0.7035013244853514\n",
    "          bins:\n",
    "            Z_MC:\n",
    "              BIN_CENTERS:\n",
    "              - 0.2593094256649402\n",
    "              - 0.7587431412716394\n",
    "              - 1.4909100996939546\n",
    "              BIN_CENTERS_MEAN_BS:\n",
    "              - 0.2617489006521707\n",
    "              - 0.759508863364966\n",
    "              - 1.4927365449936938\n",
    "              BIN_CENTERS_SIGMA_BS:\n",
    "              - 0.008674035664842377\n",
    "              - 0.009549516216673822\n",
    "              - 0.013034528528585611\n",
    "              MEAN_BS:\n",
    "              - 0.334349762217648\n",
    "              - 0.34009724283466963\n",
    "              - 0.40911843435271694\n",
    "              SIGMA_BS:\n",
    "              - 0.019772862096479635\n",
    "              - 0.02627186735715245\n",
    "              - 0.016312035676113744\n",
    "              VALUE:\n",
    "              - 0.3283407192008526\n",
    "              - 0.32228114188030743\n",
    "              - 0.41986501332174475\n",
    "        diff_1pz:\n",
    "          VALUE: 0.2840504374875773\n",
    "          bins:\n",
    "            Z_MC:\n",
    "              BIN_CENTERS:\n",
    "              - 0.2593094256649402\n",
    "              - 0.7587431412716394\n",
    "              - 1.4909100996939546\n",
    "              BIN_CENTERS_MEAN_BS:\n",
    "              - 0.26151256908410203\n",
    "              - 0.7593840546088471\n",
    "              - 1.492391911786944\n",
    "              BIN_CENTERS_SIGMA_BS:\n",
    "              - 0.00886473342482512\n",
    "              - 0.009578223372819055\n",
    "              - 0.013132219172208937\n",
    "              MEAN_BS:\n",
    "              - 0.08723858288599118\n",
    "              - 0.11446066934486837\n",
    "              - 0.17185082125162893\n",
    "              SIGMA_BS:\n",
    "              - 0.0060519403768464885\n",
    "              - 0.008752563717080358\n",
    "              - 0.006043700892506574\n",
    "              VALUE:\n",
    "              - 0.08452927318731282\n",
    "              - 0.10696974619042877\n",
    "              - 0.17107178338923312\n",
    "\n",
    "</code>"
   ]
  },
  {
   "cell_type": "code",
   "execution_count": null,
   "metadata": {
    "collapsed": false
   },
   "outputs": [],
   "source": [
    "a = pval.weighted_nz_distributions(dataFrame, binning=zbins, weights=None, tomo_bins=[0,0.2,0.5], z_phot= dataFrame.Z_SPEC.values , n_resample=50)"
   ]
  },
  {
   "cell_type": "code",
   "execution_count": null,
   "metadata": {
    "collapsed": true
   },
   "outputs": [],
   "source": []
  }
 ],
 "metadata": {
  "kernelspec": {
   "display_name": "Python 2",
   "language": "python",
   "name": "python2"
  },
  "language_info": {
   "codemirror_mode": {
    "name": "ipython",
    "version": 2
   },
   "file_extension": ".py",
   "mimetype": "text/x-python",
   "name": "python",
   "nbconvert_exporter": "python",
   "pygments_lexer": "ipython2",
   "version": "2.7.10"
  }
 },
 "nbformat": 4,
 "nbformat_minor": 0
}
