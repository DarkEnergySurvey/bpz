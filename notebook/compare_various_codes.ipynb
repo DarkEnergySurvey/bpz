{
 "cells": [
  {
   "cell_type": "markdown",
   "metadata": {},
   "source": [
    "<h2>Photo-z validation metrics Comparison</h2>\n",
    "\n",
    "This notebook compares various algorithms validations. It reads from json files in results directory. \n",
    "\n",
    "*You will need to change path_to_repo to your local computer*\n"
   ]
  },
  {
   "cell_type": "markdown",
   "metadata": {},
   "source": [
    "\n"
   ]
  },
  {
   "cell_type": "code",
   "execution_count": 32,
   "metadata": {
    "collapsed": false,
    "run_control": {
     "marked": false
    }
   },
   "outputs": [],
   "source": [
    "import numpy as np\n",
    "%matplotlib inline\n",
    "import matplotlib.pyplot as plt\n",
    "import glob\n",
    "import pickle\n",
    "import json\n",
    "from IPython.display import display, HTML, display_pretty\n",
    "import pandas\n",
    "import datetime\n",
    "\n",
    "path_to_repo = '/home/carnero/'\n",
    "path = path_to_repo + 'photoz_repo/photoz-wg/notebook/results/'\n",
    "\n",
    "#json_files = ['others_coadd_lss.json','portal_coadd_lss.json']\n",
    "json_files = ['meta_wl.json']\n",
    "\n",
    "if 'lss' in json_files[0]:\n",
    "    science_sample = 'LSS'\n",
    "elif 'wl' in json_files[0]:\n",
    "    science_sample = 'WL'\n",
    "elif 'y1' in json_files[0]:\n",
    "    science_sample = 'Y1'\n",
    "else:\n",
    "    print 'need a science sample'\n",
    "\n",
    "\n",
    "\n"
   ]
  },
  {
   "cell_type": "code",
   "execution_count": 33,
   "metadata": {
    "collapsed": false,
    "run_control": {
     "marked": true
    }
   },
   "outputs": [],
   "source": [
    "almost_black = '#262626'\n",
    "plt.rcParams['figure.figsize'] = (20, 12)\n",
    "plt.rcParams.update({'font.size': 20, \n",
    "                     'axes.linewidth': 5,\n",
    "                    'text.color': almost_black,\n",
    "                    'xtick.major.size': 4,\n",
    "                    'ytick.major.size': 4,\n",
    "                    'legend.fancybox': True,\n",
    "                    'figure.dpi': 300,\n",
    "                    'legend.fontsize': 16,\n",
    "                    'legend.framealpha': 0.8,\n",
    "                    'legend.shadow': True,\n",
    "                    'xtick.labelsize': 12,\n",
    "                    'ytick.labelsize': 12})"
   ]
  },
  {
   "cell_type": "markdown",
   "metadata": {},
   "source": [
    "<h3>Set up the requirements and plotting </h3>\n",
    "\n",
    "Define what plotting symbols to use, and also Y5 requirements\n"
   ]
  },
  {
   "cell_type": "code",
   "execution_count": 34,
   "metadata": {
    "collapsed": true
   },
   "outputs": [],
   "source": [
    "class scaled_error():\n",
    "    def __init__(self, const, scaling_type):\n",
    "        self.const = const\n",
    "        self.scaling = None\n",
    "        if scaling_type == 'one_plus_z':\n",
    "            self.scaling = self.one_plus_z \n",
    "        else:\n",
    "            self.scaling = self.const_with_z\n",
    "        \n",
    "    def one_plus_z(self, z):\n",
    "        return np.array((1 + z) * self.const)\n",
    "    \n",
    "    def const_with_z(self, z):\n",
    "        return np.array(len(z) * [self.const])\n",
    "    "
   ]
  },
  {
   "cell_type": "code",
   "execution_count": 35,
   "metadata": {
    "collapsed": false,
    "run_control": {
     "marked": true
    }
   },
   "outputs": [],
   "source": [
    "\n",
    "\n",
    "#requirements from science handbook\n",
    "# http://des-docdb.fnal.gov:8080/cgi-bin/RetrieveFile?docid=20&filename=sciReq-9.86.pdf&version=32\n",
    "# http://des-docdb.fnal.gov:8080/cgi-bin/ShowDocument?docid=1719\n",
    "requirements = {'sigma_68':{'value': scaled_error(0.12, 'const'), 'error': scaled_error(0.003, 'const')},\n",
    "                'wl_metric': {'value': scaled_error( 0.02, 'const'), 'error': scaled_error(0.02, 'const')},\n",
    "                'outFrac_2sigma68': { 'value': scaled_error(0.1, 'one_plus_z') , 'error': scaled_error(0.001, 'const') },\n",
    "#                'outFrac_3sigma68': {'value': scaled_error(0.015, 'one_plus_z'), 'error': scaled_error(0.0015, 'const') },\n",
    "                'median': {'value': scaled_error(0, 'one_plus_z'), 'error': scaled_error(0.001, 'one_plus_z') },\n",
    "#                'median_1pz': {'value': scaled_error(0, 'one_plus_z'), 'error': scaled_error(0.001, 'one_plus_z') },\n",
    "                }\n",
    "\n",
    "    \n",
    "#plotting ranges\n",
    "plt_range = {'sigma_68': [0, 0.5],\n",
    "            'wl_metric': [0, 0.1],\n",
    "            'outFrac_2sigma68': [0, 0.3],\n",
    "            'outFrac_3sigma68': [0, 0.3],\n",
    "             'median' : [-0.1, 0.1],\n",
    "             'sigma_68_1pz': [0, 0.2],\n",
    "            'median_1pz': [-0.1, 0.1]\n",
    "             \n",
    "            }\n",
    "\n",
    "metric_latex = {\n",
    "    'sigma_68' :'$\\sigma_{68}(z_{true} - z_{pred})$',\n",
    "    'sigma_68_1pz' :'$\\sigma_{68}((z_{true} - z_{pred})/(1 + z_{true}))$',\n",
    "    'wl_metric': '$|<z_{true}> - <z^{MC}_{pred}>|$',\n",
    "    'outFrac_2sigma68': '$f(>2*\\sigma_{68})$',\n",
    "    'outFrac_3sigma68': '$f(>3*\\sigma_{68})$',\n",
    "    'outFrac_2sigma68_1pz': '$f(>2*\\sigma_{68}/(1+z))$',\n",
    "    'outFrac_3sigma68_1pz': '$f(>3*\\sigma_{68}/(1+z))$',\n",
    "    'median' : '$\\mu(z_{true} - z_{pred})$',\n",
    "    'median_1pz' : '$\\mu(z_{true} - z_{pred})/(1 + z_{true})$',\n",
    "    'delta_sigma_crit': '$\\Delta \\Sigma_{C}'\n",
    "}\n",
    "\n",
    "metric_description = {\n",
    "    'sigma_68' :'68% spread (std.) of delta=(z_true - z_phot)',\n",
    "    'sigma_68_1pz' :'68% spread of delta=(z_true - z_phot)/(1 + z_true))',\n",
    "    'wl_metric': '|<z_true> - <z^MC_phot>|$',\n",
    "    'outFrac_2sigma68': 'Frac. data with abs(delta) >2*sigma_68',\n",
    "    'outFrac_3sigma68': 'Frac data with abs(detla) >3*sigma_68',\n",
    "    'outFrac_2sigma68_1pz': 'Frac data with abs(deta/(1+z)) >2*sigma_68',\n",
    "    'outFrac_3sigma68_1pz': 'Frac data with abs(deta/(1+z)) >3*sigma_68',\n",
    "    'median' : '$median(z_true - z_phot)$',\n",
    "    'median_1pz' : '$median (delta/(1+z)$',\n",
    "    'delta_sigma_crit': '$Delta Sigma Critical'\n",
    "}\n",
    "\n"
   ]
  },
  {
   "cell_type": "markdown",
   "metadata": {},
   "source": [
    "\n",
    "<h3>Metrics of interest</h3>\n",
    "\n",
    "Let us decide which metrics we want to measure. Edit this list with metrics that we measured from the validation script. Look at the structure of the validation .yaml file to understand this indexing."
   ]
  },
  {
   "cell_type": "code",
   "execution_count": 36,
   "metadata": {
    "collapsed": false
   },
   "outputs": [],
   "source": [
    "if science_sample == 'WL':\n",
    "    #what is the WL binning structure.\n",
    "    bins = [0.1, 0.2, 0.43, 0.63, 0.9, 1.3]\n",
    "\n",
    "    \n",
    "if science_sample == 'LSS':\n",
    "    \n",
    "    #lss has other different requirements\n",
    "    requirements = {\n",
    "                'sigma_68':{ 'value': scaled_error(0.03, 'one_plus_z') , 'error': scaled_error(0.03, 'const')},\n",
    "                'outFrac_2sigma68': { 'value': scaled_error(0.1, 'const') , 'error': scaled_error(0.001, 'const') },\n",
    "                'outFrac_3sigma68': {'value': scaled_error(0.015, 'const'), 'error': scaled_error(0.0015, 'const') },\n",
    "                'median': {'value': scaled_error(0, 'one_plus_z'), 'error': scaled_error(0.001, 'one_plus_z') },\n",
    "                'median_1pz': {'value': scaled_error(0, 'const_with_z'), 'error': scaled_error(0.001, 'one_plus_z') },\n",
    "                'sigma_68_1pz':{ 'value': scaled_error(0.03, 'const_with_z') , 'error': scaled_error(0.03, 'const')},\n",
    "             }\n",
    "          \n",
    "    \n",
    "    \n",
    "    #plotting ranges\n",
    "    plt_range = {\n",
    "        'sigma_68': [0, 0.2],\n",
    "        'sigma_68_1pz': [0, 0.1],\n",
    "        'outFrac_2sigma68': [0, 0.15],\n",
    "        'outFrac_3sigma68': [0, 0.1],\n",
    "        'median' : [-0.05, 0.05],\n",
    "        'median_1pz': [-0.02, 0.02]\n",
    "        \n",
    "            }\n",
    "    #what is the WL binning structure.\n",
    "    bins = [0.6, 0.7, 0.8, 0.9, 1.0]\n",
    "\n",
    "if science_sample == 'Y1':\n",
    "    \n",
    "    bins = [0,0.1,0.2,0.3,0.4,0.5,0.6,0.7,0.8,0.9,1.0,1.2,1.4]\n",
    "    \n",
    "    \n",
    "    \n"
   ]
  },
  {
   "cell_type": "markdown",
   "metadata": {},
   "source": [
    "<h3>Load results files</h3>\n",
    "\n",
    "Now let's load the json files from the validation pipeline.\n"
   ]
  },
  {
   "cell_type": "code",
   "execution_count": 37,
   "metadata": {
    "collapsed": false,
    "run_control": {
     "marked": true
    }
   },
   "outputs": [
    {
     "data": {
      "text/plain": [
       "                             annz2            bpzHIZ               dnf  \\\n",
       "wl_metric         0.0553 +- 0.0122  0.0428 +- 0.0123  0.0509 +- 0.0121   \n",
       "outFrac_2sigma68  0.0689 +- 0.0029          -- +- --   0.0769 +- 0.003   \n",
       "median            -0.0109 +- 0.008  -0.0412 +- 0.008  -0.0092 +- 0.008   \n",
       "sigma_68          0.2553 +- 0.0108  0.2501 +- 0.0103  0.2408 +- 0.0106   \n",
       "\n",
       "                            lephare               tpz  \n",
       "wl_metric          0.9502 +- 0.0481  0.0898 +- 0.0122  \n",
       "outFrac_2sigma68    0.0781 +- 0.003  0.0738 +- 0.0029  \n",
       "median            -0.0273 +- 0.0079  0.0056 +- 0.0079  \n",
       "sigma_68           0.2301 +- 0.0106  0.2523 +- 0.0108  "
      ]
     },
     "metadata": {},
     "output_type": "display_data"
    }
   ],
   "source": [
    "\n",
    "\n",
    "results = []\n",
    "for js in json_files:\n",
    "    with open(path+js) as json_data:\n",
    "        results +=json.load(json_data)\n",
    "        json_data.close()\n",
    "#print results\n",
    "codes = {}\n",
    "\n",
    "columns = []\n",
    "\n",
    "for result in results:\n",
    "    codes[result['algorithm']] = result\n",
    "    columns.append(result['algorithm'])\n",
    "    \n",
    "general_statistics = {}\n",
    "\n",
    "for cc in columns:\n",
    "    index = []\n",
    "    general_statistics[cc]=[]\n",
    "    for hid in requirements:\n",
    "        index.append(hid)\n",
    "        try:\n",
    "            general_statistics[cc].append(str(codes[cc][hid][0])+' +- '+str(codes[cc][hid][1]))\n",
    "        except:\n",
    "            general_statistics[cc].append('-- +- --')\n",
    "\n",
    "df = pandas.DataFrame(data=general_statistics, index=index)\n",
    "\n",
    "display_pretty(df)"
   ]
  },
  {
   "cell_type": "code",
   "execution_count": 1,
   "metadata": {
    "collapsed": false,
    "run_control": {
     "marked": true
    },
    "scrolled": false
   },
   "outputs": [
    {
     "ename": "NameError",
     "evalue": "name 'columns' is not defined",
     "output_type": "error",
     "traceback": [
      "\u001b[1;31m---------------------------------------------------------------------------\u001b[0m",
      "\u001b[1;31mNameError\u001b[0m                                 Traceback (most recent call last)",
      "\u001b[1;32m<ipython-input-1-162bf813446d>\u001b[0m in \u001b[0;36m<module>\u001b[1;34m()\u001b[0m\n\u001b[0;32m      2\u001b[0m \u001b[0mlw\u001b[0m \u001b[1;33m=\u001b[0m \u001b[1;36m4\u001b[0m\u001b[1;33m\u001b[0m\u001b[0m\n\u001b[0;32m      3\u001b[0m \u001b[0mshow_z\u001b[0m \u001b[1;33m=\u001b[0m \u001b[0mTrue\u001b[0m\u001b[1;33m\u001b[0m\u001b[0m\n\u001b[1;32m----> 4\u001b[1;33m \u001b[1;32mprint\u001b[0m \u001b[0mlen\u001b[0m\u001b[1;33m(\u001b[0m\u001b[0mcolumns\u001b[0m\u001b[1;33m)\u001b[0m\u001b[1;33m+\u001b[0m\u001b[1;36m2\u001b[0m\u001b[1;33m\u001b[0m\u001b[0m\n\u001b[0m\u001b[0;32m      5\u001b[0m \u001b[1;33m\u001b[0m\u001b[0m\n\u001b[0;32m      6\u001b[0m \u001b[0mnow\u001b[0m \u001b[1;33m=\u001b[0m \u001b[0mdatetime\u001b[0m\u001b[1;33m.\u001b[0m\u001b[0mdatetime\u001b[0m\u001b[1;33m.\u001b[0m\u001b[0mnow\u001b[0m\u001b[1;33m(\u001b[0m\u001b[1;33m)\u001b[0m\u001b[1;33m\u001b[0m\u001b[0m\n",
      "\u001b[1;31mNameError\u001b[0m: name 'columns' is not defined"
     ]
    }
   ],
   "source": [
    "Ms = 12\n",
    "lw = 4\n",
    "show_z = True\n",
    "print len(columns)+2\n",
    "\n",
    "now = datetime.datetime.now()\n",
    "#for each of the metrics\n",
    "for m in requirements:\n",
    "    print m\n",
    "    f= plt.figure()\n",
    "    ax = plt.subplot(111)\n",
    "    color =iter(plt.cm.jet(np.linspace(0,1,len(columns)+2)))\n",
    "#        color =iter(plt.cm.rainbow(np.linspace(0,1,len(columns)+2)))\n",
    "    slit = 0.0\n",
    "\n",
    "    \n",
    "    for cc in columns:\n",
    "        z = np.array(codes[cc]['z_tomo'])\n",
    "        c=next(color)\n",
    "        if len(np.array(codes[cc][m+'_tomo'])) > 0:\n",
    "        \n",
    "                  \n",
    "            y = np.array(codes[cc][m+'_tomo'])\n",
    "            ey = np.array(codes[cc][m+'_tomo_err'])\n",
    "            ez = None\n",
    "            \n",
    "        \n",
    "            #add offsets to x-axis plotting for viewability\n",
    "            ax.errorbar(np.array(z)+slit, y, yerr=ey, fmt='^', markersize=str(Ms), elinewidth=lw, label=cc, color=c)\n",
    "#        slit += 0.002\n",
    "        #get requirements if they exist:\n",
    "    \n",
    "\n",
    "    c=next(color)\n",
    "    err_req = requirements[m]['error'].scaling(np.array(z))\n",
    "    print err_req\n",
    "    \n",
    "    temp=ax.errorbar(np.array(z), y, yerr=err_req, fmt=',',markersize=str(Ms), elinewidth=lw, label='Error req.', color=c, capsize=20)\n",
    "    temp[-1][0].set_linestyle('--')\n",
    "    c=next(color)\n",
    "    val_req = requirements[m]['value'].scaling(np.array(z))\n",
    "    \n",
    "    ax.plot(np.array(np.sort(z)), val_req,'--', linewidth=3,label='Value req.', c=c)\n",
    "    box = ax.get_position()\n",
    "    ax.set_position([box.x0, box.y0, box.width * 0.8, box.height])\n",
    "\n",
    "    # Put a legend to the right of the current axis\n",
    "    ax.legend(loc='center left', bbox_to_anchor=(1, 0.5), numpoints=1)\n",
    "    \n",
    "    plt.xlabel('Tomographic redshift bin')\n",
    "    plt.title('%s %s' %(science_sample, str(now.strftime(\"%Y-%m-%d %H:%M\"))))\n",
    "    plt.ylim(plt_range[m])\n",
    "    plt.ylabel(metric_latex[m])\n",
    "    #plt.legend(loc=2) \n",
    "    ax.tight_layout()\n",
    "    plt.savefig(science_sample + '.' + m + '.png')\n",
    "    print (\" \")\n",
    "\n",
    "        "
   ]
  },
  {
   "cell_type": "code",
   "execution_count": null,
   "metadata": {
    "collapsed": true
   },
   "outputs": [],
   "source": []
  },
  {
   "cell_type": "code",
   "execution_count": null,
   "metadata": {
    "collapsed": true
   },
   "outputs": [],
   "source": []
  }
 ],
 "metadata": {
  "anaconda-cloud": {},
  "kernelspec": {
   "display_name": "Python 2",
   "language": "python",
   "name": "python2"
  },
  "language_info": {
   "codemirror_mode": {
    "name": "ipython",
    "version": 2
   },
   "file_extension": ".py",
   "mimetype": "text/x-python",
   "name": "python",
   "nbconvert_exporter": "python",
   "pygments_lexer": "ipython2",
   "version": "2.7.12"
  },
  "latex_envs": {
   "bibliofile": "biblio.bib",
   "cite_by": "apalike",
   "current_citInitial": 1,
   "eqLabelWithNumbers": true,
   "eqNumInitial": 0
  }
 },
 "nbformat": 4,
 "nbformat_minor": 0
}
