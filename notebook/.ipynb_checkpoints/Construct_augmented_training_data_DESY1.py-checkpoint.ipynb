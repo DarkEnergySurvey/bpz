{
 "cells": [
  {
   "cell_type": "code",
   "execution_count": 2,
   "metadata": {
    "collapsed": true,
    "run_control": {
     "marked": true
    }
   },
   "outputs": [],
   "source": [
    "%matplotlib inline\n",
    "import matplotlib.pyplot as plt\n",
    "from sklearn.ensemble import RandomForestRegressor, AdaBoostRegressor\n",
    "from sklearn.tree import DecisionTreeRegressor\n",
    "import numpy as np\n",
    "from weighted_kde import gaussian_kde as gss_kde\n",
    "import sys \n",
    "import time\n",
    "import cPickle as pickle\n",
    "import sml_mla as ml\n",
    "import ml_metrics as ml_m\n",
    "import ml_params as mlp\n",
    "import math\n",
    "from astropy.table import Table, vstack\n",
    "import numpy as np\n",
    "import healpy as hp\n",
    "import os\n",
    "from sklearn.neighbors import KNeighborsRegressor, RadiusNeighborsRegressor\n",
    "import matplotlib.mlab as mlab\n",
    "from sklearn.neighbors import KernelDensity\n",
    "import calculate_weights as cw\n",
    "import kmeansClusters as km\n",
    "import anomaly_detection as ad\n",
    "import augment_data as augd\n",
    "reload(augd)\n",
    "from sklearn.neighbors import NearestNeighbors\n",
    "import copy \n",
    "\n",
    "from sklearn.metrics import r2_score\n",
    "\n",
    "almost_black = '#262626'\n",
    "plt.rcParams['figure.figsize'] = (12, 8)\n",
    "plt.rcParams.update({'font.size': 32, \n",
    "                     'axes.linewidth': 5,\n",
    "                    'text.color': almost_black,\n",
    "                    'xtick.major.size': 4,\n",
    "                    'ytick.major.size': 4,\n",
    "                    'legend.fancybox': True,\n",
    "                    'figure.dpi': 300,\n",
    "                    'legend.fontsize': 14,\n",
    "                    'legend.framealpha': 0.8,\n",
    "                    'legend.shadow': True,\n",
    "                    'xtick.labelsize': 32,\n",
    "                    'ytick.labelsize': 32})\n",
    "\n",
    "def score_metric(z_spec, z_phot, weight_):\n",
    "    #diff1z = pval.delta_z_1pz(z_spec, z_phot)\n",
    "    #res = pval.bootstrap_mean_error(diff1z, weight_, pval.sigma_68, Nsamples=150)\n",
    "    return ml_m.Deltaz_sigma_68(z_spec, z_phot, sample_weight=weight_) * -1.0 \n",
    "    #return [res['mean'], res['sigma']]\n",
    "\n",
    "\n",
    "def normalise(arr):\n",
    "    arr = np.array(arr, dtype=float)\n",
    "    arr = arr / np.sum(arr)\n",
    "    return arr\n",
    "\n",
    "from bh_parallelise import Parrallelise\n",
    "from sklearn.covariance import EllipticEnvelope"
   ]
  },
  {
   "cell_type": "code",
   "execution_count": null,
   "metadata": {
    "collapsed": true,
    "run_control": {
     "marked": true
    }
   },
   "outputs": [],
   "source": [
    "#how many machines to train\n",
    "Nmachines = 50\n",
    "\n",
    "#some functions to generate a machine and to test performance\n",
    "def rand_machine():\n",
    "    clf = AdaBoostRegressor(base_estimator=DecisionTreeRegressor())\n",
    "    if np.random.uniform() < 0.5:\n",
    "        clf = RandomForestRegressor()\n",
    "    # get parameters from this MLA\n",
    "    curr_params = clf.get_params()\n",
    "    params = mlp.getRandomParams()\n",
    "    params['n_estimators'] = np.random.randint(10, 100)\n",
    "    params['n_jobs'] = 5 \n",
    "    curr_params = ml.combineParameters(curr_params, params)\n",
    "    curr_params = ml.tree_loss(curr_params, clf)\n",
    "    clf.set_params(**curr_params)\n",
    "    return clf\n",
    "\n",
    "def get_score(truth_, pred_, sample_weight=None):\n",
    "    return  {'r2' : r2_score(truth_, pred_, sample_weight=sample_weight),\n",
    "     'other': ml_m.getStats((truth_ - pred_) / (1 + truth_), sample_weight=sample_weight)\n",
    "     }\n",
    "\n",
    "#loop over all trees to get a redshift dist\n",
    "def allPredictions(cl, inp):\n",
    "    pred = cl.predict(inp)\n",
    "\n",
    "    pdf = np.zeros((len(pred), len(cl.estimators_)))\n",
    "    if hasattr(cl, 'estimator_weights_'):\n",
    "        weights = cl.estimator_weights_ / np.sum(cl.estimator_weights_)\n",
    "        weightsInt = np.array(len(weights) * 3 / np.sum(weights) * weights, dtype=int)\n",
    "        wpdf = np.zeros((len(pred), np.sum(weightsInt)))\n",
    "        del pdf\n",
    "    sm = 0\n",
    "    for i, DT in enumerate(cl.estimators_):\n",
    "        if isinstance(DT, (list, tuple, np.ndarray)):\n",
    "            DT = DT[0]\n",
    "        DTz = DT.predict(inp)\n",
    "\n",
    "        if hasattr(cl, 'estimator_weights_'):\n",
    "            #make a weighted pdf\n",
    "            for j in range(weightsInt[i]):\n",
    "                wpdf[:, sm] = DTz\n",
    "                sm += 1\n",
    "        else:\n",
    "            pdf[:, i] = DTz\n",
    "\n",
    "    if hasattr(cl, 'estimator_weights_'):\n",
    "        rind = np.random.choice(range(sm), size=len(pred), replace=True)\n",
    "        return np.std(wpdf[:, 0:sm], axis=1), np.array([wpdf[i,rind[i]] for i in range(len(rind))])\n",
    "    \n",
    "    rind = np.random.choice(range(len(pdf[0])), size=len(pdf), replace=True)\n",
    "    return np.std(pdf, axis=1), np.array([pdf[i,rind[i]] for i in range(len(rind))])\n",
    "\n",
    "\n",
    "# parralelisation function\n",
    "# beware some global variables like score_metric is in here\n",
    "def xvFitPredict(_):\n",
    "    _clf, inputs, outputs, train_weights_arr, _indho = _\n",
    "    # train on non held out\n",
    "    _intr = np.setdiff1d(np.arange(len(inputs)), _indho, assume_unique=True)\n",
    "\n",
    "    inp_ = copy.deepcopy(inputs[_intr])\n",
    "    outp_ = copy.deepcopy(outputs[_intr])\n",
    "\n",
    "    #if we have training weights, then bootstrap resample from weights\n",
    "\n",
    "    wt_ = train_weights_arr[_intr]\n",
    "    wt_ = wt_ / np.sum(wt_)\n",
    "\n",
    "    _clf.fit(inp_, outp_, wt_)\n",
    "\n",
    "    dictXv = {}\n",
    "    # calculate stats on held out fraction\n",
    "    dictXv['predict'] = _clf.predict(inputs[_indho])\n",
    "\n",
    "    dictXv['sigma'] = allPredictions(_clf, inputs[_indho])\n",
    "\n",
    "    # calcaulate score\n",
    "    dictXv['scoreXv'] = get_score(outputs[_indho], dictXv['predict'], \n",
    "                                  sample_weight=train_weights_arr[_indho])\n",
    "    dictXv['outputs'] = outputs[_indho]\n",
    "    dictXv['index'] = _indho\n",
    "    return dictXv\n",
    "\n",
    "\n",
    "#kde_augment or kde_knn_augment\n",
    "def k_fold_val(inputs, outputs, train_weights, Nfolds, Niterations):\n",
    "      \n",
    "    indHo = np.array_split(np.arange(len(inputs)), Nfolds)\n",
    "    results = {}\n",
    "    score_best = 100\n",
    "    for i in range(Niterations):\n",
    "        \n",
    "        clf = rand_machine()\n",
    "        resXv = {}\n",
    "    \n",
    "        arrp = []\n",
    "        for j in range(len(indHo)):\n",
    "            arrp.append([clf, inputs, outputs, train_weights, indHo[j]])\n",
    "        \n",
    "        res1 = Parrallelise(n_jobs=5, method=xvFitPredict, loop=arrp).run()\n",
    "\n",
    "        for j in range(len(indHo)):\n",
    "            resXv[j] = res1[j]\n",
    "            \n",
    "        scoreXv = np.zeros(Nfolds).astype(float)\n",
    "        predict = np.zeros(len(inputs), dtype=float)\n",
    "        sigma = np.zeros(len(inputs), dtype=float)\n",
    "        for k in resXv:\n",
    "            scoreXv[k] = resXv[k]['scoreXv']['other']['sigma_68']\n",
    "            predict[indHo[k]] = resXv[k]['predict']\n",
    "            sigma[indHo[k]] = resXv[k]['sigma']\n",
    "            \n",
    "        score = np.mean(scoreXv)\n",
    "        print score, np.std(scoreXv)\n",
    "        \n",
    "        if score < score_best:\n",
    "            score_best = score\n",
    "            #results['xval'] = resXv\n",
    "            clf.fit(inputs, outputs, train_weights)\n",
    "            results['clf'] = clf\n",
    "            results['predict'] = predict\n",
    "            results['sigma'] = sigma\n",
    "            results['z_mc'] = predict + np.random.normal(size=len(predict)) * sigma\n",
    "            \n",
    "    return results, score_best\n",
    "\n",
    "  "
   ]
  },
  {
   "cell_type": "code",
   "execution_count": null,
   "metadata": {
    "collapsed": true,
    "run_control": {
     "marked": false
    }
   },
   "outputs": [],
   "source": [
    "test_phot = '/Users/hoyleb/DATA/DES/PHOTOZ/Y1v103/ALHCOSVALIDATIONID.BPZ.WLflags.Y1v103.fits'\n",
    "train_spec = '/Users/hoyleb/DATA/DES/PHOTOZ/DES_training_all_available_spec.BPZ.fits'\n",
    "#sims = '/Users/hoyleb/DATA/DES/PHOTOZ/Mill.Sim.Des.Mags.fits'\n",
    "sims = '/Users/hoyleb/DATA/DES/PHOTOZ/BuzzardY1.nside4096.Alhambra_Cosmos.photoz_sampl.v1.fits'\n",
    "features = ['MAG_AUTO_I', 'MAG_AUTO_G','MAG_AUTO_R', 'MAG_AUTO_Z', 'MAG_AUTO_G-MAG_AUTO_R', \n",
    "            'MAG_AUTO_R-MAG_AUTO_I', 'MAG_AUTO_Z-MAG_AUTO_I', \n",
    "            'MAG_AUTO_Z-MAG_AUTO_G']#,'MEAN_Z', 'MODE_Z']\n",
    "\n"
   ]
  },
  {
   "cell_type": "code",
   "execution_count": null,
   "metadata": {
    "collapsed": false
   },
   "outputs": [],
   "source": [
    "\n",
    "inputs_tst, ExtraColsDict_tst = ml.dataSet(test_phot, features, ['COADD_OBJECTS_ID', 'REDSHIFT', \n",
    "                                                                 'MAG_AUTO_I', 'MEAN_Z', 'MODE_Z', 'Z_MC']).loadData()\n",
    "inputs_tr, ExtraColsDict_tr = ml.dataSet(train_spec, features, ['COADD_OBJECTS_ID','Z', 'MAGERR_AUTO_I', \n",
    "                                                                'MAG_AUTO_I', 'FLAG', 'ERR_Z']).loadData()\n",
    "ind = (ExtraColsDict_tr['FLAG']>3) * (ExtraColsDict_tr['MAGERR_AUTO_I']<0.3\n",
    "       ) * (ExtraColsDict_tr['MAG_AUTO_I'] < 23.6)* (ExtraColsDict_tr['MAG_AUTO_I']> 16.8)\n",
    "\n",
    "print len(inputs_tr)\n",
    "inputs_tr = inputs_tr[ind]\n",
    "print len(inputs_tr)\n",
    "for i in ExtraColsDict_tr:\n",
    "    ExtraColsDict_tr[i] = ExtraColsDict_tr[i][ind]\n",
    "\n",
    "ExtraColsDict_tr['REDSHIFT'] = np.array(ExtraColsDict_tr['Z'])\n"
   ]
  },
  {
   "cell_type": "code",
   "execution_count": null,
   "metadata": {
    "collapsed": false
   },
   "outputs": [],
   "source": [
    "#first remove any data not within 1class SVM of test photometry:\n",
    "anom_clf = ad.anomaly_detection(inputs_tst, inlier_fraction=0.99,verbose=True)\n",
    "pred_tr, dist, mahalanobis = ad.anomaly_predict_distance(anom_clf, inputs_tr)"
   ]
  },
  {
   "cell_type": "code",
   "execution_count": null,
   "metadata": {
    "collapsed": false
   },
   "outputs": [],
   "source": [
    "inputs_au, ExtraColsDict_au = ml.dataSet(sims, features, ['ID','REDSHIFT']).loadData()\n",
    "pred_au, dist, mahalanobis = ad.anomaly_predict_distance(anom_clf, inputs_au)\n",
    "inputs_au = inputs_au[pred_au>0]\n",
    "for i in ExtraColsDict_au:\n",
    "    ExtraColsDict_au[i] = ExtraColsDict_au[i][pred_au>0]\n"
   ]
  },
  {
   "cell_type": "code",
   "execution_count": null,
   "metadata": {
    "collapsed": false
   },
   "outputs": [],
   "source": [
    "#clean training / augmentation data\n",
    "inputs_tr = inputs_tr[pred_tr>0]\n",
    "print len(inputs_tr)\n",
    "for i in ExtraColsDict_tr:\n",
    "    ExtraColsDict_tr[i] = ExtraColsDict_tr[i][pred_tr>0]\n"
   ]
  },
  {
   "cell_type": "code",
   "execution_count": null,
   "metadata": {
    "collapsed": false
   },
   "outputs": [],
   "source": [
    "#make kde augmented training data:\n",
    "input_kde, output_kde = augd.kde_knn_augmented_data(inputs_tr, ExtraColsDict_tr['REDSHIFT'], \n",
    "                                                    inputs_tst, None, band_width=0.001,\n",
    "                                                    num_samples=1000000,n_neighbors=1)\n",
    "input_kde = input_kde[output_kde>0]\n",
    "output_kde = output_kde[output_kde>0]"
   ]
  },
  {
   "cell_type": "code",
   "execution_count": null,
   "metadata": {
    "collapsed": false
   },
   "outputs": [],
   "source": [
    "#split test space into color cells\n",
    "km_clf = km.fit_kmeans(inputs_tst, 70)\n",
    "           \n",
    "id_train = km_clf.predict(inputs_tr)\n",
    "\n",
    "id_trkde = km_clf.predict(input_kde)\n",
    "id_test = km_clf.predict(inputs_tst)\n",
    "\n",
    "print len(id_train), len(id_trkde), len(id_test)\n",
    "print len(np.unique(id_test)), len(np.unique(id_train))\n",
    "print len(np.unique(id_trkde))\n"
   ]
  },
  {
   "cell_type": "code",
   "execution_count": null,
   "metadata": {
    "collapsed": false
   },
   "outputs": [],
   "source": [
    "id_trau = km_clf.predict(inputs_au)\n",
    "print  len(id_trau), len(np.unique(id_trau))\n"
   ]
  },
  {
   "cell_type": "code",
   "execution_count": null,
   "metadata": {
    "collapsed": false,
    "scrolled": true
   },
   "outputs": [],
   "source": [
    "print 'cluster number, #test, #train, #sim, #kde Aug'\n",
    "for i in np.unique(id_test):\n",
    "    print i, np.sum(id_test ==i), np.sum(id_train ==i), np.sum(id_trkde ==i) #np.sum(id_trau ==i)"
   ]
  },
  {
   "cell_type": "code",
   "execution_count": null,
   "metadata": {
    "collapsed": false
   },
   "outputs": [],
   "source": [
    "#train machines on base data\n",
    "Nfolds, Niterations = 5, 15\n",
    "\n",
    "res_tr, score_best_tr = k_fold_val(inputs_tr, ExtraColsDict_tr['REDSHIFT'], np.ones(len(inputs_tr)), Nfolds, Niterations)\n",
    "res_kde, score_best_kde = k_fold_val(input_kde, output_kde, np.ones(len(input_kde)), Nfolds, Niterations)\n",
    "\n",
    "predict_tr = res_tr['clf'].predict(inputs_tst)\n",
    "predict_kde = res_kde['clf'].predict(inputs_tst)\n",
    "\n",
    "Ntest = len(ExtraColsDict_tst['REDSHIFT'])\n",
    "score_tr = get_score(ExtraColsDict_tst['REDSHIFT'], predict_tr,  sample_weight=np.ones(Ntest))\n",
    "score_kde = get_score(ExtraColsDict_tst['REDSHIFT'], predict_kde,  sample_weight=np.ones(Ntest))\n",
    "score_BPZ = get_score(ExtraColsDict_tst['REDSHIFT'], ExtraColsDict_tst['MEAN_Z'],  sample_weight=np.ones(Ntest))\n"
   ]
  },
  {
   "cell_type": "code",
   "execution_count": null,
   "metadata": {
    "collapsed": false
   },
   "outputs": [],
   "source": []
  },
  {
   "cell_type": "code",
   "execution_count": null,
   "metadata": {
    "collapsed": false
   },
   "outputs": [],
   "source": [
    "Nfolds, Niterations = 2, 5\n",
    "res_au, score_best_au = k_fold_val(inputs_au, ExtraColsDict_au['REDSHIFT'], np.ones(len(inputs_au)), Nfolds, Niterations)\n",
    "predict_au = res_au['clf'].predict(inputs_tst)\n",
    "score_au = get_score(ExtraColsDict_tst['REDSHIFT'], predict_au,  sample_weight=np.ones(Ntest))\n",
    "\n",
    "print 'score_au'\n",
    "print score_au"
   ]
  },
  {
   "cell_type": "code",
   "execution_count": null,
   "metadata": {
    "collapsed": false
   },
   "outputs": [],
   "source": [
    "\n",
    "inp_tr_kde = np.append(input_kde, inputs_tr, axis=0)\n",
    "outp_tr_kde = np.append(output_kde,ExtraColsDict_tr['REDSHIFT'])\n",
    "ind = np.arange(len(outp_tr_kde))\n",
    "np.random.shuffle(ind)\n",
    "\n",
    "outp_tr_kde = outp_tr_kde[ind]\n",
    "inp_tr_kde = inp_tr_kde[ind]\n",
    "res_tr_kde, score_best_kde = k_fold_val(inp_tr_kde, outp_tr_kde , \n",
    "                                        np.ones(len(outp_tr_kde)), Nfolds, Niterations)\n",
    "predict_tr_kde  = res_tr_kde['clf'].predict(inputs_tst)\n",
    "score_tr_kde = get_score(ExtraColsDict_tst['REDSHIFT'], predict_tr_kde,  sample_weight=np.ones(Ntest))"
   ]
  },
  {
   "cell_type": "code",
   "execution_count": null,
   "metadata": {
    "collapsed": false
   },
   "outputs": [],
   "source": [
    "print 'score_tr'\n",
    "print score_tr\n",
    "\n",
    "print 'score_kde'\n",
    "print score_kde\n",
    "\n",
    "print 'score_tr_kde'\n",
    "print score_tr_kde\n",
    "\n",
    "print 'score_BPZ'\n",
    "print score_BPZ"
   ]
  },
  {
   "cell_type": "code",
   "execution_count": null,
   "metadata": {
    "collapsed": false
   },
   "outputs": [],
   "source": [
    "res_ = {}\n",
    "for i in np.unique(id_test):\n",
    "    #print i\n",
    "    ind = id_test == i\n",
    "    res_[i] = {}\n",
    "    res_[i]['score_tr'] = get_score(ExtraColsDict_tst['REDSHIFT'][ind], predict_tr[ind],  sample_weight=np.ones(np.sum(ind)))\n",
    "    res_[i]['score_au'] = get_score(ExtraColsDict_tst['REDSHIFT'][ind], predict_au[ind],  sample_weight=np.ones(np.sum(ind)))\n",
    "    res_[i]['score_kde'] = get_score(ExtraColsDict_tst['REDSHIFT'][ind], predict_kde[ind],  sample_weight=np.ones(np.sum(ind)))\n",
    "    res_[i]['score_trkde'] = get_score(ExtraColsDict_tst['REDSHIFT'][ind], predict_tr_kde[ind],  sample_weight=np.ones(np.sum(ind)))\n",
    "    res_[i]['score_BPZ'] = get_score(ExtraColsDict_tst['REDSHIFT'][ind], ExtraColsDict_tst['MEAN_Z'][ind],  sample_weight=np.ones(np.sum(ind)))\n",
    "    res_[i]['REDSHIFT'] = np.median(ExtraColsDict_tst['REDSHIFT'][ind]), np.std(ExtraColsDict_tst['REDSHIFT'][ind])\n",
    "\n"
   ]
  },
  {
   "cell_type": "code",
   "execution_count": null,
   "metadata": {
    "collapsed": false
   },
   "outputs": [],
   "source": [
    "plt.plot(predict_kde ,ExtraColsDict_tst['REDSHIFT'],',')\n",
    "plt.plot(np.arange(3), np.arange(3),'--', linewidth=3)\n",
    "plt.xlabel('Photo-z')\n",
    "plt.ylabel('Redshift')\n",
    "plt.xlim(0,1.4)\n",
    "plt.ylim(0, 1.4)"
   ]
  },
  {
   "cell_type": "code",
   "execution_count": null,
   "metadata": {
    "collapsed": false
   },
   "outputs": [],
   "source": [
    "#plot results\n",
    "index = np.unique(id_test)\n",
    "\n",
    "plt.errorbar(index, [res_[i]['score_tr']['other']['median'] for i in index], \n",
    "          yerr = [res_[i]['score_tr']['other']['sigma_68'] for i in index]  ,fmt='o', label='Specz-train')\n",
    "plt.errorbar(index, [res_[i]['score_kde']['other']['median'] for i in index], \n",
    "          yerr = [res_[i]['score_kde']['other']['sigma_68'] for i in index] ,fmt='o', label='KDE-train')\n",
    "plt.errorbar(index, [res_[i]['score_trkde']['other']['median'] for i in index], \n",
    "          yerr = [res_[i]['score_trkde']['other']['sigma_68'] for i in index]  ,fmt='o', label='Spec+KDE')\n",
    "plt.errorbar(index, [res_[i]['score_BPZ']['other']['median'] for i in index], \n",
    "          yerr = [res_[i]['score_BPZ']['other']['sigma_68'] for i in index]  ,fmt='o', label='BPZ')\n",
    "plt.errorbar(index, [res_[i]['score_au']['other']['median'] for i in index], \n",
    "          yerr = [res_[i]['score_kde']['other']['sigma_68'] for i in index]  ,fmt='o' , label='Sim')\n",
    "\n",
    "plt.xlabel('Kmeans cluster label')\n",
    "plt.ylabel('$\\mu \\pm \\sigma_{68}$')\n",
    "plt.legend()\n",
    "\n",
    "f = plt.figure()\n",
    "redshift = [res_[i]['REDSHIFT'][0] for i in index]\n",
    "plt.errorbar(redshift, [res_[i]['score_tr']['other']['median'] for i in index], \n",
    "          yerr = [res_[i]['score_tr']['other']['sigma_68'] for i in index]  , fmt='o', label='Specz-train')\n",
    "plt.errorbar(redshift, [res_[i]['score_kde']['other']['median'] for i in index], \n",
    "          yerr = [res_[i]['score_kde']['other']['sigma_68'] for i in index] ,fmt='o', label='KDE-train')\n",
    "plt.errorbar(redshift, [res_[i]['score_trkde']['other']['median'] for i in index], \n",
    "          yerr = [res_[i]['score_trkde']['other']['sigma_68'] for i in index]  ,fmt='o', label='Spec+KDE')\n",
    "plt.errorbar(redshift, [res_[i]['score_BPZ']['other']['median'] for i in index], \n",
    "          yerr = [res_[i]['score_BPZ']['other']['sigma_68'] for i in index]  ,fmt='o', label='BPZ')\n",
    "plt.errorbar(redshift, [res_[i]['score_au']['other']['median'] for i in index], \n",
    "          yerr = [res_[i]['score_kde']['other']['sigma_68'] for i in index]  ,fmt='o', label='Sim')\n",
    "\n",
    "plt.xlabel('True Redshift')\n",
    "plt.ylabel('$\\mu \\pm \\sigma_{68}$')\n",
    "plt.legend()\n"
   ]
  },
  {
   "cell_type": "markdown",
   "metadata": {},
   "source": [
    "<h3>Get Z_MC</h3>"
   ]
  },
  {
   "cell_type": "code",
   "execution_count": null,
   "metadata": {
    "collapsed": true
   },
   "outputs": [],
   "source": [
    "#get sigma and random draw\n",
    "sig_tr, mc_tr = allPredictions(res_tr['clf'], inputs_tst)\n",
    "sig_kde, mc_kde = allPredictions(res_kde['clf'], inputs_tst)\n",
    "sig_au, mc_au = allPredictions(res_au['clf'], inputs_tst)\n",
    "sig_tr_kde, mc_tr_kde = allPredictions(res_tr_kde['clf'], inputs_tst)\n",
    "\n",
    "def non_zero_draw(xarr, sigx):\n",
    "    draw = np.zeros(len(xarr))\n",
    "    while np.any(draw<=0):\n",
    "        ind = draw <= 0\n",
    "        draw[ind] = xarr[ind] + np.random.normal(size=np.sum(ind))*sigx[ind]\n",
    "    return draw\n",
    "\n",
    "zmc_tr = non_zero_draw(predict_tr, sig_tr)\n",
    "zmc_kde = non_zero_draw(predict_kde, sig_kde)\n",
    "zmc_au = non_zero_draw(predict_au, sig_au)\n",
    "zmc_tr_kde = non_zero_draw(predict_tr_kde, sig_tr_kde)\n"
   ]
  },
  {
   "cell_type": "code",
   "execution_count": null,
   "metadata": {
    "collapsed": false
   },
   "outputs": [],
   "source": [
    "#plt.plot(ExtraColsDict_tst['REDSHIFT'], zmc_tr,',')\n",
    "plt.plot(ExtraColsDict_tst['REDSHIFT'], predict_tr_kde,',')\n",
    "plt.ylim(0,1.5)\n",
    "plt.xlim(0,1.5)"
   ]
  },
  {
   "cell_type": "markdown",
   "metadata": {},
   "source": [
    "<h3>Results with MillSims as aug, and no BPZ Z_MEAN as training</h3>\n"
   ]
  },
  {
   "cell_type": "code",
   "execution_count": null,
   "metadata": {
    "collapsed": false,
    "scrolled": true
   },
   "outputs": [],
   "source": [
    "zbins = [0.0, 0.1, 0.2, 0.3, 0.5, 0.7, 0.9, 1.1, 1.3]\n",
    "z = {'spec-z': [predict_tr, zmc_tr],\n",
    "     'kde': [predict_kde, zmc_kde],\n",
    "     'spec-z_kde': [predict_tr_kde, zmc_tr_kde],\n",
    "     'BPZ': [ExtraColsDict_tst['MEAN_Z'], ExtraColsDict_tst['Z_MC']],\n",
    "     'SIM': [predict_au, zmc_au]\n",
    "    }\n",
    "wl_res = {}\n",
    "for ky in z.keys():\n",
    "    wl_res[ky] = {}\n",
    "    for i in range(len(zbins) -1):\n",
    "        ind = ( z[ky][0] >=zbins[i]) * (z[ky][0] < zbins[i+1])\n",
    "        if np.sum(ind) > 1:\n",
    "            wl_res[ky][np.mean(z[ky][0][ind])] = np.abs(np.mean(z[ky][1][ind]) - np.mean(ExtraColsDict_tst['REDSHIFT'][ind]))\n",
    "\n",
    "zbn1 = np.arange(200)*0.01\n",
    "true_z = gss_kde(ExtraColsDict_tst['REDSHIFT']).evaluate(zbn1)\n",
    "\n",
    "\n",
    "for ky in z.keys():\n",
    "    f = plt.figure()\n",
    "    mean_z = gss_kde(z[ky][0]).evaluate(zbn1) \n",
    "    mc_z = gss_kde(z[ky][1]).evaluate(zbn1) \n",
    "    \n",
    "    plt.plot(zbn1, true_z, label='Alhmabra-z')\n",
    "    plt.plot(zbn1, mean_z, label=ky)\n",
    "    plt.plot(zbn1, mc_z, label=ky + ' MC')\n",
    "    plt.xlabel('redshift')\n",
    "    plt.legend()\n"
   ]
  },
  {
   "cell_type": "code",
   "execution_count": null,
   "metadata": {
    "collapsed": false,
    "scrolled": true
   },
   "outputs": [],
   "source": [
    "for ky in z.keys():\n",
    "    f = plt.figure()\n",
    "    for i in range(len(zbins) -1):\n",
    "    \n",
    "        ind = ( z[ky][0] >=zbins[i]) * (z[ky][0] < zbins[i+1])\n",
    "    \n",
    "        true_z = gss_kde(ExtraColsDict_tst['REDSHIFT'][ind]).evaluate(zbn1)\n",
    "        #mean_z = gss_kde(z[ky][0]).evaluate(zbn1) \n",
    "        mc_z = gss_kde(z[ky][1][ind]).evaluate(zbn1) \n",
    "        \n",
    "        plt.plot(zbn1, true_z, '--', color='blue')\n",
    "        plt.plot(zbn1, mc_z, '-', label=ky + ' MC')\n",
    "        plt.xlabel('redshift')\n",
    "    plt.title(ky)\n",
    "        "
   ]
  },
  {
   "cell_type": "code",
   "execution_count": null,
   "metadata": {
    "collapsed": false
   },
   "outputs": [],
   "source": [
    "for ky in z.keys():\n",
    "    zs = np.array(wl_res[ky].keys())\n",
    "    zs = np.sort(zs) \n",
    "    plt.plot(zs, [wl_res[ky][j] for j in zs], label=ky)\n",
    "\n",
    "plt.plot(zs, [0.02] * len(zs), '--', linewidth=3, label='WL req.')\n",
    "\n",
    "plt.legend()\n",
    "plt.xlabel('Mean of tomographic redshift bin')\n",
    "plt.ylabel('ML metric |<true>-<pz>|')\n",
    "plt.ylim(-0.01, 0.08)\n"
   ]
  },
  {
   "cell_type": "markdown",
   "metadata": {},
   "source": [
    "<h2>Cull regions of color mag space</h2>"
   ]
  },
  {
   "cell_type": "code",
   "execution_count": null,
   "metadata": {
    "collapsed": false
   },
   "outputs": [],
   "source": [
    "mu = np.array([res_[i]['score_trkde']['other']['median'] for i in index])\n",
    "sig68 = np.array([res_[i]['score_trkde']['other']['sigma_68'] for i in index])\n",
    "\n",
    "maxMu, maxSig = 0.03, 0.1\n",
    "index_keep_trkde = index[ (np.abs(mu) < maxMu) * (sig68 < maxSig)]\n",
    "\n",
    "mu = np.array([res_[i]['score_BPZ']['other']['median'] for i in index])\n",
    "sig68 = np.array([res_[i]['score_BPZ']['other']['sigma_68'] for i in index])\n",
    "\n",
    "index_keep_bpz = index[ (np.abs(mu) < maxMu) * (sig68 < maxSig)]\n",
    "\n",
    "mu = np.array([res_[i]['score_au']['other']['median'] for i in index])\n",
    "sig68 = np.array([res_[i]['score_au']['other']['sigma_68'] for i in index])\n",
    "index_keep_au = index[ (np.abs(mu) < maxMu) * (sig68 < maxSig)]\n",
    "\n",
    "\n",
    "N_bpz = 0\n",
    "n_trkde = 0\n",
    "N_au = 0\n",
    "\n",
    "ind_trkde = np.zeros(len(predict_tr_kde), dtype=bool)\n",
    "ind_au = np.zeros(len(predict_tr_kde), dtype=bool)\n",
    "ind_bpz = np.zeros(len(predict_tr_kde), dtype=bool)\n",
    "\n",
    "for i in index_keep_au:\n",
    "    N_au += np.sum(id_test ==i)\n",
    "    ind_au[id_test ==i] = True\n",
    "    \n",
    "for i in index_keep_trkde:\n",
    "    n_trkde += np.sum(id_test ==i)\n",
    "    ind_trkde[id_test ==i] = True\n",
    "    \n",
    "for i in index_keep_bpz:\n",
    "    N_bpz += np.sum(id_test ==i)\n",
    "    ind_bpz[id_test ==i] = True\n",
    "    \n",
    "Ntot = len(id_test)\n",
    "print 'N_bpz:', N_bpz, 'n_trkde:',n_trkde, 'n_au:',N_au, 'total', len(id_test)"
   ]
  },
  {
   "cell_type": "code",
   "execution_count": null,
   "metadata": {
    "collapsed": false
   },
   "outputs": [],
   "source": [
    "f = plt.figure()\n",
    "\n",
    "plt.errorbar([res_[i]['REDSHIFT'][0] for i in index_keep_trkde], \n",
    "             [res_[i]['score_trkde']['other']['median'] for i in index_keep_trkde], \n",
    "          yerr = [res_[i]['score_trkde']['other']['sigma_68'] for i in index_keep_trkde]  ,\n",
    "             fmt='o', label='Spec+KDE {:0.2f}%'.format(n_trkde*1e2/Ntot))\n",
    "\n",
    "plt.errorbar([res_[i]['REDSHIFT'][0] for i in index_keep_bpz], [res_[i]['score_BPZ']['other']['median'] for i in index_keep_bpz], \n",
    "          yerr = [res_[i]['score_BPZ']['other']['sigma_68'] for i in index_keep_bpz]\n",
    "             ,fmt='o', label='BPZ {:0.2f}%'.format(N_bpz*1e2/Ntot))\n",
    "\n",
    "plt.errorbar([res_[i]['REDSHIFT'][0] for i in index_keep_au], [res_[i]['score_au']['other']['median'] for i in index_keep_au], \n",
    "          yerr = [res_[i]['score_au']['other']['sigma_68'] for i in index_keep_au]  ,\n",
    "             fmt='o', label='BCC {:0.2f}%'.format(N_au*1e2/Ntot))\n",
    "\n",
    "\n",
    "plt.xlabel('True Redshift')\n",
    "plt.ylabel('$\\mu \\pm \\sigma_{68}$')\n",
    "plt.legend()\n"
   ]
  },
  {
   "cell_type": "code",
   "execution_count": null,
   "metadata": {
    "collapsed": false
   },
   "outputs": [],
   "source": [
    "zbins = [0.0, 0.1, 0.2, 0.3, 0.5, 0.7, 0.9, 1.1, 1.3]\n",
    "\n",
    "z = {\n",
    "     'spec-z_kde': [predict_tr_kde[ind_trkde], zmc_tr_kde[ind_trkde], \n",
    "                    ExtraColsDict_tst['REDSHIFT'][ind_trkde], n_trkde*1e2/Ntot],\n",
    "     'BPZ': [ExtraColsDict_tst['MEAN_Z'][ind_bpz], ExtraColsDict_tst['Z_MC'][ind_bpz], \n",
    "             ExtraColsDict_tst['REDSHIFT'][ind_bpz], N_bpz*1e2/Ntot],\n",
    "     'BCC': [predict_au[ind_au], zmc_au[ind_au], \n",
    "             ExtraColsDict_tst['REDSHIFT'][ind_au], N_au*1e2/Ntot]\n",
    "    }\n",
    "wl_res = {}\n",
    "\n",
    "for ky in z.keys():\n",
    "    wl_res[ky] = {}\n",
    "    for i in range(len(zbins) -1):\n",
    "        ind = ( z[ky][0] >=zbins[i]) * (z[ky][0] < zbins[i+1])\n",
    "        if np.sum(ind) > 1:\n",
    "            wl_res[ky][np.mean(z[ky][0][ind])] = np.abs(np.mean(z[ky][1][ind]) - np.mean(z[ky][2][ind]))\n",
    "\n",
    "for ky in z.keys():\n",
    "    zs = np.array(wl_res[ky].keys())\n",
    "    zs = np.sort(zs) \n",
    "    plt.plot(zs, [wl_res[ky][j] for j in zs], label=ky + ' {:0.2f}%'.format(z[ky][3]))\n",
    "\n",
    "plt.plot(zs, [0.02] * len(zs), '--', linewidth=3, label='WL req.')\n",
    "\n",
    "plt.legend()\n",
    "plt.xlabel('Mean of tomographic redshift bin')\n",
    "plt.ylabel('ML metric |<true>-<pz>|')\n",
    "plt.ylim(-0.01, 0.08)\n",
    "\n"
   ]
  },
  {
   "cell_type": "markdown",
   "metadata": {},
   "source": [
    "<h3>Add additional source of error from sample variance, from sims</h3>"
   ]
  },
  {
   "cell_type": "code",
   "execution_count": null,
   "metadata": {
    "collapsed": true
   },
   "outputs": [],
   "source": [
    "r = pickle.load(open('/Users/hoyleb/DATA/DES/PHOTOZ/Y1v103/cosvariance_cosmos_z_metrics.p', 'r'))"
   ]
  },
  {
   "cell_type": "code",
   "execution_count": null,
   "metadata": {
    "collapsed": false
   },
   "outputs": [],
   "source": [
    "r.keys()"
   ]
  },
  {
   "cell_type": "code",
   "execution_count": null,
   "metadata": {
    "collapsed": false
   },
   "outputs": [],
   "source": [
    "r['res']['/Users/hoyleb/Sites/DES/PHOTOZ/MASKS/rotated_masks/IPRING.4096.CosmosXDES._24_.txt'].keys()"
   ]
  },
  {
   "cell_type": "code",
   "execution_count": null,
   "metadata": {
    "collapsed": true
   },
   "outputs": [],
   "source": [
    "r_ = {}\n",
    "for i in range(len(r['z_bins'])-1):\n",
    "    median = []\n",
    "    sigma_68 = []\n",
    "    wl_metric = []\n",
    "    for j in r['res'].keys():\n",
    "        wl_metric.append(r['res'][j][i]['wl_metric'])\n",
    "        median.append(r['res'][j][i]['median'])\n",
    "        sigma_68.append(r['res'][j][i]['sigma_68'])\n",
    "    r_[i] = {}\n",
    "    r_[i]['median'] = median\n",
    "    r_[i]['sigma_68'] = sigma_68\n",
    "    r_[i]['wl_metric'] = wl_metric"
   ]
  },
  {
   "cell_type": "code",
   "execution_count": null,
   "metadata": {
    "collapsed": false,
    "scrolled": false
   },
   "outputs": [],
   "source": [
    "\n",
    "z = (r['z_bins'][1:] + r['z_bins'][0:-1]) / 2.0\n",
    "ind_z = range(len(z)) \n",
    "\n",
    "f= plt.figure()\n",
    "plt.errorbar(z, [np.mean(r_[i]['median']) for i in ind_z], yerr=[np.std(r_[i]['median']) for i in ind_z], fmt='o', label='Patches')\n",
    "plt.plot(z, [np.mean(r['full_y1_cosmo'][i]['median']) for i in ind_z], '-', label='Y1 full cosmos')\n",
    "plt.plot(z, [np.mean(r['full_y1_truez'][i]['median']) for i in ind_z], '--', label='Y1 full specz')\n",
    "plt.legend(loc=2)\n",
    "plt.xlabel('tomographic bin')\n",
    "plt.ylabel('mean, dispersion of $\\mu$')\n",
    "\n",
    "f= plt.figure()\n",
    "plt.errorbar(z, [np.mean(r_[i]['sigma_68']) for i in ind_z], yerr=[np.std(r_[i]['sigma_68']) for i in ind_z], fmt='o', label='Patches')\n",
    "plt.plot(z, [np.mean(r['full_y1_cosmo'][i]['sigma_68']) for i in ind_z], '-', label='Y1 full cosmos')\n",
    "plt.plot(z, [np.mean(r['full_y1_truez'][i]['sigma_68']) for i in ind_z], '--', label='Y1 full specz')\n",
    "plt.legend(loc=2)\n",
    "plt.xlabel('tomographic bin')\n",
    "plt.ylabel('mean, dispersion of $\\sigma_{68}$')\n",
    "\n",
    "f= plt.figure()\n",
    "plt.errorbar(z, [np.mean(r_[i]['wl_metric']) for i in ind_z], yerr=[np.std(r_[i]['wl_metric']) for i in ind_z], fmt='o', label='Patches')\n",
    "plt.plot(z, [np.mean(r['full_y1_cosmo'][i]['wl_metric']) for i in ind_z], '-', label='Y1 full cosmos')\n",
    "plt.plot(z, [np.mean(r['full_y1_truez'][i]['wl_metric']) for i in ind_z], '--', label='Y1 full specz')\n",
    "plt.legend(loc=2)\n",
    "plt.xlabel('tomographic bin')\n",
    "plt.ylabel('mean, dispersion of WL metric')\n"
   ]
  },
  {
   "cell_type": "code",
   "execution_count": null,
   "metadata": {
    "collapsed": false,
    "scrolled": false
   },
   "outputs": [],
   "source": [
    "for i in ind_z:\n",
    "    f = plt.figure()\n",
    "    _1 = plt.hist(r_[i]['median'], bins=20, normed=True, label='$\\mu(\\Delta(z))$')\n",
    "    plt.plot([r['full_y1_cosmo'][i]['median']]*2, [0, np.amax(_1[0])*1.1], linewidth=4, label='FullY1 cosmo-z')\n",
    "    plt.plot([r['full_y1_truez'][i]['median']]*2, [0, np.amax(_1[0])*1.1], '--', linewidth=4, label='FullY1 spec-z')\n",
    "    arr = np.sort(np.array(r_[i]['median']))\n",
    "    s1 = arr[len(arr)*0.15]\n",
    "    s2 = arr[len(arr)*0.85]\n",
    "    plt.plot([s1]*2, [0, np.amax(_1[0])*1.1], '-', color='yellow', linewidth=4, label='68% {:0.4f}'.format((s2-s1)/2.0))\n",
    "    plt.plot([s2]*2, [0, np.amax(_1[0])*1.1], '-', color='yellow', linewidth=4)\n",
    "    \n",
    "    plt.title('{:0.3f}<z<{:0.3f}'.format(r['z_bins'][i], r['z_bins'][i+1]))\n",
    "    plt.legend()\n",
    "\n",
    "for i in ind_z:\n",
    "    f = plt.figure()\n",
    "    _1 = plt.hist(r_[i]['sigma_68'], bins=20, normed=True, label='$\\sigma_{68}(\\Delta(z))$')\n",
    "    plt.plot([r['full_y1_cosmo'][i]['sigma_68']]*2, [0, np.amax(_1[0])*1.1], linewidth=4, label='FullY1 cosmo-z')\n",
    "    plt.plot([r['full_y1_truez'][i]['sigma_68']]*2, [0, np.amax(_1[0])*1.1], '--', linewidth=4, label='FullY1 spec-z')\n",
    "    arr = np.sort(np.array(r_[i]['sigma_68']))\n",
    "    s1 = arr[len(arr)*0.15]\n",
    "    s2 = arr[len(arr)*0.85]\n",
    "    plt.plot([s1]*2, [0, np.amax(_1[0])*1.1], '-', color='yellow', linewidth=4, label='68% {:0.4f}'.format((s2-s1)/2.0))\n",
    "    plt.plot([s2]*2, [0, np.amax(_1[0])*1.1], '-', color='yellow', linewidth=4)\n",
    "    \n",
    "    plt.title('{:0.3f}<z<{:0.3f}'.format(r['z_bins'][i], r['z_bins'][i+1]))\n",
    "    plt.legend()\n",
    "    \n",
    "for i in ind_z:\n",
    "    f = plt.figure()\n",
    "    _1 = plt.hist(r_[i]['wl_metric'], bins=20, normed=True, label='WL metric')\n",
    "    plt.plot([r['full_y1_cosmo'][i]['wl_metric']]*2, [0, np.amax(_1[0])*1.1], linewidth=4, label='FullY1 cosmo-z')\n",
    "    plt.plot([r['full_y1_truez'][i]['wl_metric']]*2, [0, np.amax(_1[0])*1.1], '--', linewidth=4, label='FullY1 spec-z')\n",
    "    arr = np.sort(np.array(r_[i]['wl_metric']))\n",
    "    s1 = arr[len(arr)*0.15]\n",
    "    s2 = arr[len(arr)*0.85]\n",
    "    plt.plot([s1]*2, [0, np.amax(_1[0])*1.1], '-', color='yellow', linewidth=4, label='68% {:0.4f}'.format((s2-s1)/2.0))\n",
    "    plt.plot([s2]*2, [0, np.amax(_1[0])*1.1], '-', color='yellow', linewidth=4)\n",
    "    \n",
    "    plt.title('{:0.3f}<z<{:0.3f}'.format(r['z_bins'][i], r['z_bins'][i+1]))\n",
    "    plt.legend()\n",
    "    "
   ]
  },
  {
   "cell_type": "code",
   "execution_count": null,
   "metadata": {
    "collapsed": false
   },
   "outputs": [],
   "source": []
  },
  {
   "cell_type": "code",
   "execution_count": null,
   "metadata": {
    "collapsed": false
   },
   "outputs": [],
   "source": [
    "print np.unique(ExtraColsDict_tr['SOURCE']), np.unique(ExtraColsDict_tr['FLAG'])"
   ]
  },
  {
   "cell_type": "markdown",
   "metadata": {},
   "source": [
    "\n",
    "<h3>Try different training data schemes</h3>"
   ]
  },
  {
   "cell_type": "code",
   "execution_count": null,
   "metadata": {
    "collapsed": false
   },
   "outputs": [],
   "source": [
    "from bh_parallelise import Parrallelise\n",
    "from sklearn.covariance import EllipticEnvelope\n",
    "import copy\n",
    "inputs_tr, ExtraColsDict_tr = ml.dataSet(train_spec,  ['MAGERR_AUTO_I', 'MAG_AUTO_I', 'MAG_AUTO_G', 'MAG_AUTO_R', \n",
    "                                                       'MAG_AUTO_Z', 'Z'], ['COADD_OBJECTS_ID','Z', 'MAGERR_AUTO_I', \n",
    "                  'MAG_AUTO_I', 'MAG_AUTO_G', 'MAG_AUTO_R', \n",
    "                  'MAG_AUTO_Z', 'FLAG_DES', 'FLAG', 'SOURCE', 'ERR_Z',\n",
    "                  'MAGERR_AUTO_G', 'MAGERR_AUTO_R', 'MAGERR_AUTO_I', 'MAGERR_AUTO_Z']).loadData()\n",
    "\n",
    "ind = (ExtraColsDict_tr['MAGERR_AUTO_I']<0.1\n",
    "       ) * (ExtraColsDict_tr['MAG_AUTO_I'] < 23.6)* (ExtraColsDict_tr['MAG_AUTO_I'] > 16.9\n",
    "        )\n",
    "\n",
    "for i in ['MAG_AUTO_G', 'MAG_AUTO_R', 'MAG_AUTO_I', 'MAG_AUTO_Z']:\n",
    "    ind *= ExtraColsDict_tr[i] < 30\n",
    "    ind *= ExtraColsDict_tr[i] > 14\n",
    "\n",
    "for i in ['MAGERR_AUTO_G', 'MAGERR_AUTO_R', 'MAGERR_AUTO_I', 'MAGERR_AUTO_Z']:\n",
    "    ind *= ExtraColsDict_tr[i] < 0.3\n",
    "    ind *= ExtraColsDict_tr[i] > 0\n",
    "#first remove any data not within 1class SVM of test photometry:\n",
    "anom_clf = EllipticEnvelope(contamination=0.2)\n",
    "anom_clf.fit(inputs_tr[ind])\n",
    "pred_tr = anom_clf.predict(inputs_tr)"
   ]
  },
  {
   "cell_type": "code",
   "execution_count": null,
   "metadata": {
    "collapsed": false
   },
   "outputs": [],
   "source": [
    "np.sum(np.array(['DEEP' not in i for i in ExtraColsDict_tr['SOURCE']]) ), len( ExtraColsDict_tr['SOURCE'])"
   ]
  },
  {
   "cell_type": "code",
   "execution_count": null,
   "metadata": {
    "collapsed": false
   },
   "outputs": [],
   "source": [
    "#+ ['MEAN_Z','MODE_Z']\n",
    "inputs_tr, ExtraColsDict_tr = ml.dataSet(train_spec, features + ['MEAN_Z','MODE_Z'] , ['COADD_OBJECTS_ID','Z', 'MAGERR_AUTO_I', \n",
    "                  'MAG_AUTO_I', 'MAG_AUTO_G', 'MAG_AUTO_R', \n",
    "                  'MAG_AUTO_Z', 'FLAG_DES', 'FLAG', 'SOURCE', 'ERR_Z',\n",
    "                  'MAGERR_AUTO_G', 'MAGERR_AUTO_R', 'MAGERR_AUTO_I', 'MAGERR_AUTO_Z']).loadData()\n",
    "\n",
    "inputs_tst, ExtraColsDict_tst = ml.dataSet(test_phot, features + ['MEAN_Z','MODE_Z'], ['COADD_OBJECTS_ID', 'REDSHIFT', \n",
    "                                                                 'MAG_AUTO_I', 'MEAN_Z', 'MODE_Z', 'Z_MC']).loadData()\n",
    "\n",
    "ind = (ExtraColsDict_tr['FLAG']>2) * (ExtraColsDict_tr['FLAG_DES']>2) * (ExtraColsDict_tr['MAGERR_AUTO_I']<0.3\n",
    "       ) * (ExtraColsDict_tr['MAG_AUTO_I'] < 23.6)* (ExtraColsDict_tr['MAG_AUTO_I'] > 16.9\n",
    "        )#*np.array(['PRIMUS' not in i for i in ExtraColsDict_tr['SOURCE']]) \n",
    "\n",
    "#ind *= pred_tr>0\n",
    "for i in ['MAG_AUTO_G', 'MAG_AUTO_R', 'MAG_AUTO_I', 'MAG_AUTO_Z']:\n",
    "    ind *= ExtraColsDict_tr[i] < 30\n",
    "    ind *= ExtraColsDict_tr[i] > 14\n",
    "\n",
    "for i in ['MAGERR_AUTO_G', 'MAGERR_AUTO_R', 'MAGERR_AUTO_I', 'MAGERR_AUTO_Z']:\n",
    "    ind *= ExtraColsDict_tr[i] < 0.3\n",
    "    ind *= ExtraColsDict_tr[i] > 0\n",
    "\n",
    "#for i in range(len(inputs_tr[0])):\n",
    "#    ind *=np.isfinite(inputs_tr[:, i])\n",
    "\n",
    "print len(inputs_tr)\n",
    "inputs_tr = inputs_tr[ind]\n",
    "print len(inputs_tr)\n",
    "for i in ExtraColsDict_tr:\n",
    "    ExtraColsDict_tr[i] = ExtraColsDict_tr[i][ind]\n",
    "\n",
    "ExtraColsDict_tr['REDSHIFT'] = np.array(ExtraColsDict_tr['Z'])\n",
    "\n",
    "input_kde, output_kde = augd.kde_knn_augmented_data(inputs_tr, ExtraColsDict_tr['REDSHIFT'], \n",
    "                                                    inputs_tst, None, band_width=0.01,\n",
    "                                                    num_samples=100000,n_neighbors=1)\n",
    "input_kde = input_kde[output_kde>0]\n",
    "output_kde = output_kde[output_kde>0]\n",
    "inp_tr_kde = np.append(input_kde, inputs_tr, axis=0)\n",
    "outp_tr_kde = np.append(output_kde,ExtraColsDict_tr['REDSHIFT'])\n",
    "ind = np.arange(len(outp_tr_kde))\n",
    "np.random.shuffle(ind)\n",
    "\n",
    "outp_tr_kde = outp_tr_kde[ind]\n",
    "inp_tr_kde = inp_tr_kde[ind]\n",
    "\n",
    "import calculate_weights as cw\n",
    "n_neighbors_array = [3, 5]\n",
    "train_test = np.ones(len(inputs_tr))\n",
    "#train_test = cw.best_lima_knn_weights(inputs_tr,  inputs_tst,  verbose=1, n_neighbors_array=n_neighbors_array)\n",
    "\n",
    "Nfolds, Niterations = 3, 10\n",
    "res_bst, score_best_kde = k_fold_val(inputs_tr, ExtraColsDict_tr['REDSHIFT'], \n",
    "                                        train_test, Nfolds, Niterations)\n",
    "\n",
    "predict_bst  = res_bst['clf'].predict(inputs_tst)\n",
    "score_bst = get_score(ExtraColsDict_tst['REDSHIFT'], predict_bst,  sample_weight=np.ones(len(inputs_tst)))\n",
    "\n",
    "print score_bst\n",
    "res_tr_kde, score_best_kde = k_fold_val(inp_tr_kde, outp_tr_kde , \n",
    "                                        np.ones(len(outp_tr_kde)), Nfolds, Niterations)\n",
    "predict_tr_kde  = res_tr_kde['clf'].predict(inputs_tst)\n",
    "score_tr_kde = get_score(ExtraColsDict_tst['REDSHIFT'], predict_tr_kde,  sample_weight=np.ones(Ntest))\n",
    "print score_tr_kde\n"
   ]
  },
  {
   "cell_type": "code",
   "execution_count": null,
   "metadata": {
    "collapsed": true
   },
   "outputs": [],
   "source": [
    "score_tr\n",
    "{'other': {'errsig68': 8.377306526529115e-05, 'outlierFrac': 24.7322, 'median': -0.013634155817143747, \n",
    "           'sigma_68': 0.11847300505974119, 'sigma_95': 0.42517809731975492, 'sigma': 0.18569547947247639, \n",
    "           'mean': -0.039792278137452411}, 'r2': 0.33690634692140831}\n",
    "score_kde\n",
    "{'other': {'errsig68': 8.1026983974939254e-05, 'outlierFrac': 24.3307, 'median': -0.0092837632327777454, \n",
    "           'sigma_68': 0.11458945965554654, 'sigma_95': 0.44203233807759124, 'sigma': 0.19400098628355841, \n",
    "           'mean': -0.029091219867757909}, 'r2': 0.25613692780904007}\n",
    "score_tr_kde\n",
    "{'other': {'errsig68': 8.3043102693790535e-05, 'outlierFrac': 24.541, 'median': -0.01219703975659019, \n",
    "           'sigma_68': 0.11744068209110028, 'sigma_95': 0.42911992771312868, 'sigma': 0.18496614746345239, \n",
    "           'mean': -0.036349865516112086}, 'r2': 0.32545001593332801}\n",
    "score_BPZ\n",
    "{'other': {'errsig68': 8.1644922866576581e-05, 'outlierFrac': 22.1679, 'median': -0.010971645171854333, \n",
    "           'sigma_68': 0.11546335721681783, 'sigma_95': 0.42981947029351125, 'sigma': 0.21764185560139782, \n",
    "           'mean': -0.048221964105618985}, 'r2': 0.33538416933110204}"
   ]
  },
  {
   "cell_type": "code",
   "execution_count": null,
   "metadata": {
    "collapsed": true
   },
   "outputs": [],
   "source": [
    "(MAG_AUTO_I<23.5)&(MAG_AUTO_I>17) &(MAGERR_AUTO_I<0.3)&(MAGERR_AUTO_I>0)&(MAG_AUTO_G<30)&(MAG_AUTO_G>15)&(MAG_AUTO_R<30)&(MAG_AUTO_R>15)&(MAG_AUTO_I<30)&(MAG_AUTO_I>15)&(MAG_AUTO_Z<30)&(MAG_AUTO_z>15)\n"
   ]
  },
  {
   "cell_type": "markdown",
   "metadata": {},
   "source": [
    "<h3>Make machines ready for predictions</h3>"
   ]
  },
  {
   "cell_type": "code",
   "execution_count": null,
   "metadata": {
    "collapsed": false
   },
   "outputs": [],
   "source": [
    "inputs_tr, ExtraColsDict_tr = ml.dataSet(train_spec, features  , ['COADD_OBJECTS_ID','Z', 'MAGERR_AUTO_I', \n",
    "                  'MAG_AUTO_I', 'MAG_AUTO_G', 'MAG_AUTO_R', \n",
    "                  'MAG_AUTO_Z', 'FLAG_DES', 'FLAG', 'SOURCE', 'ERR_Z',\n",
    "                  'MAGERR_AUTO_G', 'MAGERR_AUTO_R', 'MAGERR_AUTO_I', 'MAGERR_AUTO_Z']).loadData()\n",
    "\n",
    "\n",
    "inputs_tst, ExtraColsDict_tst = ml.dataSet(test_phot, features , ['COADD_OBJECTS_ID', 'REDSHIFT', \n",
    "                                                                 'MAG_AUTO_I', 'MEAN_Z', 'MODE_Z', 'Z_MC']).loadData()\n",
    "\n",
    "\n",
    "#first remove any data not within 1class SVM of test photometry:\n",
    "anom_clf = ad.anomaly_detection(inputs_tst, inlier_fraction=0.99,verbose=True)\n",
    "pred_tr, dist, mahalanobis = ad.anomaly_predict_distance(anom_clf, inputs_tr)\n",
    "\n",
    "\n",
    "ind = (ExtraColsDict_tr['FLAG']>2) * (ExtraColsDict_tr['FLAG_DES']>2) * (ExtraColsDict_tr['MAGERR_AUTO_I']<0.3\n",
    "       ) * (ExtraColsDict_tr['MAG_AUTO_I'] < 23.6)* (ExtraColsDict_tr['MAG_AUTO_I'] > 16.9\n",
    "        )#*np.array(['PRIMUS' not in i for i in ExtraColsDict_tr['SOURCE']]) \n",
    "\n",
    "ind *= pred_tr>0\n",
    "for i in ['MAG_AUTO_G', 'MAG_AUTO_R', 'MAG_AUTO_I', 'MAG_AUTO_Z']:\n",
    "    ind *= ExtraColsDict_tr[i] < 30\n",
    "    ind *= ExtraColsDict_tr[i] > 14\n",
    "\n",
    "for i in ['MAGERR_AUTO_G', 'MAGERR_AUTO_R', 'MAGERR_AUTO_I', 'MAGERR_AUTO_Z']:\n",
    "    ind *= ExtraColsDict_tr[i] < 0.3\n",
    "    ind *= ExtraColsDict_tr[i] > 0\n",
    "\n",
    "#for i in range(len(inputs_tr[0])):\n",
    "#    ind *=np.isfinite(inputs_tr[:, i])\n",
    "\n",
    "print len(inputs_tr)\n",
    "inputs_tr = inputs_tr[ind]\n",
    "print len(inputs_tr)\n",
    "for i in ExtraColsDict_tr:\n",
    "    ExtraColsDict_tr[i] = ExtraColsDict_tr[i][ind]\n",
    "\n",
    "ExtraColsDict_tr['REDSHIFT'] = np.array(ExtraColsDict_tr['Z'])\n",
    "\n",
    "input_kde, output_kde = augd.kde_knn_augmented_data(inputs_tr, ExtraColsDict_tr['REDSHIFT'], \n",
    "                                                    inputs_tst, None, band_width=0.01,\n",
    "                                                    num_samples=100000,n_neighbors=1)\n",
    "input_kde = input_kde[output_kde>0]\n",
    "output_kde = output_kde[output_kde>0]\n",
    "inp_tr_kde = np.append(input_kde, inputs_tr, axis=0)\n",
    "outp_tr_kde = np.append(output_kde,ExtraColsDict_tr['REDSHIFT'])\n",
    "\n",
    "\n",
    "inputs_au, ExtraColsDict_au = ml.dataSet(sims, features, ['ID','REDSHIFT']).loadData()\n",
    "pred_au, dist, mahalanobis = ad.anomaly_predict_distance(anom_clf, inputs_au)\n",
    "ind  = pred_au>0\n",
    "ind *= ExtraColsDict_au['REDSHIFT'] > 1.3\n",
    "inputs_au = inputs_au[ind]\n",
    "for i in ExtraColsDict_au:\n",
    "    ExtraColsDict_au[i] = ExtraColsDict_au[i][ind]\n",
    "\n",
    "inp_tr_kde_sm = inp_tr_kde #= np.append(inp_tr_kde, inputs_au, axis=0)\n",
    "outp_tr_kde_sm = outp_tr_kde# np.append(outp_tr_kde, ExtraColsDict_au['REDSHIFT'])\n",
    "\n",
    "ind = np.arange(len(inp_tr_kde_sm))\n",
    "np.random.shuffle(ind)\n",
    "\n",
    "outp_tr_kde_sm = outp_tr_kde_sm[ind]\n",
    "inp_tr_kde_sm = inp_tr_kde_sm[ind]\n",
    "\n",
    "    \n",
    "Nfolds, Niterations = 3, 10\n",
    "\n",
    "res_tr_kde, score_best_kde = k_fold_val(inp_tr_kde_sm, outp_tr_kde_sm , \n",
    "                                        np.ones(len(outp_tr_kde_sm)), Nfolds, Niterations)\n",
    "predict_tr_kde  = res_tr_kde['clf'].predict(inputs_tst)"
   ]
  },
  {
   "cell_type": "code",
   "execution_count": null,
   "metadata": {
    "collapsed": false
   },
   "outputs": [],
   "source": [
    "score_tr_kde = get_score(ExtraColsDict_tst['REDSHIFT'], predict_tr_kde,  sample_weight=np.ones(len(ExtraColsDict_tst['REDSHIFT'])))\n",
    "print score_tr_kde\n",
    "\n",
    "print res_tr_kde.keys()"
   ]
  },
  {
   "cell_type": "code",
   "execution_count": null,
   "metadata": {
    "collapsed": true
   },
   "outputs": [],
   "source": [
    "res_tr_kde['features'] = {}\n",
    "res_tr_kde['features']['input'] = features\n",
    "res_tr_kde['features']['output'] = ['REDSHIFT']"
   ]
  },
  {
   "cell_type": "code",
   "execution_count": null,
   "metadata": {
    "collapsed": true
   },
   "outputs": [],
   "source": [
    "pickle.dump(res_tr_kde, open('/Users/hoyleb/DATA/DES/PHOTOZ/RESAMPLE_VALIDATION_Y1/ML_KDE_machine.v1.p','w'))"
   ]
  },
  {
   "cell_type": "markdown",
   "metadata": {},
   "source": [
    "<h2>Extract SPEC-z in Alhmabra./Cosmos and keep prediction files if IDs match</h2>"
   ]
  },
  {
   "cell_type": "code",
   "execution_count": null,
   "metadata": {
    "collapsed": false
   },
   "outputs": [],
   "source": [
    "\n",
    "d1 = Table.read('/Users/hoyleb/DATA/DES/PHOTOZ/Y1Spec_Matched_Alhambra.fits')\n",
    "d2 = Table.read('/Users/hoyleb/DATA/DES/PHOTOZ/Y1Spec_Matched_COSMOS.fits')\n"
   ]
  },
  {
   "cell_type": "code",
   "execution_count": null,
   "metadata": {
    "collapsed": false
   },
   "outputs": [],
   "source": [
    "id1 = np.array(d1['COADD_OBJECTS_ID_v102'])"
   ]
  },
  {
   "cell_type": "code",
   "execution_count": null,
   "metadata": {
    "collapsed": true
   },
   "outputs": [],
   "source": [
    "\n",
    "keepd2 = np.array([i not in id1 for i in np.array(d2['COADD_OBJECTS_ID_v102'])])\n"
   ]
  },
  {
   "cell_type": "code",
   "execution_count": null,
   "metadata": {
    "collapsed": false
   },
   "outputs": [],
   "source": [
    "from astropy.table import vstack\n",
    "\n",
    "d12 = vstack([d1, d2[keepd2]],join_type='outer')\n",
    "print len(d12)"
   ]
  },
  {
   "cell_type": "code",
   "execution_count": null,
   "metadata": {
    "collapsed": false
   },
   "outputs": [],
   "source": [
    "SOURCE = np.array([i.replace(' ','') != 'PRIMUS' for i in d12['SOURCE']])\n",
    "d12 = d12[SOURCE]\n",
    "FLAG = np.array([i > 2  for i in d12['FLAG']])\n",
    "d12 = d12[FLAG]\n",
    "print len(d12)\n",
    "d12 = d12[d12['MAGERR_AUTO_I']<0.3]\n",
    "d12 = d12[d12['MAGERR_AUTO_I']>0]\n",
    "d12 = d12[d12['MAG_AUTO_I']<23.5]\n",
    "d12 = d12[d12['MAG_AUTO_I']>17.0]\n",
    "\n",
    "print len(d12)\n",
    "\n",
    "for i in ['MAG_AUTO_G','MAG_AUTO_R', 'MAG_AUTO_I', 'MAG_AUTO_Z']:\n",
    "    d12 = d12[d12[i]<30]\n",
    "    d12 = d12[d12[i]>10]\n",
    "    \n",
    "for i in ['MAGERR_AUTO_G','MAGERR_AUTO_R', 'MAGERR_AUTO_I', 'MAGERR_AUTO_Z']:\n",
    "    d12 = d12[d12[i]<0.5]\n",
    "    d12 = d12[d12[i]>0]\n",
    "\n",
    "print len(d12)"
   ]
  },
  {
   "cell_type": "code",
   "execution_count": null,
   "metadata": {
    "collapsed": false
   },
   "outputs": [],
   "source": [
    "d = d12[['COADD_OBJECTS_ID_v102','SPEC_Z', 'SOURCE']]"
   ]
  },
  {
   "cell_type": "code",
   "execution_count": null,
   "metadata": {
    "collapsed": false
   },
   "outputs": [],
   "source": [
    "d['COADD_OBJECTS_ID'] = d['COADD_OBJECTS_ID_v102']"
   ]
  },
  {
   "cell_type": "code",
   "execution_count": null,
   "metadata": {
    "collapsed": true
   },
   "outputs": [],
   "source": [
    "del d['COADD_OBJECTS_ID_v102']\n"
   ]
  },
  {
   "cell_type": "code",
   "execution_count": null,
   "metadata": {
    "collapsed": false
   },
   "outputs": [],
   "source": [
    "import glob\n",
    "id_d = np.array(d['COADD_OBJECTS_ID'])\n",
    "zs = np.array(d['SPEC_Z'])\n",
    "for i in glob.glob('/Users/hoyleb/DATA/DES/PHOTOZ/RESAMPLE_VALIDATION_Y1_BPZ/RS_ALH_COS_BPz/*.fits') + glob.glob('/Users/hoyleb/DATA/DES/PHOTOZ/RESAMPLE_VALIDATION_Y1/RS_ALH_COS_*.v1.fitsML_KDE_machine.v1.DES.point.predictions.fits'):\n",
    "    d = Table.read(i)\n",
    "    keep = np.array([i1 in id_d for i1 in np.array(d['COADD_OBJECTS_ID'])])\n",
    "    d = d[keep]\n",
    "    spec_z = np.array([zs[i1 == id_d] for i1 in np.array(d['COADD_OBJECTS_ID'])])\n",
    "    d['SPEC_Z'] = spec_z\n",
    "    d.write(i + '.SPEC.fits')\n"
   ]
  },
  {
   "cell_type": "code",
   "execution_count": 3,
   "metadata": {
    "collapsed": false
   },
   "outputs": [],
   "source": [
    "d = Table.read('/Users/hoyleb/DATA/DES/PHOTOZ/RESAMPLE_VALIDATION_Y1_BPZ/RS_ALH_COS_BPz/RS_ALH_COS_94.bpz.v1.probs.fits')\n",
    "d1 = Table.read('/Users/hoyleb/DATA/DES/PHOTOZ/RESAMPLE_VALIDATION_Y1_BPZ/RS_ALH_COS_BPz/RS_ALH_COS_94.bpz.v1.probs.fits.SPEC.fits')"
   ]
  },
  {
   "cell_type": "code",
   "execution_count": 8,
   "metadata": {
    "collapsed": false
   },
   "outputs": [
    {
     "data": {
      "text/plain": [
       "<matplotlib.text.Text at 0x113c95490>"
      ]
     },
     "execution_count": 8,
     "metadata": {},
     "output_type": "execute_result"
    },
    {
     "data": {
      "image/png": "[encoded data removed]",
      "text/plain": [
       "<matplotlib.figure.Figure at 0x1109d1a10>"
      ]
     },
     "metadata": {},
     "output_type": "display_data"
    }
   ],
   "source": [
    "bn = np.arange(20)/10.0\n",
    "_ = plt.hist(d['REDSHIFT'],bins=bn,label='PHOTOZ #{:}'.format(len(d)), normed=True, alpha=0.5)\n",
    "_ = plt.hist(d1['SPEC_Z'],bins=bn, label='SPEC_Z #{:}'.format(len(d1)), normed=True, alpha=0.5)\n",
    "\n",
    "ind = np.arange(len(d))\n",
    "np.random.shuffle(ind)\n",
    "ind1 = ind < len(d1)\n",
    "#_ = plt.hist(d['REDSHIFT'][ind1],bins=bn,label='RNDPHOTOZ #{:}'.format(np.sum(ind1)), normed=True, alpha=0.5)\n",
    "\n",
    "plt.legend()\n",
    "plt.xlabel('Redshift')\n"
   ]
  },
  {
   "cell_type": "code",
   "execution_count": null,
   "metadata": {
    "collapsed": true
   },
   "outputs": [],
   "source": [
    "#make cosmos only photo-zs\n",
    "d = Table.read\n",
    "import glob\n",
    "id_d = np.array(d['COADD_OBJECTS_ID'])\n",
    "zs = np.array(d['SPEC_Z'])\n",
    "for i in glob.glob('/Users/hoyleb/DATA/DES/PHOTOZ/RESAMPLE_VALIDATION_Y1_BPZ/RS_ALH_COS_BPz/*.fits') + glob.glob('/Users/hoyleb/DATA/DES/PHOTOZ/RESAMPLE_VALIDATION_Y1/RS_ALH_COS_*.v1.fitsML_KDE_machine.v1.DES.point.predictions.fits'):\n",
    "    d = Table.read(i)\n",
    "    keep = np.array([i1 in id_d for i1 in np.array(d['COADD_OBJECTS_ID'])])\n",
    "    d = d[keep]\n",
    "    spec_z = np.array([zs[i1 == id_d] for i1 in np.array(d['COADD_OBJECTS_ID'])])\n",
    "    del d['REDSHIFT'] = spec_z\n",
    "    d.write(i + '.cos.fits')\n",
    "\n",
    "    \n",
    "\n"
   ]
  }
 ],
 "metadata": {
  "kernelspec": {
   "display_name": "Python 2",
   "language": "python",
   "name": "python2"
  },
  "language_info": {
   "codemirror_mode": {
    "name": "ipython",
    "version": 2
   },
   "file_extension": ".py",
   "mimetype": "text/x-python",
   "name": "python",
   "nbconvert_exporter": "python",
   "pygments_lexer": "ipython2",
   "version": "2.7.12"
  },
  "latex_envs": {
   "bibliofile": "biblio.bib",
   "cite_by": "apalike",
   "current_citInitial": 1,
   "eqLabelWithNumbers": true,
   "eqNumInitial": 0
  }
 },
 "nbformat": 4,
 "nbformat_minor": 0
}
